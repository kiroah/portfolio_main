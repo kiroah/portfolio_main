{
 "cells": [
  {
   "cell_type": "code",
   "execution_count": 2,
   "id": "87ef1ada-3cd4-43e8-9247-4a7c899e9d12",
   "metadata": {
    "tags": []
   },
   "outputs": [],
   "source": [
    "import pandas as pd\n",
    "from itables import init_notebook_mode\n",
    "from itables import show\n",
    "import matplotlib.pyplot as plt\n",
    "import seaborn as sns\n",
    "import math\n",
    "import numpy as np\n",
    "from textwrap import wrap\n",
    "import numpy.polynomial as poly\n",
    "import time\n",
    "from openai import OpenAI\n",
    "import os\n",
    "import re\n",
    "\n",
    "from tqdm import tqdm\n",
    "\n",
    "import pickle\n"
   ]
  },
  {
   "cell_type": "code",
   "execution_count": 4,
   "id": "585258e2-ab99-4708-a3c0-cd4c7316c435",
   "metadata": {
    "tags": []
   },
   "outputs": [],
   "source": [
    "data_folder = 'data/'\n",
    "\n",
    "world_happiness_file = 'world_happiness.csv'\n",
    "column_renames = {\n",
    "    'Country name': 'country',\n",
    "    'value': 'whp',\n",
    "}    "
   ]
  },
  {
   "cell_type": "code",
   "execution_count": 6,
   "id": "465d4b8f-dec7-4901-b71b-24d21cec8c8e",
   "metadata": {
    "tags": []
   },
   "outputs": [],
   "source": [
    "world_happiness_df = pd.read_csv(data_folder +world_happiness_file)\n",
    "world_happiness_df = world_happiness_df.rename(columns=column_renames).melt(id_vars=['country','year'],var_name='series',value_name='whp')\n",
    "world_happiness_df = world_happiness_df.loc[world_happiness_df['series'] == \"Life Ladder\"]\n",
    "world_happiness_df['whp'] = pd.to_numeric(world_happiness_df['whp'])"
   ]
  },
  {
   "cell_type": "code",
   "execution_count": 8,
   "id": "9711535c-b5da-4715-b07a-3afb2773e2b5",
   "metadata": {
    "tags": []
   },
   "outputs": [],
   "source": [
    "chatgpt_happiness_df = pd.DataFrame(world_happiness_df['country'].unique())\n",
    "chatgpt_happiness_df.rename(columns={0:'country'},inplace=True)\n",
    "chatgpt_happiness_df['year'] = 2023\n"
   ]
  },
  {
   "cell_type": "code",
   "execution_count": 10,
   "id": "8d16fffb-44ea-4a84-8da1-490e89e08183",
   "metadata": {},
   "outputs": [],
   "source": [
    "client = OpenAI(api_key=os.environ.get(\"OPENAI_API_KEY\"))"
   ]
  },
  {
   "cell_type": "code",
   "execution_count": 12,
   "id": "ac514cff-6eb0-4f00-9854-da5400ccbe8d",
   "metadata": {
    "tags": []
   },
   "outputs": [],
   "source": [
    "def happiness_by_chatgpt(row):\n",
    "    \"\"\"Calls chatGPT \n",
    "    \"\"\"\n",
    "    # system = f\"You are an average person living in {row['country']} in year {row['year']}.\"\n",
    "#     question1 = \"How would you rate your current life as a whole using the image of a ladder, \\\n",
    "# with the best possible life for you as a 10 and worst possible as a 0? Provide your \\\n",
    "# answer with an exact number with decimals instead of a range and the sections explaining \\\n",
    "# the reasons that drives the number higher and the reasons that drives the number lower.\"\n",
    "    question2 = f'If you are to survey 1000 randomly sampled people in {row[\"country\"]} in the year {row[\"year\"]} with \\\n",
    "the question of, \\\n",
    "\"Evaluate your current life as a whole using the image of a ladder, with the best possible life for you as \\\n",
    "a 10 and worst possible as a 0\", what do you think the average would be. Provide your answer with an exact \\\n",
    "number with two decimal points instead of a range and the sections explaining the reasons that drives the number \\\n",
    "higher and the reasons that drives the number lower. '\n",
    "    \n",
    "    completion = client.chat.completions.create(\n",
    "      model=\"gpt-4o\",\n",
    "      messages=[\n",
    "        # {\"role\": \"system\", \"content\": system},\n",
    "        {\"role\": \"user\", \"content\": question2}\n",
    "      ]\n",
    "    )\n",
    "    return completion.choices[0].message.content\n",
    "\n"
   ]
  },
  {
   "cell_type": "code",
   "execution_count": 225,
   "id": "c8adb7bd-29bc-43b3-9479-2e2324f5994f",
   "metadata": {
    "tags": []
   },
   "outputs": [],
   "source": [
    "with open(\"japanonly_chatgpt_happiness_df.pkl\", \"wb\") as f:\n",
    "  # Pickle the dictionary and write it to the file\n",
    "  pickle.dump(japanonly_chatgpt_happiness_df, f)\n"
   ]
  },
  {
   "cell_type": "code",
   "execution_count": 118,
   "id": "bb3a235b-45cf-4b19-8e66-d359e79efd5e",
   "metadata": {
    "tags": []
   },
   "outputs": [
    {
     "name": "stderr",
     "output_type": "stream",
     "text": [
      "100%|██████████| 165/165 [26:55<00:00,  9.79s/it]"
     ]
    },
    {
     "name": "stdout",
     "output_type": "stream",
     "text": [
      "CPU times: total: 1.36 s\n",
      "Wall time: 26min 56s\n"
     ]
    },
    {
     "name": "stderr",
     "output_type": "stream",
     "text": [
      "\n"
     ]
    }
   ],
   "source": [
    "%%time\n",
    "\n",
    "tqdm.pandas()\n",
    "\n",
    "chatgpt_happiness_df['raw answer'] = chatgpt_happiness_df.progress_apply(happiness_by_chatgpt,axis=1)\n",
    "    \n"
   ]
  },
  {
   "cell_type": "code",
   "execution_count": 119,
   "id": "4b03eecc-e3e5-4d8e-817d-14189bb22df9",
   "metadata": {
    "tags": []
   },
   "outputs": [],
   "source": [
    "with open(\"chatgpt_happiness_df_q2.pkl\", \"wb\") as f:\n",
    "  # Pickle the dictionary and write it to the file\n",
    "  pickle.dump(chatgpt_happiness_df, f)\n"
   ]
  },
  {
   "cell_type": "markdown",
   "id": "78fd8c67-c3fd-4424-a265-1d65f27dab79",
   "metadata": {
    "tags": []
   },
   "source": [
    "sns.lineplot(combined_df,x='year',y"
   ]
  },
  {
   "cell_type": "code",
   "execution_count": 180,
   "id": "9e457ebb-9392-4712-84c9-b84d3f3ecc32",
   "metadata": {
    "tags": []
   },
   "outputs": [],
   "source": [
    "pattern = r\"(\\d+\\.\\d+)\"\n",
    "\n",
    "chatgpt_happiness_df['chatgpt'] = chatgpt_happiness_df['raw answer'].str.extract(pattern,expand=False)\n",
    "chatgpt_happiness_df['chatgpt'] = pd.to_numeric(chatgpt_happiness_df['chatgpt'])"
   ]
  },
  {
   "cell_type": "code",
   "execution_count": 182,
   "id": "00ae00bf-61dd-499e-aa0a-49e476c01c97",
   "metadata": {
    "tags": []
   },
   "outputs": [
    {
     "data": {
      "text/html": [
       "<table id=\"itables_e7d82c53_77a7_41f9_bb13_3cb29b2c840c\" class=\"display nowrap\" data-quarto-disable-processing=\"true\" style=\"table-layout:auto;width:auto;margin:auto;caption-side:bottom\">\n",
       "<thead>\n",
       "    <tr style=\"text-align: right;\">\n",
       "      \n",
       "      <th>country</th>\n",
       "      <th>chatgpt</th>\n",
       "    </tr>\n",
       "  </thead><tbody><tr><td>Loading... (need <a href=https://mwouts.github.io/itables/troubleshooting.html>help</a>?)</td></tr></tbody>\n",
       "\n",
       "</table>\n",
       "<link href=\"https://www.unpkg.com/dt_for_itables@2.0.1/dt_bundle.css\" rel=\"stylesheet\">\n",
       "<script type=\"module\">\n",
       "    import {DataTable, jQuery as $} from 'https://www.unpkg.com/dt_for_itables@2.0.1/dt_bundle.js';\n",
       "\n",
       "    document.querySelectorAll(\"#itables_e7d82c53_77a7_41f9_bb13_3cb29b2c840c:not(.dataTable)\").forEach(table => {\n",
       "        // Define the table data\n",
       "        const data = [[\"Afghanistan\", 3.25], [\"Albania\", 4.5], [\"Algeria\", 5.75], [\"Angola\", 4.85], [\"Argentina\", 6.25], [\"Armenia\", 5.75], [\"Australia\", 7.35], [\"Austria\", 7.3], [\"Azerbaijan\", 5.75], [\"Bahrain\", 6.8], [\"Bangladesh\", 5.6], [\"Belarus\", 5.75], [\"Belgium\", 6.8], [\"Belize\", 6.75], [\"Benin\", 5.25], [\"Bhutan\", 6.5], [\"Bolivia\", 5.85], [\"Bosnia and Herzegovina\", 5.75], [\"Botswana\", 5.75], [\"Brazil\", 6.5], [\"Bulgaria\", 5.9], [\"Burkina Faso\", 3.5], [\"Burundi\", 3.25], [\"Cambodia\", 5.65], [\"Cameroon\", 4.5], [\"Canada\", 7.1], [\"Central African Republic\", 3.75], [\"Chad\", 3.5], [\"Chile\", 6.7], [\"China\", 6.5], [\"Colombia\", 6.5], [\"Comoros\", 5.75], [\"Congo (Brazzaville)\", 4.75], [\"Congo (Kinshasa)\", 4.5], [\"Costa Rica\", 6.85], [\"Croatia\", 5.5], [\"Cuba\", 5.75], [\"Cyprus\", 6.75], [\"Czechia\", 6.8], [\"Denmark\", 7.5], [\"Djibouti\", 5.25], [\"Dominican Republic\", 6.5], [\"Ecuador\", 5.8], [\"Egypt\", 5.5], [\"El Salvador\", 5.75], [\"Estonia\", 6.85], [\"Eswatini\", 5.25], [\"Ethiopia\", 5.25], [\"Finland\", 7.82], [\"France\", 6.81], [\"Gabon\", 5.7], [\"Gambia\", 4.5], [\"Georgia\", 6.75], [\"Germany\", 7.0], [\"Ghana\", 5.75], [\"Greece\", 5.5], [\"Guatemala\", 6.4], [\"Guinea\", 4.5], [\"Guyana\", 5.9], [\"Haiti\", 4.5], [\"Honduras\", 5.2], [\"Hong Kong S.A.R. of China\", 6.85], [\"Hungary\", 6.5], [\"Iceland\", 7.59], [\"India\", 6.25], [\"Indonesia\", 6.45], [\"Iran\", 4.75], [\"Iraq\", 4.75], [\"Ireland\", 7.0], [\"Israel\", 6.85], [\"Italy\", 6.78], [\"Ivory Coast\", 5.4], [\"Jamaica\", 6.75], [\"Japan\", 6.5], [\"Jordan\", 5.75], [\"Kazakhstan\", 5.85], [\"Kenya\", 5.75], [\"Kosovo\", 6.28], [\"Kuwait\", 7.25], [\"Kyrgyzstan\", 4.65], [\"Laos\", 5.75], [\"Latvia\", 5.75], [\"Lebanon\", 4.25], [\"Lesotho\", 4.37], [\"Liberia\", 4.25], [\"Libya\", 4.75], [\"Lithuania\", 6.95], [\"Luxembourg\", 7.82], [\"Madagascar\", 4.25], [\"Malawi\", 3.5], [\"Malaysia\", 6.75], [\"Maldives\", 6.78], [\"Mali\", 4.5], [\"Malta\", 7.65], [\"Mauritania\", 4.5], [\"Mauritius\", 6.85], [\"Mexico\", 6.55], [\"Moldova\", 5.6], [\"Mongolia\", 5.8], [\"Montenegro\", 5.75], [\"Morocco\", 5.5], [\"Mozambique\", 4.85], [\"Myanmar\", 4.5], [\"Namibia\", 5.5], [\"Nepal\", 5.75], [\"Netherlands\", 7.5], [\"New Zealand\", 7.1], [\"Nicaragua\", 5.75], [\"Niger\", 4.25], [\"Nigeria\", 4.75], [\"North Macedonia\", 5.75], [\"Norway\", 7.65], [\"Oman\", 6.85], [\"Pakistan\", 5.75], [\"Panama\", 6.75], [\"Paraguay\", 6.8], [\"Peru\", 6.75], [\"Philippines\", 5.5], [\"Poland\", 6.75], [\"Portugal\", 6.75], [\"Qatar\", 7.8], [\"Romania\", 6.35], [\"Russia\", 5.8], [\"Rwanda\", 5.7], [\"Saudi Arabia\", 6.75], [\"Senegal\", 4.25], [\"Serbia\", 5.7], [\"Sierra Leone\", 4.75], [\"Singapore\", 7.25], [\"Slovakia\", 6.87], [\"Slovenia\", 6.85], [\"Somalia\", 4.0], [\"Somaliland region\", 4.75], [\"South Africa\", 4.9], [\"South Korea\", 6.8], [\"South Sudan\", 3.75], [\"Spain\", 6.5], [\"Sri Lanka\", 5.25], [\"State of Palestine\", 5.5], [\"Sudan\", 4.28], [\"Suriname\", 6.25], [\"Sweden\", 7.5], [\"Switzerland\", 7.8], [\"Syria\", 3.2], [\"Taiwan Province of China\", 6.75], [\"Tajikistan\", 5.75], [\"Tanzania\", 5.5], [\"Thailand\", 6.25], [\"Togo\", 4.35], [\"Trinidad and Tobago\", 6.75], [\"Tunisia\", 5.75], [\"Turkmenistan\", 4.75], [\"T\\u00fcrkiye\", 5.75], [\"Uganda\", 4.5], [\"Ukraine\", 5.75], [\"United Arab Emirates\", 7.2], [\"United Kingdom\", 6.75], [\"United States\", 6.85], [\"Uruguay\", 6.87], [\"Uzbekistan\", 6.25], [\"Venezuela\", 4.5], [\"Vietnam\", 6.75], [\"Yemen\", 3.5], [\"Zambia\", 4.75], [\"Zimbabwe\", 5.5]];\n",
       "\n",
       "        // Define the dt_args\n",
       "        let dt_args = {\"layout\": {\"topStart\": \"pageLength\", \"topEnd\": \"search\", \"bottomStart\": \"info\", \"bottomEnd\": \"paging\"}, \"order\": [], \"warn_on_dom\": true};\n",
       "        dt_args[\"data\"] = data;\n",
       "\n",
       "        \n",
       "        new DataTable(table, dt_args);\n",
       "    });\n",
       "</script>\n"
      ],
      "text/plain": [
       "<IPython.core.display.HTML object>"
      ]
     },
     "metadata": {},
     "output_type": "display_data"
    }
   ],
   "source": [
    "show(chatgpt_happiness_df[['country','chatgpt']])"
   ]
  },
  {
   "cell_type": "code",
   "execution_count": 186,
   "id": "68a29469-8652-49ae-b993-a6532aafecd9",
   "metadata": {
    "tags": []
   },
   "outputs": [],
   "source": [
    "combined_df = pd.merge(world_happiness_df,chatgpt_happiness_df,on=['country','year'],how=\"left\")"
   ]
  },
  {
   "cell_type": "code",
   "execution_count": 188,
   "id": "99a7eeb9-2f75-449d-bb04-52f37239a6f1",
   "metadata": {
    "tags": []
   },
   "outputs": [],
   "source": [
    "combined_df['diff'] = combined_df['whp'] - combined_df['chatgpt']"
   ]
  },
  {
   "cell_type": "code",
   "execution_count": 210,
   "id": "63219f67-3dcd-46cb-a2bc-76bc166078da",
   "metadata": {
    "tags": []
   },
   "outputs": [],
   "source": [
    "df = combined_df.loc[combined_df['year']==2023,['country','whp','chatgpt','diff']]"
   ]
  },
  {
   "cell_type": "code",
   "execution_count": 194,
   "id": "f85886ba-f136-405c-8e92-cc0e0d436442",
   "metadata": {
    "tags": []
   },
   "outputs": [
    {
     "name": "stdout",
     "output_type": "stream",
     "text": [
      "Wilcoxon signed-rank statistic: 2740.0\n",
      "p-value: 1.2507097485888644e-05\n"
     ]
    }
   ],
   "source": [
    "from scipy.stats import wilcoxon\n",
    "statistic, pvalue = wilcoxon(df['whp'], df['chatgpt'])\n",
    "\n",
    "# Print the results\n",
    "print(\"Wilcoxon signed-rank statistic:\", statistic)\n",
    "print(\"p-value:\", pvalue)"
   ]
  },
  {
   "cell_type": "code",
   "execution_count": 200,
   "id": "524b7c73-5467-48b3-b386-5f2fa91e61b6",
   "metadata": {
    "tags": []
   },
   "outputs": [
    {
     "name": "stdout",
     "output_type": "stream",
     "text": [
      "Paired samples t-test statistic: -4.789265532258102\n",
      "p-value: 4.288731680959525e-06\n",
      "p-value: 0.0000042887\n"
     ]
    }
   ],
   "source": [
    "from scipy.stats import ttest_rel\n",
    "statistic, pvalue = ttest_rel(df['whp'], df['chatgpt'])\n",
    "\n",
    "# Print the results\n",
    "print(\"Paired samples t-test statistic:\", statistic)\n",
    "print(\"p-value:\", pvalue)\n",
    "print(f\"p-value: {pvalue:.10f}\")\n",
    "\n"
   ]
  },
  {
   "cell_type": "code",
   "execution_count": null,
   "id": "dca6540b-8dce-4e98-b280-c2d1a3d47e43",
   "metadata": {},
   "outputs": [],
   "source": [
    "{\"custom_id\": \"request-1\", \"method\": \"POST\", \"url\": \"/v1/chat/completions\", \"body\": \n",
    " {\"model\": \"gpt-3.5-turbo-0125\", \"messages\": [{\"role\": \"system\", \"content\": \"You are a helpful assistant.\"}\n",
    "                                              ,{\"role\": \"user\", \"content\": \"Hello world!\"}],\"max_tokens\": 1000}}\n"
   ]
  },
  {
   "cell_type": "code",
   "execution_count": 214,
   "id": "7da48cc4-a24f-437c-a2d7-191825fc9e9e",
   "metadata": {
    "tags": []
   },
   "outputs": [
    {
     "data": {
      "text/html": [
       "<table id=\"itables_5e2082d6_c622_4e60_b726_2e8a1a33ad8c\" class=\"display nowrap\" data-quarto-disable-processing=\"true\" style=\"table-layout:auto;width:auto;margin:auto;caption-side:bottom\">\n",
       "<thead>\n",
       "    <tr style=\"text-align: right;\">\n",
       "      <th></th>\n",
       "      <th>country</th>\n",
       "      <th>whp</th>\n",
       "      <th>chatgpt</th>\n",
       "      <th>diff</th>\n",
       "    </tr>\n",
       "  </thead><tbody><tr><td>Loading... (need <a href=https://mwouts.github.io/itables/troubleshooting.html>help</a>?)</td></tr></tbody>\n",
       "\n",
       "</table>\n",
       "<link href=\"https://www.unpkg.com/dt_for_itables@2.0.1/dt_bundle.css\" rel=\"stylesheet\">\n",
       "<script type=\"module\">\n",
       "    import {DataTable, jQuery as $} from 'https://www.unpkg.com/dt_for_itables@2.0.1/dt_bundle.js';\n",
       "\n",
       "    document.querySelectorAll(\"#itables_5e2082d6_c622_4e60_b726_2e8a1a33ad8c:not(.dataTable)\").forEach(table => {\n",
       "        // Define the table data\n",
       "        const data = [[14, \"Afghanistan\", 1.446, 3.25, -1.804], [30, \"Albania\", 5.445, 4.5, 0.945], [63, \"Argentina\", 6.393, 6.25, 0.143], [80, \"Armenia\", 5.679, 5.75, -0.071], [97, \"Australia\", 7.025, 7.35, -0.325], [113, \"Austria\", 6.636, 7.3, -0.664], [129, \"Azerbaijan\", 5.214, 5.75, -0.536], [141, \"Bahrain\", 5.959, 6.8, -0.841], [159, \"Bangladesh\", 4.114, 5.6, -1.486], [190, \"Belgium\", 6.944, 6.8, 0.144], [207, \"Benin\", 4.42, 5.25, -0.83], [228, \"Bolivia\", 5.86, 5.85, 0.01], [244, \"Bosnia and Herzegovina\", 6.009, 5.75, 0.259], [258, \"Botswana\", 3.332, 5.75, -2.418], [276, \"Brazil\", 6.553, 6.5, 0.053], [291, \"Bulgaria\", 5.59, 5.9, -0.31], [307, \"Burkina Faso\", 4.462, 3.5, 0.962], [330, \"Cambodia\", 4.221, 5.65, -1.429], [348, \"Cameroon\", 4.946, 4.5, 0.446], [366, \"Canada\", 6.841, 7.1, -0.259], [387, \"Chad\", 4.544, 3.5, 1.044], [405, \"Chile\", 6.23, 6.7, -0.47], [422, \"China\", 6.145, 6.5, -0.355], [440, \"Colombia\", 5.904, 6.5, -0.596], [448, \"Comoros\", 3.588, 5.75, -2.162], [462, \"Congo (Brazzaville)\", 4.954, 4.75, 0.204], [472, \"Congo (Kinshasa)\", 3.383, 4.5, -1.117], [490, \"Costa Rica\", 7.384, 6.85, 0.534], [506, \"Croatia\", 5.958, 5.5, 0.458], [523, \"Cyprus\", 6.071, 6.75, -0.679], [538, \"Czechia\", 6.827, 6.8, 0.027], [556, \"Denmark\", 7.504, 7.5, 0.004], [578, \"Dominican Republic\", 5.921, 6.5, -0.579], [596, \"Ecuador\", 5.852, 5.8, 0.052], [614, \"Egypt\", 3.881, 5.5, -1.619], [632, \"El Salvador\", 6.482, 5.75, 0.732], [649, \"Estonia\", 6.43, 6.85, -0.42], [664, \"Ethiopia\", 4.093, 5.25, -1.157], [680, \"Finland\", 7.699, 7.82, -0.121], [698, \"France\", 6.557, 6.81, -0.253], [711, \"Gabon\", 5.104, 5.7, -0.596], [716, \"Gambia\", 4.691, 4.5, 0.191], [734, \"Georgia\", 5.351, 6.75, -1.399], [752, \"Germany\", 6.792, 7.0, -0.208], [770, \"Ghana\", 4.298, 5.75, -1.452], [787, \"Greece\", 5.796, 5.5, 0.296], [803, \"Guatemala\", 6.421, 6.4, 0.021], [816, \"Guinea\", 4.827, 4.5, 0.327], [845, \"Honduras\", 5.861, 5.2, 0.661], [875, \"Hungary\", 5.965, 6.5, -0.535], [886, \"Iceland\", 7.562, 7.59, -0.028], [904, \"India\", 4.676, 6.25, -1.574], [922, \"Indonesia\", 5.695, 6.45, -0.755], [938, \"Iran\", 5.004, 4.75, 0.254], [953, \"Iraq\", 5.475, 4.75, 0.725], [970, \"Ireland\", 6.817, 7.0, -0.183], [988, \"Israel\", 6.783, 6.85, -0.067], [1006, \"Italy\", 6.245, 6.78, -0.535], [1018, \"Ivory Coast\", 5.337, 5.4, -0.063], [1045, \"Japan\", 5.91, 6.5, -0.59], [1063, \"Jordan\", 4.292, 5.75, -1.458], [1081, \"Kazakhstan\", 6.299, 5.85, 0.449], [1099, \"Kenya\", 4.496, 5.75, -1.254], [1116, \"Kosovo\", 6.878, 6.28, 0.598], [1129, \"Kuwait\", 7.13, 7.25, -0.12], [1147, \"Kyrgyzstan\", 5.91, 4.65, 1.26], [1159, \"Laos\", 5.486, 5.75, -0.264], [1176, \"Latvia\", 6.296, 5.75, 0.546], [1194, \"Lebanon\", 3.588, 4.25, -0.662], [1210, \"Liberia\", 4.494, 4.25, 0.244], [1218, \"Libya\", 5.97, 4.75, 1.22], [1236, \"Lithuania\", 6.553, 6.95, -0.397], [1249, \"Luxembourg\", 7.016, 7.82, -0.804], [1262, \"Madagascar\", 4.433, 4.25, 0.183], [1277, \"Malawi\", 3.272, 3.5, -0.228], [1293, \"Malaysia\", 5.868, 6.75, -0.882], [1311, \"Mali\", 4.37, 4.5, -0.13], [1326, \"Malta\", 6.295, 7.65, -1.355], [1341, \"Mauritania\", 4.292, 4.5, -0.208], [1351, \"Mauritius\", 5.759, 6.85, -1.091], [1369, \"Mexico\", 7.006, 6.55, 0.456], [1387, \"Moldova\", 5.801, 5.6, 0.201], [1403, \"Mongolia\", 5.58, 5.8, -0.22], [1418, \"Montenegro\", 5.813, 5.75, 0.063], [1431, \"Morocco\", 4.487, 5.5, -1.013], [1442, \"Mozambique\", 5.704, 4.85, 0.854], [1454, \"Myanmar\", 4.391, 4.5, -0.109], [1463, \"Namibia\", 5.055, 5.5, -0.445], [1481, \"Nepal\", 5.389, 5.75, -0.361], [1498, \"Netherlands\", 7.255, 7.5, -0.245], [1515, \"New Zealand\", 6.976, 7.1, -0.124], [1533, \"Nicaragua\", 6.362, 5.75, 0.612], [1549, \"Niger\", 4.609, 4.25, 0.359], [1565, \"Nigeria\", 4.869, 4.75, 0.119], [1581, \"North Macedonia\", 5.403, 5.75, -0.347], [1594, \"Norway\", 7.249, 7.65, -0.401], [1613, \"Pakistan\", 4.549, 5.75, -1.201], [1630, \"Panama\", 6.543, 6.75, -0.207], [1647, \"Paraguay\", 6.214, 6.8, -0.586], [1665, \"Peru\", 5.936, 6.75, -0.814], [1683, \"Philippines\", 6.184, 5.5, 0.684], [1700, \"Poland\", 6.685, 6.75, -0.065], [1716, \"Portugal\", 5.954, 6.75, -0.796], [1738, \"Romania\", 6.489, 6.35, 0.139], [1756, \"Russia\", 5.865, 5.8, 0.065], [1786, \"Saudi Arabia\", 6.953, 6.75, 0.203], [1804, \"Senegal\", 5.093, 4.25, 0.843], [1820, \"Serbia\", 6.441, 5.7, 0.741], [1835, \"Sierra Leone\", 3.467, 4.75, -1.283], [1851, \"Singapore\", 6.654, 7.25, -0.596], [1866, \"Slovakia\", 6.261, 6.87, -0.609], [1882, \"Slovenia\", 6.746, 6.85, -0.104], [1907, \"South Africa\", 5.076, 4.9, 0.176], [1925, \"South Korea\", 6.112, 6.8, -0.688], [1947, \"Spain\", 6.456, 6.5, -0.044], [1964, \"Sri Lanka\", 3.602, 5.25, -1.648], [1980, \"State of Palestine\", 4.851, 5.5, -0.649], [2004, \"Sweden\", 7.161, 7.5, -0.339], [2017, \"Switzerland\", 6.969, 7.8, -0.831], [2040, \"Taiwan Province of China\", 6.655, 6.75, -0.095], [2058, \"Tajikistan\", 5.379, 5.75, -0.371], [2076, \"Tanzania\", 4.042, 5.5, -1.458], [2094, \"Thailand\", 6.282, 6.25, 0.032], [2106, \"Togo\", 4.365, 4.35, 0.015], [2126, \"Tunisia\", 4.505, 5.75, -1.245], [2154, \"T\\u00fcrkiye\", 5.463, 5.75, -0.287], [2172, \"Uganda\", 4.467, 4.5, -0.033], [2190, \"Ukraine\", 4.672, 5.75, -1.078], [2206, \"United Arab Emirates\", 6.728, 7.2, -0.472], [2224, \"United Kingdom\", 6.658, 6.75, -0.092], [2242, \"United States\", 6.521, 6.85, -0.329], [2260, \"Uruguay\", 6.662, 6.87, -0.208], [2277, \"Uzbekistan\", 6.385, 6.25, 0.135], [2295, \"Venezuela\", 5.765, 4.5, 1.265], [2313, \"Vietnam\", 6.325, 6.75, -0.425], [2327, \"Yemen\", 3.532, 3.5, 0.032], [2344, \"Zambia\", 3.686, 4.75, -1.064], [2362, \"Zimbabwe\", 3.572, 5.5, -1.928]];\n",
       "\n",
       "        // Define the dt_args\n",
       "        let dt_args = {\"layout\": {\"topStart\": \"pageLength\", \"topEnd\": \"search\", \"bottomStart\": \"info\", \"bottomEnd\": \"paging\"}, \"order\": [], \"warn_on_dom\": true};\n",
       "        dt_args[\"data\"] = data;\n",
       "\n",
       "        \n",
       "        new DataTable(table, dt_args);\n",
       "    });\n",
       "</script>\n"
      ],
      "text/plain": [
       "<IPython.core.display.HTML object>"
      ]
     },
     "metadata": {},
     "output_type": "display_data"
    }
   ],
   "source": [
    "show(df)"
   ]
  },
  {
   "cell_type": "markdown",
   "id": "95599bdb-90ba-40cb-a627-021e143b5ec4",
   "metadata": {
    "tags": []
   },
   "source": [
    "## One country"
   ]
  },
  {
   "cell_type": "code",
   "execution_count": 288,
   "id": "54779648-d636-48ba-9570-478c11d6d943",
   "metadata": {
    "tags": []
   },
   "outputs": [
    {
     "name": "stderr",
     "output_type": "stream",
     "text": [
      "100%|██████████| 17/17 [02:14<00:00,  7.94s/it]\n"
     ]
    }
   ],
   "source": [
    "temp_chatgpt_happiness_df = world_happiness_df.loc[world_happiness_df['country']=='China',['country','year']]\n",
    "temp_chatgpt_happiness_df['raw answer'] = temp_chatgpt_happiness_df.progress_apply(happiness_by_chatgpt,axis=1)\n",
    "    \n",
    "    \n"
   ]
  },
  {
   "cell_type": "code",
   "execution_count": 289,
   "id": "0b622ed8-2dab-40f6-9c93-8c502a516c7e",
   "metadata": {},
   "outputs": [
    {
     "data": {
      "text/plain": [
       "<AxesSubplot: xlabel='year', ylabel='values'>"
      ]
     },
     "execution_count": 289,
     "metadata": {},
     "output_type": "execute_result"
    },
    {
     "data": {
      "image/png": "[encoded data removed]",
      "text/plain": [
       "<Figure size 640x480 with 1 Axes>"
      ]
     },
     "metadata": {},
     "output_type": "display_data"
    }
   ],
   "source": [
    "pattern = r\"(\\d+\\.\\d+)\"\n",
    "temp_chatgpt_happiness_df['chatgpt'] = temp_chatgpt_happiness_df['raw answer'].str.extract(pattern,expand=False)\n",
    "temp_chatgpt_happiness_df['chatgpt'] = pd.to_numeric(temp_chatgpt_happiness_df['chatgpt'])\n",
    "\n",
    "combined_df = pd.merge(world_happiness_df,temp_chatgpt_happiness_df,on=['country','year'],how=\"right\")\n",
    "melted_df = combined_df.loc[:,['country','year','chatgpt','whp']].melt(id_vars=['country','year',],var_name='origin',value_name='values')\n",
    "sns.lineplot(melted_df,x='year',y='values',hue='origin')"
   ]
  },
  {
   "cell_type": "markdown",
   "id": "1a61f72f-d6a6-489d-a15c-299e7acbc84c",
   "metadata": {},
   "source": [
    "## Batch work\n"
   ]
  },
  {
   "cell_type": "code",
   "execution_count": 14,
   "id": "2d25d274-e33a-492a-b377-4a135a72bddc",
   "metadata": {
    "tags": []
   },
   "outputs": [],
   "source": [
    "from itertools import product\n",
    "\n",
    "years = list(range(1970,2024))\n",
    "countries = world_happiness_df['country'].unique()\n",
    "\n",
    "chatgpt_batch_df = pd.DataFrame(list(product(countries, years)),columns=[\"country\",\"year\"])"
   ]
  },
  {
   "cell_type": "code",
   "execution_count": 16,
   "id": "616ff057-5e4d-4e92-bcb0-0ae76b4745e6",
   "metadata": {
    "tags": []
   },
   "outputs": [],
   "source": [
    "def generate_json(row):\n",
    "    question = f'If you are to survey 1000 randomly sampled people in {row[\"country\"]} in the year {row[\"year\"]} with \\\n",
    "the question of, \\\n",
    "\"Evaluate your current life as a whole using the image of a ladder, with the best possible life for you as \\\n",
    "a 10 and worst possible as a 0\", what do you think the average would be. Provide your answer with an exact \\\n",
    "number with two decimal points instead of a range and the sections explaining the reasons that drives the number \\\n",
    "higher and the reasons that drives the number lower. '\n",
    "    \n",
    "    json_dict = {\n",
    "        \"custom_id\": f\"{row['country']}-{row['year']}\", \n",
    "        \"method\": \"POST\", \n",
    "        \"url\": \"/v1/chat/completions\", \n",
    "        \"body\": \n",
    "             {\"model\": \"gpt-4o\", \"messages\": \n",
    "              [\n",
    "                #{\"role\": \"system\", \"content\": \"You are a helpful assistant.\"},\n",
    "                {\"role\": \"user\", \"content\": question}]\n",
    "             }\n",
    "             \n",
    "        }\n",
    "    return json.dumps(json_dict)"
   ]
  },
  {
   "cell_type": "code",
   "execution_count": 18,
   "id": "ba0225c5-1e43-40ca-b312-a62e9eea1bec",
   "metadata": {
    "tags": []
   },
   "outputs": [],
   "source": [
    "chatgpt_batch_df['json'] = chatgpt_batch_df.apply(generate_json,axis=1)"
   ]
  },
  {
   "cell_type": "code",
   "execution_count": 20,
   "id": "dc7970df-85b6-4da2-97a3-25146c970ce7",
   "metadata": {
    "tags": []
   },
   "outputs": [],
   "source": [
    "batchfile = \"prompts.jsonl\"\n",
    "\n",
    "chatgpt_batch_string = chatgpt_batch_df.to_string(columns=['json'],header=False,index=False)\n",
    "# Open a text file in write mode and write the string\n",
    "with open(batchfile, 'w') as f:\n",
    "  f.write(chatgpt_batch_string)"
   ]
  },
  {
   "cell_type": "code",
   "execution_count": 22,
   "id": "20c17f49-eb1f-4307-8a9d-a6d4cb4a11d9",
   "metadata": {
    "tags": []
   },
   "outputs": [],
   "source": [
    "batch_input_file = client.files.create(\n",
    "  file=open(batchfile, \"rb\"),\n",
    "  purpose=\"batch\"\n",
    ")"
   ]
  },
  {
   "cell_type": "code",
   "execution_count": 26,
   "id": "5a3caf64-a5cc-4f01-a7c0-dd6ac173a224",
   "metadata": {
    "tags": []
   },
   "outputs": [
    {
     "data": {
      "text/plain": [
       "Batch(id='batch_OrXMJY9VXMoBH8z17hmsu9od', completion_window='24h', created_at=1715823276, endpoint='/v1/chat/completions', input_file_id='file-hcC0oI1pxCx13dwZKWfFJLsM', object='batch', status='validating', cancelled_at=None, cancelling_at=None, completed_at=None, error_file_id=None, errors=None, expired_at=None, expires_at=1715909676, failed_at=None, finalizing_at=None, in_progress_at=None, metadata={'description': 'world happiness simulation'}, output_file_id=None, request_counts=BatchRequestCounts(completed=0, failed=0, total=0))"
      ]
     },
     "execution_count": 26,
     "metadata": {},
     "output_type": "execute_result"
    }
   ],
   "source": [
    "batch_input_file_id = batch_input_file.id\n",
    "\n",
    "client.batches.create(\n",
    "    input_file_id=batch_input_file_id,\n",
    "    endpoint=\"/v1/chat/completions\",\n",
    "    completion_window=\"24h\",\n",
    "    metadata={\n",
    "      \"description\": \"world happiness simulation\"\n",
    "    }\n",
    ")"
   ]
  },
  {
   "cell_type": "code",
   "execution_count": null,
   "id": "6c424a13-c40d-4d56-ac47-ea29bc6b710e",
   "metadata": {},
   "outputs": [],
   "source": []
  }
 ],
 "metadata": {
  "kernelspec": {
   "display_name": "Python 3 (ipykernel)",
   "language": "python",
   "name": "python3"
  },
  "language_info": {
   "codemirror_mode": {
    "name": "ipython",
    "version": 3
   },
   "file_extension": ".py",
   "mimetype": "text/x-python",
   "name": "python",
   "nbconvert_exporter": "python",
   "pygments_lexer": "ipython3",
   "version": "3.11.7"
  }
 },
 "nbformat": 4,
 "nbformat_minor": 5
}
