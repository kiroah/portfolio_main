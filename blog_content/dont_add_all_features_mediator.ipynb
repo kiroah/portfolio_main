{
 "cells": [
  {
   "cell_type": "markdown",
   "id": "c6c3074d-c501-460c-9263-d35a18901389",
   "metadata": {
    "tags": []
   },
   "source": [
    "# Why You Can't Add All Features Into Causal Inference Even With ML - Part 1 - Mediators\n",
    "Hiro Naito"
   ]
  },
  {
   "cell_type": "markdown",
   "id": "6ac4e606-4098-412c-95df-63a0c24de9c3",
   "metadata": {},
   "source": [
    "## Preps"
   ]
  },
  {
   "cell_type": "code",
   "execution_count": 6,
   "id": "7438faea-b9f1-4088-9903-69b44b03557a",
   "metadata": {
    "tags": []
   },
   "outputs": [],
   "source": [
    "# Libraries \n",
    "\n",
    "import pandas as pd\n",
    "import pickle\n",
    "import math\n",
    "import numpy as np\n",
    "import matplotlib.pyplot as plt\n",
    "\n",
    "from sklearn.model_selection import train_test_split\n",
    "from sklearn.linear_model import LinearRegression, LogisticRegression\n",
    "from sklearn.tree import DecisionTreeRegressor\n",
    "from sklearn.metrics import mean_squared_error, r2_score\n",
    "import statsmodels.api as sm\n",
    "import statsmodels.formula.api as smf\n",
    "from statsmodels.genmod.families import Gaussian\n",
    "\n",
    "from econml.metalearners import SLearner\n",
    "from sklearn.ensemble import RandomForestRegressor, RandomForestClassifier\n",
    "from econml.sklearn_extensions.linear_model import StatsModelsLinearRegression\n",
    "\n",
    "from lightgbm import LGBMClassifier, LGBMRegressor\n",
    "import dowhy\n",
    "from dowhy import CausalModel\n",
    "from dowhy import gcm\n",
    "import networkx as nx\n",
    "\n",
    "from econml.dml import DML\n",
    "from sklearn.ensemble import RandomForestRegressor\n",
    "from sklearn.linear_model import LassoCV\n",
    "from sklearn.model_selection import train_test_split\n",
    "from econml.metalearners import TLearner"
   ]
  },
  {
   "cell_type": "code",
   "execution_count": 7,
   "id": "8df78103-e2f2-4207-b884-e88f686a0274",
   "metadata": {
    "tags": []
   },
   "outputs": [],
   "source": [
    "def create_graph(causal_matrix: pd.DataFrame): \n",
    "\"\"\" Helper function to create an nx graph given a pandas dataframe storing the cause (rows) and effect (in columns)\n",
    "\"\"\"\n",
    "    G = nx.DiGraph()\n",
    "    G.add_nodes_from(causal_matrix.columns.to_list())\n",
    "    for i, row in enumerate(causal_matrix.index):\n",
    "        for j, col in enumerate(causal_matrix.columns):\n",
    "            weight = causal_matrix.iloc[i, j]\n",
    "            if weight != 0.0:  # Add an edge only if the weight is non-zero\n",
    "                G.add_edge(row, col, weight=weight)\n",
    "\n",
    "    return G\n",
    "\n",
    "def create_synth_data(G : nx.DiGraph, causal_matrix: pd.DataFrame, n: int, binaries: list[str] = []):\n",
    "\"\"\" Helper function to create synthetic data given causal graph + nx graph. \n",
    "\"\"\"\n",
    "    #Get list of nodes in topolocial order\n",
    "    topological_sorted = list(nx.topological_sort(G))\n",
    "\n",
    "    df = pd.DataFrame()\n",
    "    for node in topological_sorted:\n",
    "        if node in binaries:\n",
    "            values = np.zeros(n)\n",
    "            for predecessor in G.predecessors(node):\n",
    "                values += df[predecessor] * causal_matrix.at[predecessor,node]\n",
    "            p = 1 / (1 + np.exp(-1.0 * values))\n",
    "            values = np.random.binomial(1,p,n)\n",
    "        else:\n",
    "            values = np.random.normal(0,1,n)\n",
    "            for predecessor in G.predecessors(node):\n",
    "                values += df[predecessor] * causal_matrix.at[predecessor,node]\n",
    "        df[node] = values\n",
    "    return df"
   ]
  },
  {
   "cell_type": "code",
   "execution_count": 8,
   "id": "6c881ae2-ee10-4582-a4eb-d23a693ece9b",
   "metadata": {
    "tags": []
   },
   "outputs": [],
   "source": [
    "#Synthetic data size\n",
    "n = 10000\n",
    "\n",
    "#Fixing seed\n",
    "random_state=123\n",
    "np.random.seed(123)"
   ]
  },
  {
   "cell_type": "markdown",
   "id": "3475d629-3244-4e52-a3e2-60b25c9e88b9",
   "metadata": {},
   "source": [
    "## Part 1 - Mediators"
   ]
  },
  {
   "cell_type": "markdown",
   "id": "b54b15b6-5f2f-4703-ba78-399542741eb5",
   "metadata": {},
   "source": [
    "### Simple example with a mediator\n",
    "__Example scenarios:__\n",
    "   * __Education: After-School Tutoring__\n",
    "      * __Treatment (T):__ Enrollment in an after-school tutoring program.\n",
    "      * __Mediator (M):__ # of hours to study in a week.\n",
    "      * __Outcome (Y):__  GPA (Grade Point Average).\n",
    "   * __Mental Health: Cognitive Behavioral Therapy (CBT)__\n",
    "      * __Treatment (T):__ Joining Cognitive Behavioral Therapy (CBT).\n",
    "      * __Mediator (M):__ Frequency of negative thought pattern.\n",
    "      * __Outcome (Y):__ Mental health score from survey.\n",
    "   * __Marketing: Advertising Campaign__\n",
    "       * __Treatment (T):__ Exposure to an advertising campaign.\n",
    "       * __Mediator (M):__ Product awareness.\n",
    "       * __Outcome (Y):__ Product sales."
   ]
  },
  {
   "cell_type": "code",
   "execution_count": 11,
   "id": "2925e5ac-d576-400e-9c4a-9a2953ec572e",
   "metadata": {
    "tags": []
   },
   "outputs": [
    {
     "name": "stdout",
     "output_type": "stream",
     "text": [
      "      T         M          Y\n",
      "0     1  0.946465   3.640363\n",
      "1     1  4.444161  18.431286\n",
      "2     1  2.055764   6.782160\n",
      "3     0 -0.290947  -2.470820\n",
      "4     1  2.499274  11.825207\n",
      "...  ..       ...        ...\n",
      "9995  1  2.460720   8.875627\n",
      "9996  1  2.937468  11.213744\n",
      "9997  0  0.424584   1.124198\n",
      "9998  0  1.079576   5.540231\n",
      "9999  0  2.813569  11.923847\n",
      "\n",
      "[10000 rows x 3 columns]\n"
     ]
    }
   ],
   "source": [
    "# Create causal matrix and create graph + synthetic data based on the matrix\n",
    "\n",
    "#Define the directional relationship of the nodes as a matrix. 0.0 indicates there's no relationship\n",
    "causal_matrix = pd.DataFrame([\n",
    "    {\"node_from\": \"T\", \"T\": 0.0, \"Y\": 0.0, \"M\": 2.0},\n",
    "    {\"node_from\": \"Y\", \"T\": 0.0, \"Y\": 0.0, \"M\": 0.0},\n",
    "    {\"node_from\": \"M\", \"T\": 0.0, \"Y\": 4.0, \"M\": 0.0}\n",
    "])\n",
    "causal_matrix.set_index('node_from',inplace=True)\n",
    "\n",
    "#Populate graph based on causal_matrix info\n",
    "G = create_graph(causal_matrix)\n",
    "\n",
    "#Create synthetic data with the relationship specified\n",
    "T = np.random.binomial(1,0.5,n)\n",
    "M = 2.0 * T + np.random.normal(0,1,n)\n",
    "Y = 4.0 * M + np.random.normal(0,1,n)\n",
    "\n",
    "df = pd.DataFrame({'T':T,'M':M,'Y':Y})\n",
    "print(df)"
   ]
  },
  {
   "cell_type": "code",
   "execution_count": 12,
   "id": "9ec324f6-0329-4efd-b33b-8a0c6cb1c0e4",
   "metadata": {
    "tags": []
   },
   "outputs": [
    {
     "data": {
      "image/png": "[encoded data removed]",
      "text/plain": [
       "<Figure size 400x300 with 1 Axes>"
      ]
     },
     "metadata": {},
     "output_type": "display_data"
    }
   ],
   "source": [
    "# Create graph visualization\n",
    "\n",
    "fixed_positions = {'T':(0,0), 'Y':(1,0), 'M':(0.5,-0.3)}\n",
    "pos = nx.spring_layout(G, k=0.1, scale=2, pos=fixed_positions, fixed=fixed_positions.keys())\n",
    "\n",
    "node_colors = []\n",
    "for node in G.nodes: \n",
    "    if node == 'Y':\n",
    "        node_colors.append('lightgreen')\n",
    "    elif node == 'T':\n",
    "        node_colors.append('lightblue')\n",
    "    elif \"M\" in node:\n",
    "        node_colors.append('lightcoral')\n",
    "    else:\n",
    "        node_colors.append('lightyellow')\n",
    "    \n",
    "plt.figure(figsize=(4, 3))\n",
    "nx.draw(G, pos, with_labels=True, node_size=1000, node_color=node_colors, font_size=14, font_weight='bold')\n",
    "labels = nx.get_edge_attributes(G, 'weight')\n",
    "nx.draw_networkx_edge_labels(G, pos, edge_labels=labels)\n",
    "\n",
    "\n",
    "plt.xlim(-0.2, 1.2)  # Add padding around the x-axis\n",
    "plt.ylim(-1, 0.2)  # Add padding around the y-axis\n",
    "plt.show()"
   ]
  },
  {
   "cell_type": "code",
   "execution_count": 13,
   "id": "cab14016-3c64-4f1d-9911-1cde781a8136",
   "metadata": {
    "tags": []
   },
   "outputs": [
    {
     "name": "stdout",
     "output_type": "stream",
     "text": [
      "                 Generalized Linear Model Regression Results                  \n",
      "==============================================================================\n",
      "Dep. Variable:                      Y   No. Observations:                10000\n",
      "Model:                            GLM   Df Residuals:                     9998\n",
      "Model Family:                Gaussian   Df Model:                            1\n",
      "Link Function:               Identity   Scale:                          17.175\n",
      "Method:                          IRLS   Log-Likelihood:                -28406.\n",
      "Date:                Sun, 15 Sep 2024   Deviance:                   1.7171e+05\n",
      "Time:                        18:04:53   Pearson chi2:                 1.72e+05\n",
      "No. Iterations:                     3   Pseudo R-squ. (CS):             0.6058\n",
      "Covariance Type:            nonrobust                                         \n",
      "==============================================================================\n",
      "                 coef    std err          z      P>|z|      [0.025      0.975]\n",
      "------------------------------------------------------------------------------\n",
      "Intercept     -0.0522      0.059     -0.892      0.373      -0.167       0.063\n",
      "T              7.9965      0.083     96.477      0.000       7.834       8.159\n",
      "==============================================================================\n"
     ]
    }
   ],
   "source": [
    "#Estimate effect by regressing on outcome only using treatment variable\n",
    "\n",
    "formula1 = 'Y ~ T'\n",
    "glm_model = smf.glm(formula=formula1, data=df, family=Gaussian())\n",
    "glm_results = glm_model.fit()\n",
    "print(glm_results.summary())\n"
   ]
  },
  {
   "cell_type": "code",
   "execution_count": 14,
   "id": "42b3ccd6-3001-4d96-b8c6-bbab5fabfc1d",
   "metadata": {
    "tags": []
   },
   "outputs": [
    {
     "name": "stdout",
     "output_type": "stream",
     "text": [
      "                 Generalized Linear Model Regression Results                  \n",
      "==============================================================================\n",
      "Dep. Variable:                      Y   No. Observations:                10000\n",
      "Model:                            GLM   Df Residuals:                     9997\n",
      "Model Family:                Gaussian   Df Model:                            2\n",
      "Link Function:               Identity   Scale:                         0.99188\n",
      "Method:                          IRLS   Log-Likelihood:                -14147.\n",
      "Date:                Sun, 15 Sep 2024   Deviance:                       9915.9\n",
      "Time:                        18:04:54   Pearson chi2:                 9.92e+03\n",
      "No. Iterations:                     3   Pseudo R-squ. (CS):              1.000\n",
      "Covariance Type:            nonrobust                                         \n",
      "==============================================================================\n",
      "                 coef    std err          z      P>|z|      [0.025      0.975]\n",
      "------------------------------------------------------------------------------\n",
      "Intercept      0.0058      0.014      0.415      0.678      -0.022       0.033\n",
      "T              0.0209      0.028      0.745      0.457      -0.034       0.076\n",
      "M              4.0005      0.010    403.880      0.000       3.981       4.020\n",
      "==============================================================================\n"
     ]
    }
   ],
   "source": [
    "#Estimate effect by regressing on outcome using both treatment and mediator variable\n",
    "\n",
    "formula = 'Y ~ T + M'\n",
    "glm_model = smf.glm(formula=formula, data=df, family=Gaussian())\n",
    "glm_results = glm_model.fit()\n",
    "print(glm_results.summary())\n"
   ]
  },
  {
   "cell_type": "markdown",
   "id": "db1aa00d-fd7d-4e4a-b40b-c4165fa652d7",
   "metadata": {},
   "source": [
    "### Simple example + adding an arrow T -> Y\n",
    "__Example scenarios:__\n",
    "   * __Education: Classroom Technology__\n",
    "      * __Treatment (T):__ Introduction of interactive technology in the classroom.\n",
    "      * __Mediator (M):__ Increase in student engagement.\n",
    "      * __Outcome (Y):__ Improvement in academic performance.\n",
    "   * __Mental Health: Mental Health: Antidepressant Medication__\n",
    "      * __Treatment (T):__ Use of antidepressant medication.\n",
    "      * __Mediator (M):__ Improvement in mood or cognitive function.\n",
    "      * __Outcome (Y):__ Reduction in depression symptoms.\n",
    "   * __Economics: Financial Incentive Program__\n",
    "       * __Treatment (T):__ Provision of financial incentives to workers.\n",
    "       * __Mediator (M):__  Increase in worker productivity.\n",
    "       * __Outcome (Y):__ Increase in company profits."
   ]
  },
  {
   "cell_type": "code",
   "execution_count": 16,
   "id": "5e3b91f2-96a9-43c9-b8bc-9a9fc6d661e2",
   "metadata": {
    "tags": []
   },
   "outputs": [],
   "source": [
    "# Create causal matrix and create graph + synthetic data based on the matrix\n",
    "\n",
    "#Define the directional relationship of the nodes as a matrix. 0.0 indicates there's no relationship\n",
    "causal_matrix = pd.DataFrame([\n",
    "    {\"node_from\": \"T\", \"T\": 0.0, \"Y\": 1.0, \"M\": 2.0},\n",
    "    {\"node_from\": \"Y\", \"T\": 0.0, \"Y\": 0.0, \"M\": 0.0},\n",
    "    {\"node_from\": \"M\", \"T\": 0.0, \"Y\": 4.0, \"M\": 0.0}\n",
    "])\n",
    "causal_matrix.set_index('node_from',inplace=True)\n",
    "\n",
    "#Populate graph based on causal_matrix info\n",
    "G = create_graph(causal_matrix)\n",
    "\n",
    "\n",
    "\n",
    "#Define which variables have binary outcome\n",
    "binaries = ['T']\n",
    "\n",
    "#Create synthetic data based on graph and causal_matrix\n",
    "df = create_synth_data(G, causal_matrix, n, binaries)"
   ]
  },
  {
   "cell_type": "code",
   "execution_count": 17,
   "id": "006daf43-e642-4afa-b588-24e93e35fe32",
   "metadata": {
    "tags": []
   },
   "outputs": [
    {
     "data": {
      "image/png": "[encoded data removed]",
      "text/plain": [
       "<Figure size 400x300 with 1 Axes>"
      ]
     },
     "metadata": {},
     "output_type": "display_data"
    }
   ],
   "source": [
    "# Create graph visualization\n",
    "\n",
    "fixed_positions = {'T':(0,0), 'Y':(1,0), 'M':(0.5,-0.3)}\n",
    "pos = nx.spring_layout(G, k=0.1, scale=2, pos=fixed_positions, fixed=fixed_positions.keys())\n",
    "\n",
    "node_colors = []\n",
    "for node in G.nodes: \n",
    "    if node == 'Y':\n",
    "        node_colors.append('lightgreen')\n",
    "    elif node == 'T':\n",
    "        node_colors.append('lightblue')\n",
    "    elif \"M\" in node:\n",
    "        node_colors.append('lightcoral')\n",
    "    else:\n",
    "        node_colors.append('lightyellow')\n",
    "    \n",
    "plt.figure(figsize=(4, 3))\n",
    "nx.draw(G, pos, with_labels=True, node_size=1000, node_color=node_colors, font_size=14, font_weight='bold')\n",
    "labels = nx.get_edge_attributes(G, 'weight')\n",
    "nx.draw_networkx_edge_labels(G, pos, edge_labels=labels)\n",
    "\n",
    "\n",
    "plt.xlim(-0.2, 1.2)  # Add padding around the x-axis\n",
    "plt.ylim(-1, 0.2)  # Add padding around the y-axis\n",
    "plt.show()"
   ]
  },
  {
   "cell_type": "code",
   "execution_count": 18,
   "id": "d6e32027-168b-476f-af40-5b8f0911a63d",
   "metadata": {
    "tags": []
   },
   "outputs": [
    {
     "name": "stdout",
     "output_type": "stream",
     "text": [
      "                 Generalized Linear Model Regression Results                  \n",
      "==============================================================================\n",
      "Dep. Variable:                      Y   No. Observations:                10000\n",
      "Model:                            GLM   Df Residuals:                     9998\n",
      "Model Family:                Gaussian   Df Model:                            1\n",
      "Link Function:               Identity   Scale:                          16.717\n",
      "Method:                          IRLS   Log-Likelihood:                -28271.\n",
      "Date:                Sun, 15 Sep 2024   Deviance:                   1.6714e+05\n",
      "Time:                        18:04:54   Pearson chi2:                 1.67e+05\n",
      "No. Iterations:                     3   Pseudo R-squ. (CS):             0.6919\n",
      "Covariance Type:            nonrobust                                         \n",
      "==============================================================================\n",
      "                 coef    std err          z      P>|z|      [0.025      0.975]\n",
      "------------------------------------------------------------------------------\n",
      "Intercept      0.0558      0.058      0.964      0.335      -0.058       0.169\n",
      "T              8.8731      0.082    108.508      0.000       8.713       9.033\n",
      "==============================================================================\n"
     ]
    }
   ],
   "source": [
    "#Estimate effect by regressing on outcome only using treatment variable\n",
    "\n",
    "formula1 = 'Y ~ T'\n",
    "glm_model = smf.glm(formula=formula1, data=df, family=Gaussian())\n",
    "glm_results = glm_model.fit()\n",
    "print(glm_results.summary())\n"
   ]
  },
  {
   "cell_type": "code",
   "execution_count": 19,
   "id": "0cd09c2c-f36b-4910-88da-13ed3059cec2",
   "metadata": {
    "tags": []
   },
   "outputs": [
    {
     "name": "stdout",
     "output_type": "stream",
     "text": [
      "                 Generalized Linear Model Regression Results                  \n",
      "==============================================================================\n",
      "Dep. Variable:                      Y   No. Observations:                10000\n",
      "Model:                            GLM   Df Residuals:                     9997\n",
      "Model Family:                Gaussian   Df Model:                            2\n",
      "Link Function:               Identity   Scale:                          1.0062\n",
      "Method:                          IRLS   Log-Likelihood:                -14219.\n",
      "Date:                Sun, 15 Sep 2024   Deviance:                       10059.\n",
      "Time:                        18:04:54   Pearson chi2:                 1.01e+04\n",
      "No. Iterations:                     3   Pseudo R-squ. (CS):              1.000\n",
      "Covariance Type:            nonrobust                                         \n",
      "==============================================================================\n",
      "                 coef    std err          z      P>|z|      [0.025      0.975]\n",
      "------------------------------------------------------------------------------\n",
      "Intercept     -0.0162      0.014     -1.144      0.253      -0.044       0.012\n",
      "T              0.9848      0.028     34.795      0.000       0.929       1.040\n",
      "M              4.0078      0.010    395.107      0.000       3.988       4.028\n",
      "==============================================================================\n"
     ]
    }
   ],
   "source": [
    "#Estimate effect by regressing on outcome using both treatment and mediator variable\n",
    "\n",
    "formula1 = 'Y ~ T + M'\n",
    "glm_model = smf.glm(formula=formula1, data=df, family=Gaussian())\n",
    "glm_results = glm_model.fit()\n",
    "print(glm_results.summary())\n"
   ]
  },
  {
   "cell_type": "markdown",
   "id": "96c21234-5e5d-4bc7-979a-1c4c8b2d7bf1",
   "metadata": {},
   "source": [
    "### Two mediators example\n",
    "__Example scenarios:__\n",
    "   * __Economics: Financial Literacy Training__\n",
    "     * __Treatment (T):__ Participation in a financial literacy training program.\n",
    "     * __Mediator 1 (M1):__ Improvement in budgeting skills.\n",
    "     * __Mediator 2 (M2):__ Increase in savings behavior.\n",
    "     * __Outcome (Y):__ Increase in financial stability.\n",
    "   * __Public Health: Weight Loss Program__\n",
    "      * __Treatment (T):__ Enrollment in a weight loss program.\n",
    "      * __Mediator 1 (M1):__ Increase in physical activity.\n",
    "      * __Mediator 2 (M2):__ Improvement in dietary habits.\n",
    "      * __Outcome (Y):__ Reduction in body mass index (BMI).\n",
    "   * __Marketing: Multi-Channel Advertising Campaign__\n",
    "      * __Treatment (T):__ Exposure to a multi-channel advertising campaign.\n",
    "      * __Mediator 1 (M1):__ Increase in brand awareness.\n",
    "      * __Mediator 2 (M2):__ Improvement in brand perception.\n",
    "      * __Outcome (Y):__ Increase in product sales"
   ]
  },
  {
   "cell_type": "code",
   "execution_count": 21,
   "id": "8b5c69aa-4f07-447e-a8ac-6ffa6ace826a",
   "metadata": {
    "tags": []
   },
   "outputs": [],
   "source": [
    "# Create causal matrix and create graph + synthetic data based on the matrix\n",
    "\n",
    "\n",
    "#Define the directional relationship of the nodes as a matrix. 0.0 indicates there's no relationship\n",
    "causal_matrix = pd.DataFrame([\n",
    "    {\"node_from\": \"T\", \"T\": 0.0, \"Y\": 0.0, \"M1\": 2.0, \"M2\": 1.0},\n",
    "    {\"node_from\": \"Y\", \"T\": 0.0, \"Y\": 0.0, \"M1\": 0.0, \"M2\": 0.0},\n",
    "    {\"node_from\": \"M1\", \"T\": 0.0, \"Y\": 4.0, \"M1\": 0.0, \"M2\": 0.0},\n",
    "    {\"node_from\": \"M2\", \"T\": 0.0, \"Y\": 3.0, \"M1\": 0.0, \"M2\": 0.0},\n",
    "\n",
    "])\n",
    "causal_matrix.set_index('node_from',inplace=True)\n",
    "\n",
    "#Populate graph based on causal_matrix info\n",
    "G = create_graph(causal_matrix)\n",
    "\n",
    "#Define which variables have binary outcome\n",
    "binaries = ['T']\n",
    "\n",
    "#Create synthetic data based on graph and causal_matrix\n",
    "df = create_synth_data(G, causal_matrix, n, binaries)"
   ]
  },
  {
   "cell_type": "code",
   "execution_count": 22,
   "id": "501c5193-fc4f-4967-ae67-4ab30eae2fde",
   "metadata": {
    "tags": []
   },
   "outputs": [
    {
     "data": {
      "image/png": "[encoded data removed]",
      "text/plain": [
       "<Figure size 400x300 with 1 Axes>"
      ]
     },
     "metadata": {},
     "output_type": "display_data"
    }
   ],
   "source": [
    "# Create graph visualization\n",
    "\n",
    "fixed_positions = {'T':(0,0), 'Y':(1,0), 'M1':(0.5,-0.3), 'M2': (0.5, 0)}\n",
    "pos = nx.spring_layout(G, k=0.1, scale=2, pos=fixed_positions, fixed=fixed_positions.keys())\n",
    "\n",
    "node_colors = []\n",
    "for node in G.nodes: \n",
    "    if node == 'Y':\n",
    "        node_colors.append('lightgreen')\n",
    "    elif node == 'T':\n",
    "        node_colors.append('lightblue')\n",
    "    elif \"M\" in node:\n",
    "        node_colors.append('lightcoral')\n",
    "    else:\n",
    "        node_colors.append('lightyellow')\n",
    "    \n",
    "plt.figure(figsize=(4, 3))\n",
    "nx.draw(G, pos, with_labels=True, node_size=1000, node_color=node_colors, font_size=14, font_weight='bold')\n",
    "labels = nx.get_edge_attributes(G, 'weight')\n",
    "nx.draw_networkx_edge_labels(G, pos, edge_labels=labels)\n",
    "\n",
    "\n",
    "plt.xlim(-0.2, 1.2)  # Add padding around the x-axis\n",
    "plt.ylim(-1, 0.2)  # Add padding around the y-axis\n",
    "plt.show()"
   ]
  },
  {
   "cell_type": "code",
   "execution_count": 23,
   "id": "006a0d82-4303-42c5-983f-1c3678eecce9",
   "metadata": {
    "tags": []
   },
   "outputs": [
    {
     "name": "stdout",
     "output_type": "stream",
     "text": [
      "                 Generalized Linear Model Regression Results                  \n",
      "==============================================================================\n",
      "Dep. Variable:                      Y   No. Observations:                10000\n",
      "Model:                            GLM   Df Residuals:                     9998\n",
      "Model Family:                Gaussian   Df Model:                            1\n",
      "Link Function:               Identity   Scale:                          25.746\n",
      "Method:                          IRLS   Log-Likelihood:                -30430.\n",
      "Date:                Sun, 15 Sep 2024   Deviance:                   2.5741e+05\n",
      "Time:                        18:04:54   Pearson chi2:                 2.57e+05\n",
      "No. Iterations:                     3   Pseudo R-squ. (CS):             0.6831\n",
      "Covariance Type:            nonrobust                                         \n",
      "==============================================================================\n",
      "                 coef    std err          z      P>|z|      [0.025      0.975]\n",
      "------------------------------------------------------------------------------\n",
      "Intercept      0.0858      0.072      1.184      0.236      -0.056       0.228\n",
      "T             10.8799      0.101    107.192      0.000      10.681      11.079\n",
      "==============================================================================\n"
     ]
    }
   ],
   "source": [
    "#Estimate effect by regressing on outcome only using treatment variable\n",
    "\n",
    "formula1 = 'Y ~ T'\n",
    "glm_model = smf.glm(formula=formula1, data=df, family=Gaussian())\n",
    "glm_results = glm_model.fit()\n",
    "print(glm_results.summary())\n"
   ]
  },
  {
   "cell_type": "code",
   "execution_count": 24,
   "id": "b387abc0-b07e-40d4-a4ea-55745853488e",
   "metadata": {
    "tags": []
   },
   "outputs": [
    {
     "name": "stdout",
     "output_type": "stream",
     "text": [
      "                 Generalized Linear Model Regression Results                  \n",
      "==============================================================================\n",
      "Dep. Variable:                      Y   No. Observations:                10000\n",
      "Model:                            GLM   Df Residuals:                     9996\n",
      "Model Family:                Gaussian   Df Model:                            3\n",
      "Link Function:               Identity   Scale:                         0.99602\n",
      "Method:                          IRLS   Log-Likelihood:                -14167.\n",
      "Date:                Sun, 15 Sep 2024   Deviance:                       9956.3\n",
      "Time:                        18:04:54   Pearson chi2:                 9.96e+03\n",
      "No. Iterations:                     3   Pseudo R-squ. (CS):              1.000\n",
      "Covariance Type:            nonrobust                                         \n",
      "==============================================================================\n",
      "                 coef    std err          z      P>|z|      [0.025      0.975]\n",
      "------------------------------------------------------------------------------\n",
      "Intercept     -0.0112      0.014     -0.789      0.430      -0.039       0.017\n",
      "T              0.0346      0.030      1.162      0.245      -0.024       0.093\n",
      "M1             3.9874      0.010    402.881      0.000       3.968       4.007\n",
      "M2             3.0063      0.010    301.159      0.000       2.987       3.026\n",
      "==============================================================================\n"
     ]
    }
   ],
   "source": [
    "#Estimate effect by regressing on outcome using both treatment and mediator variables\n",
    "\n",
    "formula1 = 'Y ~ T + M1 + M2'\n",
    "glm_model = smf.glm(formula=formula1, data=df, family=Gaussian())\n",
    "glm_results = glm_model.fit()\n",
    "print(glm_results.summary())\n"
   ]
  },
  {
   "cell_type": "markdown",
   "id": "67829235-8eb5-401b-b6a7-5cb99e87880e",
   "metadata": {},
   "source": [
    "### Complex example"
   ]
  },
  {
   "cell_type": "code",
   "execution_count": 26,
   "id": "b3681867-2fe7-42ba-846a-7f49a29b1787",
   "metadata": {
    "tags": []
   },
   "outputs": [],
   "source": [
    "# Import causal matrix and create graph + synthetic data based on the matrix\n",
    "\n",
    "causal_matrix = pd.read_csv(\"Dont add all features - Mediator.csv\", index_col=0)\n",
    "causal_matrix.fillna(0.0,inplace=True)\n",
    "#Define the directional relationship of the nodes as a matrix. 0.0 indicates there's no relationship\n",
    "\n",
    "#Populate graph based on causal_matrix info\n",
    "G = create_graph(causal_matrix)\n",
    "\n",
    "#Define which variables have binary outcome\n",
    "binaries = ['T']\n",
    "\n",
    "#Create synthetic data based on graph and causal_matrix\n",
    "df = create_synth_data(G, causal_matrix, n, binaries)"
   ]
  },
  {
   "cell_type": "code",
   "execution_count": 27,
   "id": "cf969c8a-01c1-4fee-9e63-d2d0f7c84f76",
   "metadata": {
    "tags": []
   },
   "outputs": [
    {
     "data": {
      "image/png": "[encoded data removed]",
      "text/plain": [
       "<Figure size 1000x600 with 1 Axes>"
      ]
     },
     "metadata": {},
     "output_type": "display_data"
    }
   ],
   "source": [
    "# Create graph visualization\n",
    "\n",
    "fixed_positions = {'T':(0,0), 'Y':(1,0), 'M1':(0.5,-0.3), 'M2': (0.5, 0)}\n",
    "pos = nx.spring_layout(G, k=0.2, scale=2, pos=fixed_positions, fixed=fixed_positions.keys())\n",
    "\n",
    "node_colors = []\n",
    "for node in G.nodes: \n",
    "    if node == 'Y':\n",
    "        node_colors.append('lightgreen')\n",
    "    elif node == 'T':\n",
    "        node_colors.append('lightblue')\n",
    "    elif \"M\" in node:\n",
    "        node_colors.append('lightcoral')\n",
    "    else:\n",
    "        node_colors.append('lightyellow')\n",
    "    \n",
    "plt.figure(figsize=(10,6))\n",
    "nx.draw(G, pos, with_labels=True, node_size=500, node_color=node_colors, font_size=10, font_weight='bold')\n",
    "labels = nx.get_edge_attributes(G, 'weight')\n",
    "nx.draw_networkx_edge_labels(G, pos, edge_labels=labels)\n",
    "\n",
    "\n",
    "#plt.xlim(-0.2, 1.2)  # Add padding around the x-axis\n",
    "#plt.ylim(-1, 0.2)  # Add padding around the y-axis\n",
    "plt.show()"
   ]
  },
  {
   "cell_type": "code",
   "execution_count": 28,
   "id": "9b039e3a-e7ce-4a46-a4f9-2b7aafdb32e0",
   "metadata": {
    "tags": []
   },
   "outputs": [
    {
     "name": "stdout",
     "output_type": "stream",
     "text": [
      "                 Generalized Linear Model Regression Results                  \n",
      "==============================================================================\n",
      "Dep. Variable:                      Y   No. Observations:                10000\n",
      "Model:                            GLM   Df Residuals:                     9998\n",
      "Model Family:                Gaussian   Df Model:                            1\n",
      "Link Function:               Identity   Scale:                          436.97\n",
      "Method:                          IRLS   Log-Likelihood:                -44588.\n",
      "Date:                Sun, 15 Sep 2024   Deviance:                   4.3688e+06\n",
      "Time:                        18:04:55   Pearson chi2:                 4.37e+06\n",
      "No. Iterations:                     3   Pseudo R-squ. (CS):            0.06496\n",
      "Covariance Type:            nonrobust                                         \n",
      "==============================================================================\n",
      "                 coef    std err          z      P>|z|      [0.025      0.975]\n",
      "------------------------------------------------------------------------------\n",
      "Intercept     -0.1241      0.294     -0.423      0.672      -0.700       0.451\n",
      "T             10.8356      0.418     25.915      0.000      10.016      11.655\n",
      "==============================================================================\n"
     ]
    }
   ],
   "source": [
    "#Estimate effect by regressing on outcome only using treatment variable\n",
    "\n",
    "formula1 = 'Y ~ T'\n",
    "glm_model = smf.glm(formula=formula1, data=df, family=Gaussian())\n",
    "glm_results = glm_model.fit()\n",
    "print(glm_results.summary())\n"
   ]
  },
  {
   "cell_type": "code",
   "execution_count": 29,
   "id": "32764fe1-f29c-49ba-baf0-3ac8e2f28b87",
   "metadata": {
    "tags": []
   },
   "outputs": [
    {
     "name": "stdout",
     "output_type": "stream",
     "text": [
      "                 Generalized Linear Model Regression Results                  \n",
      "==============================================================================\n",
      "Dep. Variable:                      Y   No. Observations:                10000\n",
      "Model:                            GLM   Df Residuals:                     9984\n",
      "Model Family:                Gaussian   Df Model:                           15\n",
      "Link Function:               Identity   Scale:                         0.98842\n",
      "Method:                          IRLS   Log-Likelihood:                -14123.\n",
      "Date:                Sun, 15 Sep 2024   Deviance:                       9868.4\n",
      "Time:                        18:04:55   Pearson chi2:                 9.87e+03\n",
      "No. Iterations:                     3   Pseudo R-squ. (CS):              1.000\n",
      "Covariance Type:            nonrobust                                         \n",
      "==============================================================================\n",
      "                 coef    std err          z      P>|z|      [0.025      0.975]\n",
      "------------------------------------------------------------------------------\n",
      "Intercept      0.0127      0.016      0.797      0.425      -0.018       0.044\n",
      "T             -0.0254      0.034     -0.750      0.453      -0.092       0.041\n",
      "M1             3.9901      0.010    392.356      0.000       3.970       4.010\n",
      "M2             3.0032      0.010    301.597      0.000       2.984       3.023\n",
      "X1             2.0062      0.010    202.949      0.000       1.987       2.026\n",
      "X2             0.9784      0.010     97.927      0.000       0.959       0.998\n",
      "X3             1.0111      0.010    100.540      0.000       0.991       1.031\n",
      "X4             0.0397      0.042      0.946      0.344      -0.043       0.122\n",
      "X5             0.0109      0.014      0.761      0.447      -0.017       0.039\n",
      "X6             0.0324      0.022      1.450      0.147      -0.011       0.076\n",
      "X7             0.0018      0.012      0.147      0.883      -0.022       0.026\n",
      "X8             0.0428      0.032      1.355      0.175      -0.019       0.105\n",
      "X9            -0.0231      0.031     -0.738      0.461      -0.085       0.038\n",
      "X10           -0.0007      0.022     -0.033      0.974      -0.044       0.043\n",
      "X11            0.0783      0.041      1.905      0.057      -0.002       0.159\n",
      "X12            0.0232      0.022      1.040      0.298      -0.021       0.067\n",
      "==============================================================================\n"
     ]
    }
   ],
   "source": [
    "#Estimate effect by regressing on outcome using all variables\n",
    "\n",
    "formula1 = 'Y ~ T + M1 + M2 + X1 + X2 + X3 + X4 + X5 + X6 + X7 + X8 + X9 + X10 + X11 + X12'\n",
    "glm_model = smf.glm(formula=formula1, data=df, family=Gaussian())\n",
    "glm_results = glm_model.fit()\n",
    "print(glm_results.summary())\n"
   ]
  },
  {
   "cell_type": "code",
   "execution_count": 30,
   "id": "b30e4890-fb53-4963-b816-dbe2fe5fc5cf",
   "metadata": {},
   "outputs": [],
   "source": [
    "#Create train & test data\n",
    "X_train, X_test, T_train, T_test, Y_train, Y_test = train_test_split(df.drop(columns=['T','Y']), df['T'],df['Y'], test_size=0.2, random_state=random_state)"
   ]
  },
  {
   "cell_type": "code",
   "execution_count": 31,
   "id": "20dd8f37-0081-4dfb-bff0-6d0299e0b2f8",
   "metadata": {},
   "outputs": [
    {
     "name": "stdout",
     "output_type": "stream",
     "text": [
      "[LightGBM] [Info] Auto-choosing col-wise multi-threading, the overhead of testing was 0.001278 seconds.\n",
      "You can set `force_col_wise=true` to remove the overhead.\n",
      "[LightGBM] [Info] Total Bins 3570\n",
      "[LightGBM] [Info] Number of data points in the train set: 4061, number of used features: 14\n",
      "[LightGBM] [Info] Start training from score -0.253327\n",
      "[LightGBM] [Info] Auto-choosing col-wise multi-threading, the overhead of testing was 0.000375 seconds.\n",
      "You can set `force_col_wise=true` to remove the overhead.\n",
      "[LightGBM] [Info] Total Bins 3570\n",
      "[LightGBM] [Info] Number of data points in the train set: 3939, number of used features: 14\n",
      "[LightGBM] [Info] Start training from score 10.648984\n",
      "\n",
      "Estimated Average Treatment Effect (ATE): 0.618923061408746\n"
     ]
    }
   ],
   "source": [
    "#Estimate using T-learner and using Light GBM as the underlying model\n",
    "\n",
    "#Define and train model(s). \n",
    "t_learner = TLearner(models = LGBMRegressor(n_estimators=100, random_state=random_state))\n",
    "t_learner.fit(Y_train, T_train, X=X_train)\n",
    "\n",
    "#Calculate ITE (Individual Treatment Effect) for the test set\n",
    "ite = t_learner.effect(X_test)\n",
    "\n",
    "#Calculate ATE (Average Treatment Effect) by taking the average of the ITEs\n",
    "ate = np.mean(ite)\n",
    "print(f\"\\nEstimated Average Treatment Effect (ATE): {ate}\")"
   ]
  },
  {
   "cell_type": "code",
   "execution_count": 32,
   "id": "7c62e59d-a8f0-4b76-819a-02cad7a9ae15",
   "metadata": {
    "tags": []
   },
   "outputs": [
    {
     "name": "stdout",
     "output_type": "stream",
     "text": [
      "\n",
      "Estimated Average Treatment Effect (ATE): 0.3237362561768273\n"
     ]
    },
    {
     "name": "stderr",
     "output_type": "stream",
     "text": [
      "The final model has a nonzero intercept for at least one outcome; it will be subtracted, but consider fitting a model without an intercept if possible.\n"
     ]
    }
   ],
   "source": [
    "#Estimate using DML and using light GBM as the underlying model\n",
    "\n",
    "#Define DML (Double Machine Learning) setup\n",
    "dml = DML(\n",
    "    model_y=RandomForestRegressor(n_estimators=100, random_state=random_state),\n",
    "    model_t=RandomForestRegressor(n_estimators=100, random_state=random_state),\n",
    "    model_final=StatsModelsLinearRegression(),\n",
    "    cv=3,\n",
    "    random_state=random_state\n",
    ")\n",
    "\n",
    "# Fit the DML model\n",
    "dml.fit(Y_train, T_train, X=X_train)\n",
    "\n",
    "#Calculate ITE (Individual Treatment Effect) for the test set\n",
    "ite = dml.effect(X_test)\n",
    "\n",
    "#Calculate ATE (Average Treatment Effect) by taking the average of the ITEs\n",
    "ate = np.mean(ite)\n",
    "print(f\"\\nEstimated Average Treatment Effect (ATE): {ate}\")"
   ]
  }
 ],
 "metadata": {
  "kernelspec": {
   "display_name": "Python 3 (ipykernel)",
   "language": "python",
   "name": "python3"
  },
  "language_info": {
   "codemirror_mode": {
    "name": "ipython",
    "version": 3
   },
   "file_extension": ".py",
   "mimetype": "text/x-python",
   "name": "python",
   "nbconvert_exporter": "python",
   "pygments_lexer": "ipython3",
   "version": "3.11.7"
  }
 },
 "nbformat": 4,
 "nbformat_minor": 5
}
