{
 "cells": [
  {
   "cell_type": "markdown",
   "id": "c6c3074d-c501-460c-9263-d35a18901389",
   "metadata": {},
   "source": [
    "# [Blog title]\n",
    "Hiro Naito"
   ]
  },
  {
   "cell_type": "markdown",
   "id": "6ac4e606-4098-412c-95df-63a0c24de9c3",
   "metadata": {},
   "source": [
    "## Preps"
   ]
  },
  {
   "cell_type": "code",
   "execution_count": 2,
   "id": "7438faea-b9f1-4088-9903-69b44b03557a",
   "metadata": {
    "tags": []
   },
   "outputs": [],
   "source": [
    "# Libraries \n",
    "\n",
    "import pandas as pd\n",
    "import pickle\n",
    "import math\n",
    "import numpy as np\n",
    "import matplotlib.pyplot as plt\n",
    "\n",
    "from sklearn.model_selection import train_test_split\n",
    "from sklearn.linear_model import LinearRegression, LogisticRegression\n",
    "from sklearn.tree import DecisionTreeRegressor\n",
    "from sklearn.metrics import mean_squared_error, r2_score\n",
    "import statsmodels.api as sm\n",
    "import statsmodels.formula.api as smf\n",
    "from statsmodels.genmod.families import Gaussian\n",
    "\n",
    "from econml.metalearners import SLearner\n",
    "from sklearn.ensemble import RandomForestRegressor, RandomForestClassifier\n",
    "from lightgbm import LGBMClassifier, LGBMRegressor\n",
    "import dowhy\n",
    "from dowhy import CausalModel\n",
    "from dowhy import gcm\n",
    "import networkx as nx\n",
    "\n",
    "from econml.dml import DML\n",
    "from sklearn.ensemble import RandomForestRegressor\n",
    "from sklearn.linear_model import LassoCV\n",
    "from sklearn.model_selection import train_test_split\n",
    "from econml.metalearners import TLearner"
   ]
  },
  {
   "cell_type": "code",
   "execution_count": 3,
   "id": "8df78103-e2f2-4207-b884-e88f686a0274",
   "metadata": {
    "tags": []
   },
   "outputs": [],
   "source": [
    "def create_graph(causal_matrix: pd.DataFrame): \n",
    "    G = nx.DiGraph()\n",
    "    G.add_nodes_from(causal_matrix.columns.to_list())\n",
    "    for i, row in enumerate(causal_matrix.index):\n",
    "        for j, col in enumerate(causal_matrix.columns):\n",
    "            weight = causal_matrix.iloc[i, j]\n",
    "            if weight != 0.0:  # Add an edge only if the weight is non-zero\n",
    "                G.add_edge(row, col, weight=weight)\n",
    "\n",
    "    return G\n",
    "\n",
    "def create_synth_data(G : nx.DiGraph, causal_matrix: pd.DataFrame, n: int, binaries: list[str] = []):\n",
    "    #Get list of nodes in topolocial order\n",
    "    topological_sorted = list(nx.topological_sort(G))\n",
    "\n",
    "    df = pd.DataFrame()\n",
    "    for node in topological_sorted:\n",
    "        if node in binaries:\n",
    "            values = np.zeros(n)\n",
    "            for predecessor in G.predecessors(node):\n",
    "                values += df[predecessor] * causal_matrix.at[predecessor,node]\n",
    "            p = 1 / (1 + np.exp(-1.0 * values))\n",
    "            values = np.random.binomial(1,p,n)\n",
    "        else:\n",
    "            values = np.random.normal(0,1,n)\n",
    "            for predecessor in G.predecessors(node):\n",
    "                values += df[predecessor] * causal_matrix.at[predecessor,node]\n",
    "        df[node] = values\n",
    "    return df"
   ]
  },
  {
   "cell_type": "code",
   "execution_count": 4,
   "id": "6c881ae2-ee10-4582-a4eb-d23a693ece9b",
   "metadata": {
    "tags": []
   },
   "outputs": [],
   "source": [
    "#Synthetic data size\n",
    "n = 10000\n",
    "\n",
    "#Fixing seed\n",
    "random_state=123"
   ]
  },
  {
   "cell_type": "markdown",
   "id": "3475d629-3244-4e52-a3e2-60b25c9e88b9",
   "metadata": {},
   "source": [
    "## Part 1 - Mediators"
   ]
  },
  {
   "cell_type": "markdown",
   "id": "b54b15b6-5f2f-4703-ba78-399542741eb5",
   "metadata": {},
   "source": [
    "### Simple example with a mediator\n",
    "__Example scenarios:__\n",
    "   * __Education: After-School Tutoring__\n",
    "      * __Treatment (T):__ Enrollment in an after-school tutoring program.\n",
    "      * __Mediator (M):__ # of hours to study in a week.\n",
    "      * __Outcome (Y):__  GPA (Grade Point Average).\n",
    "   * __Mental Health: Cognitive Behavioral Therapy (CBT)__\n",
    "      * __Treatment (T):__ Joining Cognitive Behavioral Therapy (CBT).\n",
    "      * __Mediator (M):__ Frequency of negative thought pattern.\n",
    "      * __Outcome (Y):__ Mental health score from survey.\n",
    "   * __Marketing: Advertising Campaign__\n",
    "       * __Treatment (T):__ Exposure to an advertising campaign.\n",
    "       * __Mediator (M):__ Product awareness.\n",
    "       * __Outcome (Y):__ Product sales."
   ]
  },
  {
   "cell_type": "code",
   "execution_count": 20,
   "id": "2925e5ac-d576-400e-9c4a-9a2953ec572e",
   "metadata": {
    "tags": []
   },
   "outputs": [
    {
     "data": {
      "text/html": [
       "<div>\n",
       "<style scoped>\n",
       "    .dataframe tbody tr th:only-of-type {\n",
       "        vertical-align: middle;\n",
       "    }\n",
       "\n",
       "    .dataframe tbody tr th {\n",
       "        vertical-align: top;\n",
       "    }\n",
       "\n",
       "    .dataframe thead th {\n",
       "        text-align: right;\n",
       "    }\n",
       "</style>\n",
       "<table border=\"1\" class=\"dataframe\">\n",
       "  <thead>\n",
       "    <tr style=\"text-align: right;\">\n",
       "      <th></th>\n",
       "      <th>T</th>\n",
       "      <th>M</th>\n",
       "      <th>Y</th>\n",
       "    </tr>\n",
       "  </thead>\n",
       "  <tbody>\n",
       "    <tr>\n",
       "      <th>0</th>\n",
       "      <td>0</td>\n",
       "      <td>-1.092531</td>\n",
       "      <td>-4.599036</td>\n",
       "    </tr>\n",
       "    <tr>\n",
       "      <th>1</th>\n",
       "      <td>1</td>\n",
       "      <td>1.354815</td>\n",
       "      <td>3.530234</td>\n",
       "    </tr>\n",
       "    <tr>\n",
       "      <th>2</th>\n",
       "      <td>1</td>\n",
       "      <td>2.239324</td>\n",
       "      <td>9.215082</td>\n",
       "    </tr>\n",
       "    <tr>\n",
       "      <th>3</th>\n",
       "      <td>1</td>\n",
       "      <td>0.902585</td>\n",
       "      <td>4.746224</td>\n",
       "    </tr>\n",
       "    <tr>\n",
       "      <th>4</th>\n",
       "      <td>0</td>\n",
       "      <td>-0.473381</td>\n",
       "      <td>-1.604116</td>\n",
       "    </tr>\n",
       "    <tr>\n",
       "      <th>...</th>\n",
       "      <td>...</td>\n",
       "      <td>...</td>\n",
       "      <td>...</td>\n",
       "    </tr>\n",
       "    <tr>\n",
       "      <th>9995</th>\n",
       "      <td>0</td>\n",
       "      <td>-0.599361</td>\n",
       "      <td>-3.275682</td>\n",
       "    </tr>\n",
       "    <tr>\n",
       "      <th>9996</th>\n",
       "      <td>0</td>\n",
       "      <td>1.080794</td>\n",
       "      <td>4.296124</td>\n",
       "    </tr>\n",
       "    <tr>\n",
       "      <th>9997</th>\n",
       "      <td>0</td>\n",
       "      <td>0.954778</td>\n",
       "      <td>1.672744</td>\n",
       "    </tr>\n",
       "    <tr>\n",
       "      <th>9998</th>\n",
       "      <td>0</td>\n",
       "      <td>-0.260759</td>\n",
       "      <td>-1.884517</td>\n",
       "    </tr>\n",
       "    <tr>\n",
       "      <th>9999</th>\n",
       "      <td>1</td>\n",
       "      <td>0.741306</td>\n",
       "      <td>1.900472</td>\n",
       "    </tr>\n",
       "  </tbody>\n",
       "</table>\n",
       "<p>10000 rows × 3 columns</p>\n",
       "</div>"
      ],
      "text/plain": [
       "      T         M         Y\n",
       "0     0 -1.092531 -4.599036\n",
       "1     1  1.354815  3.530234\n",
       "2     1  2.239324  9.215082\n",
       "3     1  0.902585  4.746224\n",
       "4     0 -0.473381 -1.604116\n",
       "...  ..       ...       ...\n",
       "9995  0 -0.599361 -3.275682\n",
       "9996  0  1.080794  4.296124\n",
       "9997  0  0.954778  1.672744\n",
       "9998  0 -0.260759 -1.884517\n",
       "9999  1  0.741306  1.900472\n",
       "\n",
       "[10000 rows x 3 columns]"
      ]
     },
     "execution_count": 20,
     "metadata": {},
     "output_type": "execute_result"
    }
   ],
   "source": [
    "# Create causal matrix and create graph + synthetic data based on the matrix\n",
    "\n",
    "#Define the directional relationship of the nodes as a matrix. 0.0 indicates there's no relationship\n",
    "causal_matrix = pd.DataFrame([\n",
    "    {\"node_from\": \"T\", \"T\": 0.0, \"Y\": 0.0, \"M\": 2.0},\n",
    "    {\"node_from\": \"Y\", \"T\": 0.0, \"Y\": 0.0, \"M\": 0.0},\n",
    "    {\"node_from\": \"M\", \"T\": 0.0, \"Y\": 4.0, \"M\": 0.0}\n",
    "])\n",
    "causal_matrix.set_index('node_from',inplace=True)\n",
    "\n",
    "#Populate graph based on causal_matrix info\n",
    "G = create_graph(causal_matrix)\n",
    "\n",
    "#Create synthetic data with the relationship specified\n",
    "\n",
    "T = np.random.binomial(1,0.5,n)\n",
    "M = 2.0 * T + np.random.normal(0,1,n)\n",
    "Y = 4.0 * M + np.random.normal(0,1,n)\n",
    "\n",
    "df = pd.DataFrame({'T':T,'M':M,'Y':Y})\n",
    "df"
   ]
  },
  {
   "cell_type": "code",
   "execution_count": 22,
   "id": "9ec324f6-0329-4efd-b33b-8a0c6cb1c0e4",
   "metadata": {
    "tags": []
   },
   "outputs": [
    {
     "data": {
      "image/png": "[encoded data removed]",
      "text/plain": [
       "<Figure size 400x300 with 1 Axes>"
      ]
     },
     "metadata": {},
     "output_type": "display_data"
    }
   ],
   "source": [
    "# Create graph visualization\n",
    "\n",
    "fixed_positions = {'T':(0,0), 'Y':(1,0), 'M':(0.5,-0.3)}\n",
    "pos = nx.spring_layout(G, k=0.1, scale=2, pos=fixed_positions, fixed=fixed_positions.keys())\n",
    "\n",
    "node_colors = []\n",
    "for node in G.nodes: \n",
    "    if node == 'Y':\n",
    "        node_colors.append('lightgreen')\n",
    "    elif node == 'T':\n",
    "        node_colors.append('lightblue')\n",
    "    elif \"M\" in node:\n",
    "        node_colors.append('lightcoral')\n",
    "    else:\n",
    "        node_colors.append('lightyellow')\n",
    "    \n",
    "plt.figure(figsize=(4, 3))\n",
    "nx.draw(G, pos, with_labels=True, node_size=1000, node_color=node_colors, font_size=14, font_weight='bold')\n",
    "labels = nx.get_edge_attributes(G, 'weight')\n",
    "nx.draw_networkx_edge_labels(G, pos, edge_labels=labels)\n",
    "\n",
    "\n",
    "plt.xlim(-0.2, 1.2)  # Add padding around the x-axis\n",
    "plt.ylim(-1, 0.2)  # Add padding around the y-axis\n",
    "plt.show()"
   ]
  },
  {
   "cell_type": "code",
   "execution_count": 24,
   "id": "cab14016-3c64-4f1d-9911-1cde781a8136",
   "metadata": {
    "tags": []
   },
   "outputs": [
    {
     "name": "stdout",
     "output_type": "stream",
     "text": [
      "                 Generalized Linear Model Regression Results                  \n",
      "==============================================================================\n",
      "Dep. Variable:                      Y   No. Observations:                10000\n",
      "Model:                            GLM   Df Residuals:                     9998\n",
      "Model Family:                Gaussian   Df Model:                            1\n",
      "Link Function:               Identity   Scale:                          16.766\n",
      "Method:                          IRLS   Log-Likelihood:                -28285.\n",
      "Date:                Mon, 09 Sep 2024   Deviance:                   1.6763e+05\n",
      "Time:                        10:26:13   Pearson chi2:                 1.68e+05\n",
      "No. Iterations:                     3   Pseudo R-squ. (CS):             0.6147\n",
      "Covariance Type:            nonrobust                                         \n",
      "==============================================================================\n",
      "                 coef    std err          z      P>|z|      [0.025      0.975]\n",
      "------------------------------------------------------------------------------\n",
      "Intercept      0.0075      0.059      0.128      0.898      -0.108       0.123\n",
      "T              8.0002      0.082     97.655      0.000       7.840       8.161\n",
      "==============================================================================\n"
     ]
    }
   ],
   "source": [
    "#Estimate effect by regressing on outcome only using treatment variable\n",
    "\n",
    "formula1 = 'Y ~ T'\n",
    "glm_model = smf.glm(formula=formula1, data=df, family=Gaussian())\n",
    "glm_results = glm_model.fit()\n",
    "print(glm_results.summary())\n"
   ]
  },
  {
   "cell_type": "code",
   "execution_count": 26,
   "id": "42b3ccd6-3001-4d96-b8c6-bbab5fabfc1d",
   "metadata": {
    "tags": []
   },
   "outputs": [
    {
     "name": "stdout",
     "output_type": "stream",
     "text": [
      "                 Generalized Linear Model Regression Results                  \n",
      "==============================================================================\n",
      "Dep. Variable:                      Y   No. Observations:                10000\n",
      "Model:                            GLM   Df Residuals:                     9997\n",
      "Model Family:                Gaussian   Df Model:                            2\n",
      "Link Function:               Identity   Scale:                         0.98260\n",
      "Method:                          IRLS   Log-Likelihood:                -14100.\n",
      "Date:                Mon, 09 Sep 2024   Deviance:                       9823.0\n",
      "Time:                        10:26:15   Pearson chi2:                 9.82e+03\n",
      "No. Iterations:                     3   Pseudo R-squ. (CS):              1.000\n",
      "Covariance Type:            nonrobust                                         \n",
      "==============================================================================\n",
      "                 coef    std err          z      P>|z|      [0.025      0.975]\n",
      "------------------------------------------------------------------------------\n",
      "Intercept     -0.0057      0.014     -0.403      0.687      -0.034       0.022\n",
      "T              0.0322      0.028      1.146      0.252      -0.023       0.087\n",
      "M              3.9857      0.010    400.751      0.000       3.966       4.005\n",
      "==============================================================================\n"
     ]
    }
   ],
   "source": [
    "#Estimate effect by regressing on outcome using both treatment and mediator variable\n",
    "\n",
    "formula1 = 'Y ~ T + M'\n",
    "glm_model = smf.glm(formula=formula1, data=df, family=Gaussian())\n",
    "glm_results = glm_model.fit()\n",
    "print(glm_results.summary())\n"
   ]
  },
  {
   "cell_type": "markdown",
   "id": "db1aa00d-fd7d-4e4a-b40b-c4165fa652d7",
   "metadata": {},
   "source": [
    "### Simple example + adding an arrow T -> Y\n",
    "__Example scenarios:__\n",
    "   * __Education: Classroom Technology__\n",
    "      * __Treatment (T):__ Introduction of interactive technology in the classroom.\n",
    "      * __Mediator (M):__ Increase in student engagement.\n",
    "      * __Outcome (Y):__ Improvement in academic performance.\n",
    "   * __Mental Health: Mental Health: Antidepressant Medication__\n",
    "      * __Treatment (T):__ Use of antidepressant medication.\n",
    "      * __Mediator (M):__ Improvement in mood or cognitive function.\n",
    "      * __Outcome (Y):__ Reduction in depression symptoms.\n",
    "   * __Economics: Financial Incentive Program__\n",
    "       * __Treatment (T):__ Provision of financial incentives to workers.\n",
    "       * __Mediator (M):__  Increase in worker productivity.\n",
    "       * __Outcome (Y):__ Increase in company profits."
   ]
  },
  {
   "cell_type": "code",
   "execution_count": 132,
   "id": "5e3b91f2-96a9-43c9-b8bc-9a9fc6d661e2",
   "metadata": {
    "tags": []
   },
   "outputs": [],
   "source": [
    "# Create causal matrix and create graph + synthetic data based on the matrix\n",
    "\n",
    "\n",
    "#Define the directional relationship of the nodes as a matrix. 0.0 indicates there's no relationship\n",
    "causal_matrix = pd.DataFrame([\n",
    "    {\"node_from\": \"T\", \"T\": 0.0, \"Y\": 1.0, \"M\": 2.0},\n",
    "    {\"node_from\": \"Y\", \"T\": 0.0, \"Y\": 0.0, \"M\": 0.0},\n",
    "    {\"node_from\": \"M\", \"T\": 0.0, \"Y\": 4.0, \"M\": 0.0}\n",
    "])\n",
    "causal_matrix.set_index('node_from',inplace=True)\n",
    "\n",
    "#Populate graph based on causal_matrix info\n",
    "G = create_graph(causal_matrix)\n",
    "\n",
    "\n",
    "\n",
    "#Define which variables have binary outcome\n",
    "binaries = ['T']\n",
    "\n",
    "#Create synthetic data based on graph and causal_matrix\n",
    "df = create_synth_data(G, causal_matrix, n, binaries)"
   ]
  },
  {
   "cell_type": "code",
   "execution_count": 134,
   "id": "006daf43-e642-4afa-b588-24e93e35fe32",
   "metadata": {
    "tags": []
   },
   "outputs": [
    {
     "data": {
      "image/png": "[encoded data removed]",
      "text/plain": [
       "<Figure size 400x300 with 1 Axes>"
      ]
     },
     "metadata": {},
     "output_type": "display_data"
    }
   ],
   "source": [
    "# Create graph visualization\n",
    "\n",
    "fixed_positions = {'T':(0,0), 'Y':(1,0), 'M':(0.5,-0.3)}\n",
    "pos = nx.spring_layout(G, k=0.1, scale=2, pos=fixed_positions, fixed=fixed_positions.keys())\n",
    "\n",
    "node_colors = []\n",
    "for node in G.nodes: \n",
    "    if node == 'Y':\n",
    "        node_colors.append('lightgreen')\n",
    "    elif node == 'T':\n",
    "        node_colors.append('lightblue')\n",
    "    elif \"M\" in node:\n",
    "        node_colors.append('lightcoral')\n",
    "    else:\n",
    "        node_colors.append('lightyellow')\n",
    "    \n",
    "plt.figure(figsize=(4, 3))\n",
    "nx.draw(G, pos, with_labels=True, node_size=1000, node_color=node_colors, font_size=14, font_weight='bold')\n",
    "labels = nx.get_edge_attributes(G, 'weight')\n",
    "nx.draw_networkx_edge_labels(G, pos, edge_labels=labels)\n",
    "\n",
    "\n",
    "plt.xlim(-0.2, 1.2)  # Add padding around the x-axis\n",
    "plt.ylim(-1, 0.2)  # Add padding around the y-axis\n",
    "plt.show()"
   ]
  },
  {
   "cell_type": "code",
   "execution_count": 136,
   "id": "d6e32027-168b-476f-af40-5b8f0911a63d",
   "metadata": {
    "tags": []
   },
   "outputs": [
    {
     "name": "stdout",
     "output_type": "stream",
     "text": [
      "                 Generalized Linear Model Regression Results                  \n",
      "==============================================================================\n",
      "Dep. Variable:                      Y   No. Observations:                10000\n",
      "Model:                            GLM   Df Residuals:                     9998\n",
      "Model Family:                Gaussian   Df Model:                            1\n",
      "Link Function:               Identity   Scale:                          16.825\n",
      "Method:                          IRLS   Log-Likelihood:                -28303.\n",
      "Date:                Sat, 07 Sep 2024   Deviance:                   1.6821e+05\n",
      "Time:                        09:11:38   Pearson chi2:                 1.68e+05\n",
      "No. Iterations:                     3   Pseudo R-squ. (CS):             0.7081\n",
      "Covariance Type:            nonrobust                                         \n",
      "==============================================================================\n",
      "                 coef    std err          z      P>|z|      [0.025      0.975]\n",
      "------------------------------------------------------------------------------\n",
      "Intercept     -0.0036      0.058     -0.062      0.950      -0.117       0.110\n",
      "T              9.1037      0.082    110.970      0.000       8.943       9.265\n",
      "==============================================================================\n"
     ]
    }
   ],
   "source": [
    "#Estimate effect by regressing on outcome only using treatment variable\n",
    "\n",
    "formula1 = 'Y ~ T'\n",
    "glm_model = smf.glm(formula=formula1, data=df, family=Gaussian())\n",
    "glm_results = glm_model.fit()\n",
    "print(glm_results.summary())\n"
   ]
  },
  {
   "cell_type": "code",
   "execution_count": 138,
   "id": "0cd09c2c-f36b-4910-88da-13ed3059cec2",
   "metadata": {
    "tags": []
   },
   "outputs": [
    {
     "name": "stdout",
     "output_type": "stream",
     "text": [
      "                 Generalized Linear Model Regression Results                  \n",
      "==============================================================================\n",
      "Dep. Variable:                      Y   No. Observations:                10000\n",
      "Model:                            GLM   Df Residuals:                     9997\n",
      "Model Family:                Gaussian   Df Model:                            2\n",
      "Link Function:               Identity   Scale:                          1.0077\n",
      "Method:                          IRLS   Log-Likelihood:                -14226.\n",
      "Date:                Sat, 07 Sep 2024   Deviance:                       10074.\n",
      "Time:                        09:11:39   Pearson chi2:                 1.01e+04\n",
      "No. Iterations:                     3   Pseudo R-squ. (CS):              1.000\n",
      "Covariance Type:            nonrobust                                         \n",
      "==============================================================================\n",
      "                 coef    std err          z      P>|z|      [0.025      0.975]\n",
      "------------------------------------------------------------------------------\n",
      "Intercept     -0.0196      0.014     -1.388      0.165      -0.047       0.008\n",
      "T              0.9784      0.029     34.088      0.000       0.922       1.035\n",
      "M              4.0143      0.010    396.143      0.000       3.994       4.034\n",
      "==============================================================================\n"
     ]
    }
   ],
   "source": [
    "#Estimate effect by regressing on outcome using both treatment and mediator variable\n",
    "\n",
    "formula1 = 'Y ~ T + M'\n",
    "glm_model = smf.glm(formula=formula1, data=df, family=Gaussian())\n",
    "glm_results = glm_model.fit()\n",
    "print(glm_results.summary())\n"
   ]
  },
  {
   "cell_type": "markdown",
   "id": "96c21234-5e5d-4bc7-979a-1c4c8b2d7bf1",
   "metadata": {},
   "source": [
    "### Two mediators example\n",
    "__Example scenarios:__\n",
    "   * __Economics: Financial Literacy Training__\n",
    "     * __Treatment (T):__ Participation in a financial literacy training program.\n",
    "     * __Mediator 1 (M1):__ Improvement in budgeting skills.\n",
    "     * __Mediator 2 (M2):__ Increase in savings behavior.\n",
    "     * __Outcome (Y):__ Increase in financial stability.\n",
    "   * __Public Health: Weight Loss Program__\n",
    "      * __Treatment (T):__ Enrollment in a weight loss program.\n",
    "      * __Mediator 1 (M1):__ Increase in physical activity.\n",
    "      * __Mediator 2 (M2):__ Improvement in dietary habits.\n",
    "      * __Outcome (Y):__ Reduction in body mass index (BMI).\n",
    "   * __Marketing: Multi-Channel Advertising Campaign__\n",
    "      * __Treatment (T):__ Exposure to a multi-channel advertising campaign.\n",
    "      * __Mediator 1 (M1):__ Increase in brand awareness.\n",
    "      * __Mediator 2 (M2):__ Improvement in brand perception.\n",
    "      * __Outcome (Y):__ Increase in product sales"
   ]
  },
  {
   "cell_type": "code",
   "execution_count": 141,
   "id": "8b5c69aa-4f07-447e-a8ac-6ffa6ace826a",
   "metadata": {
    "tags": []
   },
   "outputs": [],
   "source": [
    "# Create causal matrix and create graph + synthetic data based on the matrix\n",
    "\n",
    "\n",
    "#Define the directional relationship of the nodes as a matrix. 0.0 indicates there's no relationship\n",
    "causal_matrix = pd.DataFrame([\n",
    "    {\"node_from\": \"T\", \"T\": 0.0, \"Y\": 0.0, \"M1\": 2.0, \"M2\": 1.0},\n",
    "    {\"node_from\": \"Y\", \"T\": 0.0, \"Y\": 0.0, \"M1\": 0.0, \"M2\": 0.0},\n",
    "    {\"node_from\": \"M1\", \"T\": 0.0, \"Y\": 4.0, \"M1\": 0.0, \"M2\": 0.0},\n",
    "    {\"node_from\": \"M2\", \"T\": 0.0, \"Y\": 3.0, \"M1\": 0.0, \"M2\": 0.0},\n",
    "\n",
    "])\n",
    "causal_matrix.set_index('node_from',inplace=True)\n",
    "\n",
    "#Populate graph based on causal_matrix info\n",
    "G = create_graph(causal_matrix)\n",
    "\n",
    "#Define which variables have binary outcome\n",
    "binaries = ['T']\n",
    "\n",
    "#Create synthetic data based on graph and causal_matrix\n",
    "df = create_synth_data(G, causal_matrix, n, binaries)"
   ]
  },
  {
   "cell_type": "code",
   "execution_count": 143,
   "id": "501c5193-fc4f-4967-ae67-4ab30eae2fde",
   "metadata": {
    "tags": []
   },
   "outputs": [
    {
     "data": {
      "image/png": "[encoded data removed]",
      "text/plain": [
       "<Figure size 400x300 with 1 Axes>"
      ]
     },
     "metadata": {},
     "output_type": "display_data"
    }
   ],
   "source": [
    "# Create graph visualization\n",
    "\n",
    "fixed_positions = {'T':(0,0), 'Y':(1,0), 'M1':(0.5,-0.3), 'M2': (0.5, 0)}\n",
    "pos = nx.spring_layout(G, k=0.1, scale=2, pos=fixed_positions, fixed=fixed_positions.keys())\n",
    "\n",
    "node_colors = []\n",
    "for node in G.nodes: \n",
    "    if node == 'Y':\n",
    "        node_colors.append('lightgreen')\n",
    "    elif node == 'T':\n",
    "        node_colors.append('lightblue')\n",
    "    elif \"M\" in node:\n",
    "        node_colors.append('lightcoral')\n",
    "    else:\n",
    "        node_colors.append('lightyellow')\n",
    "    \n",
    "plt.figure(figsize=(4, 3))\n",
    "nx.draw(G, pos, with_labels=True, node_size=1000, node_color=node_colors, font_size=14, font_weight='bold')\n",
    "labels = nx.get_edge_attributes(G, 'weight')\n",
    "nx.draw_networkx_edge_labels(G, pos, edge_labels=labels)\n",
    "\n",
    "\n",
    "plt.xlim(-0.2, 1.2)  # Add padding around the x-axis\n",
    "plt.ylim(-1, 0.2)  # Add padding around the y-axis\n",
    "plt.show()"
   ]
  },
  {
   "cell_type": "code",
   "execution_count": 145,
   "id": "006a0d82-4303-42c5-983f-1c3678eecce9",
   "metadata": {
    "tags": []
   },
   "outputs": [
    {
     "name": "stdout",
     "output_type": "stream",
     "text": [
      "                 Generalized Linear Model Regression Results                  \n",
      "==============================================================================\n",
      "Dep. Variable:                      Y   No. Observations:                10000\n",
      "Model:                            GLM   Df Residuals:                     9998\n",
      "Model Family:                Gaussian   Df Model:                            1\n",
      "Link Function:               Identity   Scale:                          25.992\n",
      "Method:                          IRLS   Log-Likelihood:                -30477.\n",
      "Date:                Sat, 07 Sep 2024   Deviance:                   2.5986e+05\n",
      "Time:                        09:11:41   Pearson chi2:                 2.60e+05\n",
      "No. Iterations:                     3   Pseudo R-squ. (CS):             0.6823\n",
      "Covariance Type:            nonrobust                                         \n",
      "==============================================================================\n",
      "                 coef    std err          z      P>|z|      [0.025      0.975]\n",
      "------------------------------------------------------------------------------\n",
      "Intercept     -0.0176      0.073     -0.243      0.808      -0.160       0.125\n",
      "T             10.9191      0.102    107.080      0.000      10.719      11.119\n",
      "==============================================================================\n"
     ]
    }
   ],
   "source": [
    "#Estimate effect by regressing on outcome only using treatment variable\n",
    "\n",
    "formula1 = 'Y ~ T'\n",
    "glm_model = smf.glm(formula=formula1, data=df, family=Gaussian())\n",
    "glm_results = glm_model.fit()\n",
    "print(glm_results.summary())\n"
   ]
  },
  {
   "cell_type": "code",
   "execution_count": 147,
   "id": "b387abc0-b07e-40d4-a4ea-55745853488e",
   "metadata": {
    "tags": []
   },
   "outputs": [
    {
     "name": "stdout",
     "output_type": "stream",
     "text": [
      "                 Generalized Linear Model Regression Results                  \n",
      "==============================================================================\n",
      "Dep. Variable:                      Y   No. Observations:                10000\n",
      "Model:                            GLM   Df Residuals:                     9996\n",
      "Model Family:                Gaussian   Df Model:                            3\n",
      "Link Function:               Identity   Scale:                          1.0016\n",
      "Method:                          IRLS   Log-Likelihood:                -14195.\n",
      "Date:                Sat, 07 Sep 2024   Deviance:                       10012.\n",
      "Time:                        09:11:42   Pearson chi2:                 1.00e+04\n",
      "No. Iterations:                     3   Pseudo R-squ. (CS):              1.000\n",
      "Covariance Type:            nonrobust                                         \n",
      "==============================================================================\n",
      "                 coef    std err          z      P>|z|      [0.025      0.975]\n",
      "------------------------------------------------------------------------------\n",
      "Intercept      0.0085      0.014      0.599      0.549      -0.019       0.036\n",
      "T             -0.0498      0.030     -1.662      0.097      -0.109       0.009\n",
      "M1             4.0080      0.010    397.683      0.000       3.988       4.028\n",
      "M2             3.0109      0.010    300.778      0.000       2.991       3.031\n",
      "==============================================================================\n"
     ]
    }
   ],
   "source": [
    "#Estimate effect by regressing on outcome using both treatment and mediator variables\n",
    "\n",
    "formula1 = 'Y ~ T + M1 + M2'\n",
    "glm_model = smf.glm(formula=formula1, data=df, family=Gaussian())\n",
    "glm_results = glm_model.fit()\n",
    "print(glm_results.summary())\n"
   ]
  },
  {
   "cell_type": "markdown",
   "id": "67829235-8eb5-401b-b6a7-5cb99e87880e",
   "metadata": {},
   "source": [
    "### Complex example"
   ]
  },
  {
   "cell_type": "code",
   "execution_count": 150,
   "id": "b3681867-2fe7-42ba-846a-7f49a29b1787",
   "metadata": {
    "tags": []
   },
   "outputs": [],
   "source": [
    "# Import causal matrix and create graph + synthetic data based on the matrix\n",
    "\n",
    "\n",
    "causal_matrix = pd.read_csv(\"Dont add all features - Mediator.csv\", index_col=0)\n",
    "causal_matrix.fillna(0.0,inplace=True)\n",
    "#Define the directional relationship of the nodes as a matrix. 0.0 indicates there's no relationship\n",
    "\n",
    "#Populate graph based on causal_matrix info\n",
    "G = create_graph(causal_matrix)\n",
    "\n",
    "#Define which variables have binary outcome\n",
    "binaries = ['T']\n",
    "\n",
    "#Create synthetic data based on graph and causal_matrix\n",
    "df = create_synth_data(G, causal_matrix, n, binaries)"
   ]
  },
  {
   "cell_type": "code",
   "execution_count": 152,
   "id": "cf969c8a-01c1-4fee-9e63-d2d0f7c84f76",
   "metadata": {
    "tags": []
   },
   "outputs": [
    {
     "data": {
      "image/png": "[encoded data removed]",
      "text/plain": [
       "<Figure size 1000x600 with 1 Axes>"
      ]
     },
     "metadata": {},
     "output_type": "display_data"
    }
   ],
   "source": [
    "# Create graph visualization\n",
    "\n",
    "fixed_positions = {'T':(0,0), 'Y':(1,0), 'M1':(0.5,-0.3), 'M2': (0.5, 0)}\n",
    "pos = nx.spring_layout(G, k=0.2, scale=2, pos=fixed_positions, fixed=fixed_positions.keys())\n",
    "\n",
    "node_colors = []\n",
    "for node in G.nodes: \n",
    "    if node == 'Y':\n",
    "        node_colors.append('lightgreen')\n",
    "    elif node == 'T':\n",
    "        node_colors.append('lightblue')\n",
    "    elif \"M\" in node:\n",
    "        node_colors.append('lightcoral')\n",
    "    else:\n",
    "        node_colors.append('lightyellow')\n",
    "    \n",
    "plt.figure(figsize=(10,6))\n",
    "nx.draw(G, pos, with_labels=True, node_size=500, node_color=node_colors, font_size=10, font_weight='bold')\n",
    "labels = nx.get_edge_attributes(G, 'weight')\n",
    "nx.draw_networkx_edge_labels(G, pos, edge_labels=labels)\n",
    "\n",
    "\n",
    "#plt.xlim(-0.2, 1.2)  # Add padding around the x-axis\n",
    "#plt.ylim(-1, 0.2)  # Add padding around the y-axis\n",
    "plt.show()"
   ]
  },
  {
   "cell_type": "code",
   "execution_count": 162,
   "id": "9b039e3a-e7ce-4a46-a4f9-2b7aafdb32e0",
   "metadata": {
    "tags": []
   },
   "outputs": [
    {
     "name": "stdout",
     "output_type": "stream",
     "text": [
      "                 Generalized Linear Model Regression Results                  \n",
      "==============================================================================\n",
      "Dep. Variable:                      Y   No. Observations:                10000\n",
      "Model:                            GLM   Df Residuals:                     9998\n",
      "Model Family:                Gaussian   Df Model:                            1\n",
      "Link Function:               Identity   Scale:                          425.81\n",
      "Method:                          IRLS   Log-Likelihood:                -44458.\n",
      "Date:                Sat, 07 Sep 2024   Deviance:                   4.2573e+06\n",
      "Time:                        09:12:59   Pearson chi2:                 4.26e+06\n",
      "No. Iterations:                     3   Pseudo R-squ. (CS):            0.07158\n",
      "Covariance Type:            nonrobust                                         \n",
      "==============================================================================\n",
      "                 coef    std err          z      P>|z|      [0.025      0.975]\n",
      "------------------------------------------------------------------------------\n",
      "Intercept     -0.1253      0.293     -0.427      0.669      -0.700       0.449\n",
      "T             11.2480      0.413     27.253      0.000      10.439      12.057\n",
      "==============================================================================\n"
     ]
    }
   ],
   "source": [
    "#Estimate effect by regressing on outcome only using treatment variable\n",
    "\n",
    "formula1 = 'Y ~ T'\n",
    "glm_model = smf.glm(formula=formula1, data=df, family=Gaussian())\n",
    "glm_results = glm_model.fit()\n",
    "print(glm_results.summary())\n"
   ]
  },
  {
   "cell_type": "code",
   "execution_count": 164,
   "id": "32764fe1-f29c-49ba-baf0-3ac8e2f28b87",
   "metadata": {
    "tags": []
   },
   "outputs": [
    {
     "name": "stdout",
     "output_type": "stream",
     "text": [
      "                 Generalized Linear Model Regression Results                  \n",
      "==============================================================================\n",
      "Dep. Variable:                      Y   No. Observations:                10000\n",
      "Model:                            GLM   Df Residuals:                     9984\n",
      "Model Family:                Gaussian   Df Model:                           15\n",
      "Link Function:               Identity   Scale:                         0.98901\n",
      "Method:                          IRLS   Log-Likelihood:                -14126.\n",
      "Date:                Sat, 07 Sep 2024   Deviance:                       9874.2\n",
      "Time:                        09:13:03   Pearson chi2:                 9.87e+03\n",
      "No. Iterations:                     3   Pseudo R-squ. (CS):              1.000\n",
      "Covariance Type:            nonrobust                                         \n",
      "==============================================================================\n",
      "                 coef    std err          z      P>|z|      [0.025      0.975]\n",
      "------------------------------------------------------------------------------\n",
      "Intercept     -0.0332      0.016     -2.067      0.039      -0.065      -0.002\n",
      "T              0.0271      0.034      0.805      0.421      -0.039       0.093\n",
      "M1             4.0076      0.010    401.221      0.000       3.988       4.027\n",
      "M2             3.0090      0.010    302.309      0.000       2.989       3.029\n",
      "X1             1.9991      0.010    202.517      0.000       1.980       2.018\n",
      "X2             1.0009      0.010    101.023      0.000       0.981       1.020\n",
      "X3             0.9958      0.010     99.940      0.000       0.976       1.015\n",
      "X4            -0.0209      0.041     -0.506      0.613      -0.102       0.060\n",
      "X5             0.0045      0.014      0.317      0.751      -0.023       0.032\n",
      "X6             0.0106      0.022      0.479      0.632      -0.033       0.054\n",
      "X7            -0.0083      0.012     -0.675      0.500      -0.033       0.016\n",
      "X8            -0.0395      0.031     -1.263      0.207      -0.101       0.022\n",
      "X9             0.0058      0.031      0.187      0.852      -0.055       0.067\n",
      "X10            0.0155      0.022      0.705      0.481      -0.028       0.059\n",
      "X11            0.0106      0.041      0.259      0.796      -0.070       0.091\n",
      "X12           -0.0356      0.022     -1.601      0.109      -0.079       0.008\n",
      "==============================================================================\n"
     ]
    }
   ],
   "source": [
    "#Estimate effect by regressing on outcome using all variables\n",
    "\n",
    "formula1 = 'Y ~ T + M1 + M2 + X1 + X2 + X3 + X4 + X5 + X6 + X7 + X8 + X9 + X10 + X11 + X12'\n",
    "glm_model = smf.glm(formula=formula1, data=df, family=Gaussian())\n",
    "glm_results = glm_model.fit()\n",
    "print(glm_results.summary())\n"
   ]
  },
  {
   "cell_type": "code",
   "execution_count": 172,
   "id": "20dd8f37-0081-4dfb-bff0-6d0299e0b2f8",
   "metadata": {},
   "outputs": [
    {
     "name": "stdout",
     "output_type": "stream",
     "text": [
      "[LightGBM] [Info] Auto-choosing col-wise multi-threading, the overhead of testing was 0.000369 seconds.\n",
      "You can set `force_col_wise=true` to remove the overhead.\n",
      "[LightGBM] [Info] Total Bins 3570\n",
      "[LightGBM] [Info] Number of data points in the train set: 3956, number of used features: 14\n",
      "[LightGBM] [Info] Start training from score -0.252504\n",
      "[LightGBM] [Info] Auto-choosing col-wise multi-threading, the overhead of testing was 0.000332 seconds.\n",
      "You can set `force_col_wise=true` to remove the overhead.\n",
      "[LightGBM] [Info] Total Bins 3570\n",
      "[LightGBM] [Info] Number of data points in the train set: 4044, number of used features: 14\n",
      "[LightGBM] [Info] Start training from score 11.284073\n",
      "fit complete\n",
      "Estimated CATE for the first few samples:\n",
      "[-0.61827935  1.39052064 -0.08702235  2.71378835 -0.97040984 -1.55911164\n",
      "  5.00667044  3.0170039  -0.04649342 -2.23546425]\n",
      "\n",
      "Estimated Average Treatment Effect (ATE): 0.7160435518957902\n"
     ]
    }
   ],
   "source": [
    "#Estimate using T-learner and using Random Forest as the underlying model\n",
    "\n",
    "t_learner = TLearner(models = LGBMRegressor(n_estimators=100, random_state=random_state))\n",
    "\n",
    "\n",
    "# Split to test & train. Training data includes all features\n",
    "X_train, X_test, T_train, T_test, Y_train, Y_test = train_test_split(df.drop(columns=['T','Y']), df['T'],df['Y'], test_size=0.2, random_state=random_state)\n",
    "\n",
    "\n",
    "t_learner.fit(Y_train, T_train, X=X_train)\n",
    "print(\"fit complete\")\n",
    "cate = t_learner.effect(X_test)\n",
    "\n",
    "# Print the estimated CATE for the first few samples\n",
    "print(\"Estimated CATE for the first few samples:\")\n",
    "print(cate[:10])\n",
    "\n",
    "# Optionally, you can also estimate the Average Treatment Effect (ATE) by averaging the CATE\n",
    "ate = np.mean(cate)\n",
    "print(f\"\\nEstimated Average Treatment Effect (ATE): {ate}\")"
   ]
  },
  {
   "cell_type": "code",
   "execution_count": 170,
   "id": "7c62e59d-a8f0-4b76-819a-02cad7a9ae15",
   "metadata": {
    "tags": []
   },
   "outputs": [
    {
     "name": "stdout",
     "output_type": "stream",
     "text": [
      "Estimated CATE for the first few samples:\n",
      "[ 0.71956371  0.53276721 -0.10061665  0.14240978  0.29831275  1.02398382\n",
      "  0.41767105  0.82186646  0.57245853  0.28935101]\n",
      "\n",
      "Estimated Average Treatment Effect (ATE): 0.4176914882578187\n"
     ]
    },
    {
     "name": "stderr",
     "output_type": "stream",
     "text": [
      "The final model has a nonzero intercept for at least one outcome; it will be subtracted, but consider fitting a model without an intercept if possible.\n"
     ]
    }
   ],
   "source": [
    "from econml.sklearn_extensions.linear_model import StatsModelsLinearRegression\n",
    "\n",
    "#Estimate using DML and using Random Forest as the underlying model\n",
    "\n",
    "dml = DML(\n",
    "    model_y=RandomForestRegressor(n_estimators=100, random_state=random_state),\n",
    "    model_t=RandomForestRegressor(n_estimators=100, random_state=random_state),\n",
    "    model_final=StatsModelsLinearRegression(),\n",
    "    cv=3,\n",
    "    random_state=random_state\n",
    ")\n",
    "\n",
    "# Fit the DML model\n",
    "dml.fit(Y_train, T_train, X=X_train)\n",
    "# Estimate the Conditional Average Treatment Effect (CATE)\n",
    "cate = dml.effect(X_test)\n",
    "\n",
    "# Print the estimated CATE for the first few samples\n",
    "print(\"Estimated CATE for the first few samples:\")\n",
    "print(cate[:10])\n",
    "\n",
    "# Optionally, you can also estimate the Average Treatment Effect (ATE) by averaging the CATE\n",
    "ate = np.mean(cate)\n",
    "print(f\"\\nEstimated Average Treatment Effect (ATE): {ate}\")"
   ]
  },
  {
   "cell_type": "markdown",
   "id": "86dbc5ac-78f0-4372-b7b8-aca141184818",
   "metadata": {},
   "source": [
    "## (To be used later on)"
   ]
  },
  {
   "cell_type": "code",
   "execution_count": null,
   "id": "21b4a4a7-dab6-415f-8b15-ebdcd8375c76",
   "metadata": {
    "tags": []
   },
   "outputs": [],
   "source": [
    "n = 1000\n",
    "\n",
    "X = np.random.normal(0, 1, n)\n",
    "\n",
    "T = 0.5 * X + np.random.normal(0, 1, n)\n",
    "\n",
    "Y = 2 * T + 0.3 * X + np.random.normal(0, 1, n)\n",
    "\n",
    "Z = 5 * T + 0.5 * X + np.random.normal(0, 1, n)\n",
    "\n",
    "A = np.random.normal(0, 1, n)\n",
    "B = np.random.normal(0, 1, n)\n"
   ]
  },
  {
   "cell_type": "code",
   "execution_count": null,
   "id": "233c35e4-60b8-4c38-99bb-82f83210c12a",
   "metadata": {
    "tags": []
   },
   "outputs": [],
   "source": [
    "df = pd.DataFrame({'Y': Y, 'T': T, 'X': X, 'Z': Z, 'A':A, 'B':B})"
   ]
  },
  {
   "cell_type": "code",
   "execution_count": null,
   "id": "f1d4dd55-959b-4d4f-8eca-2694f9845881",
   "metadata": {
    "tags": []
   },
   "outputs": [],
   "source": [
    "nodes = ['X','Y','Z','T','A','B']\n",
    "\n",
    "\n",
    "edges = []\n",
    "edges += [('A','Y'), ('X','Y'), ('X','T')]\n",
    "edges += [('T','A')]\n",
    "edges += [('B','A'),('B','Y')]\n",
    "G=nx.DiGraph()\n",
    "G.add_nodes_from(nodes)\n",
    "G.add_edges_from(edges)\n",
    "\n",
    "# pos = nx.spring_layout(G,k=5)  # Position nodes using Fruchterman-Reingold force-directed algorithm\n",
    "# pos[target_outcome] = (2,0)\n",
    "# pos[target_treatment] = (0.5,0)\n",
    "# node_colors = ['lightgreen' if node == target_treatment else 'lightcoral' if node == target_outcome else 'lightblue' for node in G.nodes]\n",
    "nx.draw(G, with_labels=True, node_color='lightgreen',node_size=1000, font_size=10, font_weight='bold', arrows=True)\n",
    "plt.show()"
   ]
  },
  {
   "cell_type": "code",
   "execution_count": null,
   "id": "23c89c79-f4f8-4867-b083-c5bc298c943d",
   "metadata": {
    "tags": []
   },
   "outputs": [],
   "source": [
    "#Create model \n",
    "model = CausalModel(\n",
    "    data=df,\n",
    "    treatment='T',\n",
    "    outcome='Y',\n",
    "    graph = \"\\n\".join(nx.generate_gml(G))\n",
    ")\n",
    "model.view_model()\n",
    "\n",
    "identified_estimand = model.identify_effect()\n",
    "print(identified_estimand)"
   ]
  },
  {
   "cell_type": "code",
   "execution_count": null,
   "id": "4753ba0d-091c-4367-bc9f-28bba9ce18db",
   "metadata": {
    "tags": []
   },
   "outputs": [],
   "source": []
  },
  {
   "cell_type": "code",
   "execution_count": null,
   "id": "557a5553-541c-4fcf-b129-a91b1d738cbf",
   "metadata": {
    "tags": []
   },
   "outputs": [],
   "source": [
    "# Set random seed for reproducibility\n",
    "np.random.seed(42)\n",
    "\n",
    "# Number of samples\n",
    "n = 1000\n",
    "\n",
    "# Simulate exogenous variable X\n",
    "X = np.random.normal(0, 1, n)\n",
    "\n",
    "# Simulate treatment variable T influenced by X\n",
    "T = 0.5 * X + np.random.normal(0, 1, n)\n",
    "\n",
    "# Simulate outcome variable Y influenced by T and X\n",
    "Y = 2 * T + 0.3 * X + np.random.normal(0, 1, n)\n",
    "\n",
    "# Simulate collider variable Z influenced by T and X\n",
    "Z = 5 * T + 0.5 * X + np.random.normal(0, 1, n)\n",
    "\n",
    "# Estimate causal effect of T on Y without conditioning on Z\n",
    "model_no_z = sm.OLS(Y, sm.add_constant(T)).fit()\n",
    "print(\"Without conditioning on Z:\")\n",
    "print(model_no_z.summary())\n",
    "\n",
    "# Estimate causal effect of T on Y with conditioning on Z\n",
    "data = pd.DataFrame({'Y': Y, 'T': T, 'X': X, 'Z': Z})\n",
    "model_with_z = sm.OLS(data['Y'], sm.add_constant(data[['T', 'Z']])).fit()\n",
    "print(\"\\nWith conditioning on Z:\")\n",
    "print(model_with_z.summary())\n",
    "\n",
    "# Visualizing the bias introduced by conditioning on Z\n",
    "plt.figure(figsize=(10, 6))\n",
    "plt.scatter(T, Y, alpha=0.3, label='Raw Data')\n",
    "plt.xlabel('Treatment (T)')\n",
    "plt.ylabel('Outcome (Y)')\n",
    "\n",
    "# Plot the regression line without conditioning on Z\n",
    "plt.plot(T, model_no_z.predict(sm.add_constant(T)), color='blue', label='Without Conditioning on Z')\n",
    "\n",
    "# Plot the regression line with conditioning on Z\n",
    "plt.plot(T, model_with_z.predict(sm.add_constant(data[['T', 'Z']])), color='red', label='With Conditioning on Z')\n",
    "\n",
    "plt.legend()\n",
    "plt.title('Bias Introduced by Conditioning on a Collider (Z)')\n",
    "plt.show()"
   ]
  },
  {
   "cell_type": "code",
   "execution_count": null,
   "id": "488410eb-e466-4a64-94af-db02bff520cf",
   "metadata": {
    "tags": []
   },
   "outputs": [],
   "source": [
    "import numpy as np\n",
    "import pandas as pd\n",
    "import statsmodels.formula.api as smf\n",
    "from statsmodels.genmod.families import Binomial\n",
    "\n",
    "# Set a random seed for reproducibility\n",
    "np.random.seed(42)\n",
    "\n",
    "# Generate synthetic data\n",
    "n = 10000\n",
    "\n",
    "# Collider 1\n",
    "T = np.random.normal(1,1,n)\n",
    "A = np.random.normal(2,3,n)\n",
    "X = 10 * T + 2.0 * A + np.random.normal(0,1,n)\n",
    "Y = 2 * X + np.random.normal(0,1,n)\n",
    "\n",
    "# # Collider 2\n",
    "# T = np.random.normal(1,1,n)\n",
    "# Y = 5.0 * T + np.random.normal(0,1,n)\n",
    "# X = 2.0 * Y + 1.0 * T + np.random.normal(0,1,n)\n",
    "# A = np.random.normal(2,3,n) #This is not actually used\n",
    "\n",
    "\n",
    "\n",
    "# Create a DataFrame\n",
    "df = pd.DataFrame({'Y': Y, 'T': T, 'A': A, 'X': X})\n",
    "formula1 = 'Y ~ T'\n",
    "glm_model = smf.glm(formula=formula1, data=df, family=Gaussian())\n",
    "glm_results = glm_model.fit()\n",
    "\n",
    "# Print the summary of the model\n",
    "print(glm_results.summary())\n",
    "\n",
    "\n",
    "formula = 'Y ~ T + A'\n",
    "glm_model = smf.glm(formula=formula, data=df, family=Gaussian())\n",
    "glm_results = glm_model.fit()\n",
    "\n",
    "# Print the summary of the model\n",
    "print(glm_results.summary())\n",
    "\n"
   ]
  },
  {
   "cell_type": "code",
   "execution_count": null,
   "id": "10dd2d7a-72ab-4415-b511-f92283701a78",
   "metadata": {
    "tags": []
   },
   "outputs": [],
   "source": [
    "import pandas as pd\n",
    "import networkx as nx\n",
    "import matplotlib.pyplot as plt\n",
    "\n",
    "# Load the causal effect matrix from a CSV file\n",
    "causal_matrix = pd.read_csv(\"causal_chart.csv\", index_col=0)\n",
    "causal_matrix.fillna(0.0,inplace=True)\n",
    "# Create a directed graph\n",
    "G = nx.DiGraph()\n",
    "\n",
    "# Add nodes (optional: you can explicitly add nodes if you want to control their order)\n",
    "G.add_nodes_from(causal_matrix.columns)\n",
    "\n",
    "# Add edges with weights based on the matrix values\n",
    "for i, row in enumerate(causal_matrix.index):\n",
    "    for j, col in enumerate(causal_matrix.columns):\n",
    "        weight = causal_matrix.iloc[i, j]\n",
    "        if weight != 0:  # Add an edge only if the weight is non-zero\n",
    "            G.add_edge(row, col, weight=weight)\n",
    "\n",
    "# Draw the graph\n",
    "#pos = nx.nx_agraph.graphviz_layout(G, prog=\"dot\")\n",
    "fixed_positions = {'T':(0,0), 'Y':(0,-4), 'C1':(0,-2),'C2':(2,0),'C3':(2,-4), 'X7':(1,-2), 'X10':(5,0)}\n",
    "pos = nx.spring_layout(G, k=2, pos=fixed_positions, fixed=fixed_positions.keys())\n",
    "\n",
    "node_colors = []\n",
    "for node in G.nodes: \n",
    "    if node == 'Y':\n",
    "        node_colors.append('lightgreen')\n",
    "    elif node == 'T':\n",
    "        node_colors.append('lightblue')\n",
    "    elif \"C\" in node:\n",
    "        node_colors.append('lightcoral')\n",
    "    else:\n",
    "        node_colors.append('lightyellow')\n",
    "    \n",
    "\n",
    "nx.draw(G, pos, with_labels=True, node_size=500, node_color=node_colors, font_size=10, font_weight='bold')\n",
    "labels = nx.get_edge_attributes(G, 'weight')\n",
    "nx.draw_networkx_edge_labels(G, pos, edge_labels=labels)\n",
    "\n",
    "plt.show()"
   ]
  },
  {
   "cell_type": "code",
   "execution_count": null,
   "id": "4d82e7a0-189a-4a63-9051-42580b7ccc02",
   "metadata": {
    "tags": []
   },
   "outputs": [],
   "source": [
    "\n",
    "n = n\n",
    "\n",
    "#Get list of nodes in topolocial order\n",
    "topological_sorted = list(nx.topological_sort(G))\n",
    "\n",
    "\n",
    "df = pd.DataFrame()\n",
    "for node in topological_sorted:\n",
    "    values = np.random.normal(0,1,n)\n",
    "    for predecessor in G.predecessors(node):\n",
    "        values += df[predecessor] * causal_matrix.at[predecessor,node]\n",
    "    df[node] = values\n",
    "    \n",
    "df"
   ]
  },
  {
   "cell_type": "code",
   "execution_count": null,
   "id": "cc214289-a161-4ab9-8b92-df8e995ac471",
   "metadata": {
    "tags": []
   },
   "outputs": [],
   "source": [
    "#Create model \n",
    "model = CausalModel(\n",
    "    data=df,\n",
    "    treatment='T',\n",
    "    outcome='Y',\n",
    "    graph = \"\\n\".join(nx.generate_gml(G))\n",
    ")\n",
    "model.view_model()\n",
    "\n",
    "identified_estimand = model.identify_effect()\n",
    "print(identified_estimand)"
   ]
  },
  {
   "cell_type": "code",
   "execution_count": null,
   "id": "923efcc1-77cf-4c99-8bdc-38fe67ee30df",
   "metadata": {
    "tags": []
   },
   "outputs": [],
   "source": [
    "formula1 = 'Y ~ T + X2 + X4 + X5 + X7 + X11'\n",
    "glm_model = smf.glm(formula=formula1, data=df, family=Gaussian())\n",
    "glm_results = glm_model.fit()\n",
    "\n",
    "# Print the summary of the model\n",
    "print(glm_results.summary())"
   ]
  },
  {
   "cell_type": "code",
   "execution_count": null,
   "id": "ffaabed4-9d73-4799-b6e1-fec9f60ee7d5",
   "metadata": {
    "tags": []
   },
   "outputs": [],
   "source": [
    "formula = 'Y ~ T + C2 + X1 + X2 + X3 + X4 + X5 + X6 + X7 + X8 + X9 + X10 + X11 + X12 + X13 + X14 + X15'\n",
    "#formula = 'Y ~ T + C1 + C2 + C3 + X1 + X2 + X3 + X4 + X5 + X6 + X7 + X9 + X11 + X12 + X13 + X14 + X15'\n",
    "\n",
    "glm_model = smf.glm(formula=formula, data=df, family=Gaussian())\n",
    "glm_results = glm_model.fit()\n",
    "\n",
    "# Print the summary of the model\n",
    "print(glm_results.summary())"
   ]
  },
  {
   "cell_type": "code",
   "execution_count": null,
   "id": "4085765c-32f2-4c8a-8d5b-4b0fe2092b36",
   "metadata": {
    "tags": []
   },
   "outputs": [],
   "source": [
    "formula1 = 'Y ~ T + X1 + X2 + X3 + X4 + X5 + X6 + X7 + X8 + X9 + X10 + X11 + X12 + X13'\n",
    "glm_model = smf.glm(formula=formula1, data=df, family=Gaussian())\n",
    "glm_results = glm_model.fit()\n",
    "\n",
    "# Print the summary of the model\n",
    "print(glm_results.summary())"
   ]
  },
  {
   "cell_type": "code",
   "execution_count": null,
   "id": "131b0eab-23bd-438d-82c7-65c1bc8d5f96",
   "metadata": {
    "tags": []
   },
   "outputs": [],
   "source": [
    "dml = DML(\n",
    "    model_y=RandomForestRegressor(n_estimators=100, random_state=random_state),\n",
    "    model_t=RandomForestRegressor(n_estimators=100, random_state=random_state),\n",
    "    model_final=LassoCV(),\n",
    "    cv=3,\n",
    "    random_state=random_state\n",
    ")\n",
    "\n",
    "# Split the data into training and testing sets\n",
    "X_train, X_test, T_train, T_test, Y_train, Y_test = train_test_split(df.drop(columns=['T','Y']), df['T'],df['Y'], test_size=0.2, random_state=random_state)\n",
    "\n",
    "\n",
    "# Fit the DML model\n",
    "dml.fit(Y_train, T_train, X=X_train)\n",
    "\n",
    "# Estimate the Conditional Average Treatment Effect (CATE)\n",
    "cate = dml.effect(X_test)\n",
    "\n",
    "# Print the estimated CATE for the first few samples\n",
    "print(\"Estimated CATE for the first few samples:\")\n",
    "print(cate[:10])\n",
    "\n",
    "# Optionally, you can also estimate the Average Treatment Effect (ATE) by averaging the CATE\n",
    "ate = np.mean(cate)\n",
    "print(f\"\\nEstimated Average Treatment Effect (ATE): {ate}\")"
   ]
  },
  {
   "cell_type": "code",
   "execution_count": null,
   "id": "2bb1c620-4df3-4c03-8324-a3822fd4fd3e",
   "metadata": {
    "tags": []
   },
   "outputs": [],
   "source": [
    "dml = DML(\n",
    "    model_y=RandomForestRegressor(n_estimators=100, random_state=random_state),\n",
    "    model_t=RandomForestRegressor(n_estimators=100, random_state=random_state),\n",
    "    model_final=LassoCV(),\n",
    "    cv=3,\n",
    "    random_state=random_state\n",
    ")\n",
    "\n",
    "# Split the data into training and testing sets\n",
    "X_train, X_test, T_train, T_test, Y_train, Y_test = train_test_split(df.drop(columns=['T','Y','C1','C3']), df['T'],df['Y'], test_size=0.2, random_state=random_state)\n",
    "\n",
    "\n",
    "# Fit the DML model\n",
    "dml.fit(Y_train, T_train, X=X_train)\n",
    "\n",
    "# Estimate the Conditional Average Treatment Effect (CATE)\n",
    "cate = dml.effect(X_test)\n",
    "\n",
    "# Print the estimated CATE for the first few samples\n",
    "print(\"Estimated CATE for the first few samples:\")\n",
    "print(cate[:10])\n",
    "\n",
    "# Optionally, you can also estimate the Average Treatment Effect (ATE) by averaging the CATE\n",
    "ate = np.mean(cate)\n",
    "print(f\"\\nEstimated Average Treatment Effect (ATE): {ate}\")"
   ]
  }
 ],
 "metadata": {
  "kernelspec": {
   "display_name": "Python 3 (ipykernel)",
   "language": "python",
   "name": "python3"
  },
  "language_info": {
   "codemirror_mode": {
    "name": "ipython",
    "version": 3
   },
   "file_extension": ".py",
   "mimetype": "text/x-python",
   "name": "python",
   "nbconvert_exporter": "python",
   "pygments_lexer": "ipython3",
   "version": "3.11.7"
  }
 },
 "nbformat": 4,
 "nbformat_minor": 5
}
