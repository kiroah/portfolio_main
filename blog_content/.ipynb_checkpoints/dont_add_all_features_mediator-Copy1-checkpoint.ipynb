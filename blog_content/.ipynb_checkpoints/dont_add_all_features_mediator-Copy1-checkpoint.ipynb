{
 "cells": [
  {
   "cell_type": "markdown",
   "id": "c6c3074d-c501-460c-9263-d35a18901389",
   "metadata": {
    "tags": []
   },
   "source": [
    "# Why You Can't Add All Features Into Causal Inference Even With ML\n",
    "# Part 1 - Mediators\n",
    "Hiro Naito"
   ]
  },
  {
   "cell_type": "markdown",
   "id": "6ac4e606-4098-412c-95df-63a0c24de9c3",
   "metadata": {},
   "source": [
    "## Preps"
   ]
  },
  {
   "cell_type": "code",
   "execution_count": 4,
   "id": "7438faea-b9f1-4088-9903-69b44b03557a",
   "metadata": {
    "tags": []
   },
   "outputs": [],
   "source": [
    "# Libraries \n",
    "\n",
    "import pandas as pd\n",
    "import pickle\n",
    "import math\n",
    "import numpy as np\n",
    "import matplotlib.pyplot as plt\n",
    "\n",
    "from sklearn.model_selection import train_test_split\n",
    "from sklearn.linear_model import LinearRegression, LogisticRegression\n",
    "from sklearn.tree import DecisionTreeRegressor\n",
    "from sklearn.metrics import mean_squared_error, r2_score\n",
    "import statsmodels.api as sm\n",
    "import statsmodels.formula.api as smf\n",
    "from statsmodels.genmod.families import Gaussian\n",
    "\n",
    "from econml.metalearners import SLearner\n",
    "from sklearn.ensemble import RandomForestRegressor, RandomForestClassifier\n",
    "from econml.sklearn_extensions.linear_model import StatsModelsLinearRegression\n",
    "\n",
    "from lightgbm import LGBMClassifier, LGBMRegressor\n",
    "import dowhy\n",
    "from dowhy import CausalModel\n",
    "from dowhy import gcm\n",
    "import networkx as nx\n",
    "\n",
    "from econml.dml import DML\n",
    "from sklearn.ensemble import RandomForestRegressor\n",
    "from sklearn.linear_model import LassoCV\n",
    "from sklearn.model_selection import train_test_split\n",
    "from econml.metalearners import TLearner"
   ]
  },
  {
   "cell_type": "code",
   "execution_count": 5,
   "id": "8df78103-e2f2-4207-b884-e88f686a0274",
   "metadata": {
    "tags": []
   },
   "outputs": [],
   "source": [
    "def create_graph(causal_matrix: pd.DataFrame): \n",
    "    G = nx.DiGraph()\n",
    "    G.add_nodes_from(causal_matrix.columns.to_list())\n",
    "    for i, row in enumerate(causal_matrix.index):\n",
    "        for j, col in enumerate(causal_matrix.columns):\n",
    "            weight = causal_matrix.iloc[i, j]\n",
    "            if weight != 0.0:  # Add an edge only if the weight is non-zero\n",
    "                G.add_edge(row, col, weight=weight)\n",
    "\n",
    "    return G\n",
    "\n",
    "def create_synth_data(G : nx.DiGraph, causal_matrix: pd.DataFrame, n: int, binaries: list[str] = []):\n",
    "    #Get list of nodes in topolocial order\n",
    "    topological_sorted = list(nx.topological_sort(G))\n",
    "\n",
    "    df = pd.DataFrame()\n",
    "    for node in topological_sorted:\n",
    "        if node in binaries:\n",
    "            values = np.zeros(n)\n",
    "            for predecessor in G.predecessors(node):\n",
    "                values += df[predecessor] * causal_matrix.at[predecessor,node]\n",
    "            p = 1 / (1 + np.exp(-1.0 * values))\n",
    "            values = np.random.binomial(1,p,n)\n",
    "        else:\n",
    "            values = np.random.normal(0,1,n)\n",
    "            for predecessor in G.predecessors(node):\n",
    "                values += df[predecessor] * causal_matrix.at[predecessor,node]\n",
    "        df[node] = values\n",
    "    return df"
   ]
  },
  {
   "cell_type": "code",
   "execution_count": 6,
   "id": "6c881ae2-ee10-4582-a4eb-d23a693ece9b",
   "metadata": {
    "tags": []
   },
   "outputs": [],
   "source": [
    "#Synthetic data size\n",
    "n = 10000\n",
    "\n",
    "#Fixing seed\n",
    "random_state=123"
   ]
  },
  {
   "cell_type": "markdown",
   "id": "3475d629-3244-4e52-a3e2-60b25c9e88b9",
   "metadata": {},
   "source": [
    "## Part 1 - Mediators"
   ]
  },
  {
   "cell_type": "markdown",
   "id": "b54b15b6-5f2f-4703-ba78-399542741eb5",
   "metadata": {},
   "source": [
    "### Simple example with a mediator\n",
    "__Example scenarios:__\n",
    "   * __Education: After-School Tutoring__\n",
    "      * __Treatment (T):__ Enrollment in an after-school tutoring program.\n",
    "      * __Mediator (M):__ # of hours to study in a week.\n",
    "      * __Outcome (Y):__  GPA (Grade Point Average).\n",
    "   * __Mental Health: Cognitive Behavioral Therapy (CBT)__\n",
    "      * __Treatment (T):__ Joining Cognitive Behavioral Therapy (CBT).\n",
    "      * __Mediator (M):__ Frequency of negative thought pattern.\n",
    "      * __Outcome (Y):__ Mental health score from survey.\n",
    "   * __Marketing: Advertising Campaign__\n",
    "       * __Treatment (T):__ Exposure to an advertising campaign.\n",
    "       * __Mediator (M):__ Product awareness.\n",
    "       * __Outcome (Y):__ Product sales."
   ]
  },
  {
   "cell_type": "code",
   "execution_count": 87,
   "id": "2925e5ac-d576-400e-9c4a-9a2953ec572e",
   "metadata": {
    "tags": []
   },
   "outputs": [
    {
     "name": "stdout",
     "output_type": "stream",
     "text": [
      "      T         M          Y\n",
      "0     0 -0.392114  -1.844807\n",
      "1     1  3.286656  12.462984\n",
      "2     0  0.413490  -0.217679\n",
      "3     0 -0.970275  -4.542176\n",
      "4     1  2.831050  12.029173\n",
      "...  ..       ...        ...\n",
      "9995  1  1.362648   4.325996\n",
      "9996  0 -0.054482  -1.014050\n",
      "9997  0  0.628919   3.418099\n",
      "9998  0  0.151407   0.214979\n",
      "9999  0  1.155966   4.698497\n",
      "\n",
      "[10000 rows x 3 columns]\n"
     ]
    }
   ],
   "source": [
    "# Create causal matrix and create graph + synthetic data based on the matrix\n",
    "\n",
    "#Define the directional relationship of the nodes as a matrix. 0.0 indicates there's no relationship\n",
    "causal_matrix = pd.DataFrame([\n",
    "    {\"node_from\": \"T\", \"T\": 0.0, \"Y\": 0.0, \"M\": 2.0},\n",
    "    {\"node_from\": \"Y\", \"T\": 0.0, \"Y\": 0.0, \"M\": 0.0},\n",
    "    {\"node_from\": \"M\", \"T\": 0.0, \"Y\": 4.0, \"M\": 0.0}\n",
    "])\n",
    "causal_matrix.set_index('node_from',inplace=True)\n",
    "\n",
    "#Populate graph based on causal_matrix info\n",
    "G = create_graph(causal_matrix)\n",
    "\n",
    "#Create synthetic data with the relationship specified\n",
    "\n",
    "T = np.random.binomial(1,0.5,n)\n",
    "M = 2.0 * T + np.random.normal(0,1,n)\n",
    "Y = 4.0 * M + np.random.normal(0,1,n)\n",
    "\n",
    "df = pd.DataFrame({'T':T,'M':M,'Y':Y})\n",
    "print(df)"
   ]
  },
  {
   "cell_type": "code",
   "execution_count": 10,
   "id": "9ec324f6-0329-4efd-b33b-8a0c6cb1c0e4",
   "metadata": {
    "tags": []
   },
   "outputs": [
    {
     "data": {
      "image/png": "[encoded data removed]",
      "text/plain": [
       "<Figure size 400x300 with 1 Axes>"
      ]
     },
     "metadata": {},
     "output_type": "display_data"
    }
   ],
   "source": [
    "# Create graph visualization\n",
    "\n",
    "fixed_positions = {'T':(0,0), 'Y':(1,0), 'M':(0.5,-0.3)}\n",
    "pos = nx.spring_layout(G, k=0.1, scale=2, pos=fixed_positions, fixed=fixed_positions.keys())\n",
    "\n",
    "node_colors = []\n",
    "for node in G.nodes: \n",
    "    if node == 'Y':\n",
    "        node_colors.append('lightgreen')\n",
    "    elif node == 'T':\n",
    "        node_colors.append('lightblue')\n",
    "    elif \"M\" in node:\n",
    "        node_colors.append('lightcoral')\n",
    "    else:\n",
    "        node_colors.append('lightyellow')\n",
    "    \n",
    "plt.figure(figsize=(4, 3))\n",
    "nx.draw(G, pos, with_labels=True, node_size=1000, node_color=node_colors, font_size=14, font_weight='bold')\n",
    "labels = nx.get_edge_attributes(G, 'weight')\n",
    "nx.draw_networkx_edge_labels(G, pos, edge_labels=labels)\n",
    "\n",
    "\n",
    "plt.xlim(-0.2, 1.2)  # Add padding around the x-axis\n",
    "plt.ylim(-1, 0.2)  # Add padding around the y-axis\n",
    "plt.show()"
   ]
  },
  {
   "cell_type": "code",
   "execution_count": 11,
   "id": "cab14016-3c64-4f1d-9911-1cde781a8136",
   "metadata": {
    "tags": []
   },
   "outputs": [
    {
     "name": "stdout",
     "output_type": "stream",
     "text": [
      "                 Generalized Linear Model Regression Results                  \n",
      "==============================================================================\n",
      "Dep. Variable:                      Y   No. Observations:                10000\n",
      "Model:                            GLM   Df Residuals:                     9998\n",
      "Model Family:                Gaussian   Df Model:                            1\n",
      "Link Function:               Identity   Scale:                          16.749\n",
      "Method:                          IRLS   Log-Likelihood:                -28280.\n",
      "Date:                Mon, 09 Sep 2024   Deviance:                   1.6746e+05\n",
      "Time:                        10:44:06   Pearson chi2:                 1.67e+05\n",
      "No. Iterations:                     3   Pseudo R-squ. (CS):             0.6061\n",
      "Covariance Type:            nonrobust                                         \n",
      "==============================================================================\n",
      "                 coef    std err          z      P>|z|      [0.025      0.975]\n",
      "------------------------------------------------------------------------------\n",
      "Intercept      0.0985      0.058      1.691      0.091      -0.016       0.213\n",
      "T              7.9017      0.082     96.529      0.000       7.741       8.062\n",
      "==============================================================================\n"
     ]
    }
   ],
   "source": [
    "#Estimate effect by regressing on outcome only using treatment variable\n",
    "\n",
    "formula1 = 'Y ~ T'\n",
    "glm_model = smf.glm(formula=formula1, data=df, family=Gaussian())\n",
    "glm_results = glm_model.fit()\n",
    "print(glm_results.summary())\n"
   ]
  },
  {
   "cell_type": "code",
   "execution_count": 12,
   "id": "42b3ccd6-3001-4d96-b8c6-bbab5fabfc1d",
   "metadata": {
    "tags": []
   },
   "outputs": [
    {
     "name": "stdout",
     "output_type": "stream",
     "text": [
      "                 Generalized Linear Model Regression Results                  \n",
      "==============================================================================\n",
      "Dep. Variable:                      Y   No. Observations:                10000\n",
      "Model:                            GLM   Df Residuals:                     9997\n",
      "Model Family:                Gaussian   Df Model:                            2\n",
      "Link Function:               Identity   Scale:                         0.98753\n",
      "Method:                          IRLS   Log-Likelihood:                -14125.\n",
      "Date:                Mon, 09 Sep 2024   Deviance:                       9872.4\n",
      "Time:                        10:44:06   Pearson chi2:                 9.87e+03\n",
      "No. Iterations:                     3   Pseudo R-squ. (CS):              1.000\n",
      "Covariance Type:            nonrobust                                         \n",
      "==============================================================================\n",
      "                 coef    std err          z      P>|z|      [0.025      0.975]\n",
      "------------------------------------------------------------------------------\n",
      "Intercept      0.0058      0.014      0.409      0.683      -0.022       0.034\n",
      "T              0.0500      0.028      1.788      0.074      -0.005       0.105\n",
      "M              3.9791      0.010    399.466      0.000       3.960       3.999\n",
      "==============================================================================\n"
     ]
    }
   ],
   "source": [
    "#Estimate effect by regressing on outcome using both treatment and mediator variable\n",
    "\n",
    "formula = 'Y ~ T + M'\n",
    "glm_model = smf.glm(formula=formula, data=df, family=Gaussian())\n",
    "glm_results = glm_model.fit()\n",
    "print(glm_results.summary())\n"
   ]
  },
  {
   "cell_type": "markdown",
   "id": "db1aa00d-fd7d-4e4a-b40b-c4165fa652d7",
   "metadata": {},
   "source": [
    "### Simple example + adding an arrow T -> Y\n",
    "__Example scenarios:__\n",
    "   * __Education: Classroom Technology__\n",
    "      * __Treatment (T):__ Introduction of interactive technology in the classroom.\n",
    "      * __Mediator (M):__ Increase in student engagement.\n",
    "      * __Outcome (Y):__ Improvement in academic performance.\n",
    "   * __Mental Health: Mental Health: Antidepressant Medication__\n",
    "      * __Treatment (T):__ Use of antidepressant medication.\n",
    "      * __Mediator (M):__ Improvement in mood or cognitive function.\n",
    "      * __Outcome (Y):__ Reduction in depression symptoms.\n",
    "   * __Economics: Financial Incentive Program__\n",
    "       * __Treatment (T):__ Provision of financial incentives to workers.\n",
    "       * __Mediator (M):__  Increase in worker productivity.\n",
    "       * __Outcome (Y):__ Increase in company profits."
   ]
  },
  {
   "cell_type": "code",
   "execution_count": 14,
   "id": "5e3b91f2-96a9-43c9-b8bc-9a9fc6d661e2",
   "metadata": {
    "tags": []
   },
   "outputs": [],
   "source": [
    "# Create causal matrix and create graph + synthetic data based on the matrix\n",
    "\n",
    "\n",
    "#Define the directional relationship of the nodes as a matrix. 0.0 indicates there's no relationship\n",
    "causal_matrix = pd.DataFrame([\n",
    "    {\"node_from\": \"T\", \"T\": 0.0, \"Y\": 1.0, \"M\": 2.0},\n",
    "    {\"node_from\": \"Y\", \"T\": 0.0, \"Y\": 0.0, \"M\": 0.0},\n",
    "    {\"node_from\": \"M\", \"T\": 0.0, \"Y\": 4.0, \"M\": 0.0}\n",
    "])\n",
    "causal_matrix.set_index('node_from',inplace=True)\n",
    "\n",
    "#Populate graph based on causal_matrix info\n",
    "G = create_graph(causal_matrix)\n",
    "\n",
    "\n",
    "\n",
    "#Define which variables have binary outcome\n",
    "binaries = ['T']\n",
    "\n",
    "#Create synthetic data based on graph and causal_matrix\n",
    "df = create_synth_data(G, causal_matrix, n, binaries)"
   ]
  },
  {
   "cell_type": "code",
   "execution_count": 15,
   "id": "006daf43-e642-4afa-b588-24e93e35fe32",
   "metadata": {
    "tags": []
   },
   "outputs": [
    {
     "data": {
      "image/png": "[encoded data removed]",
      "text/plain": [
       "<Figure size 400x300 with 1 Axes>"
      ]
     },
     "metadata": {},
     "output_type": "display_data"
    }
   ],
   "source": [
    "# Create graph visualization\n",
    "\n",
    "fixed_positions = {'T':(0,0), 'Y':(1,0), 'M':(0.5,-0.3)}\n",
    "pos = nx.spring_layout(G, k=0.1, scale=2, pos=fixed_positions, fixed=fixed_positions.keys())\n",
    "\n",
    "node_colors = []\n",
    "for node in G.nodes: \n",
    "    if node == 'Y':\n",
    "        node_colors.append('lightgreen')\n",
    "    elif node == 'T':\n",
    "        node_colors.append('lightblue')\n",
    "    elif \"M\" in node:\n",
    "        node_colors.append('lightcoral')\n",
    "    else:\n",
    "        node_colors.append('lightyellow')\n",
    "    \n",
    "plt.figure(figsize=(4, 3))\n",
    "nx.draw(G, pos, with_labels=True, node_size=1000, node_color=node_colors, font_size=14, font_weight='bold')\n",
    "labels = nx.get_edge_attributes(G, 'weight')\n",
    "nx.draw_networkx_edge_labels(G, pos, edge_labels=labels)\n",
    "\n",
    "\n",
    "plt.xlim(-0.2, 1.2)  # Add padding around the x-axis\n",
    "plt.ylim(-1, 0.2)  # Add padding around the y-axis\n",
    "plt.show()"
   ]
  },
  {
   "cell_type": "code",
   "execution_count": 16,
   "id": "d6e32027-168b-476f-af40-5b8f0911a63d",
   "metadata": {
    "tags": []
   },
   "outputs": [
    {
     "name": "stdout",
     "output_type": "stream",
     "text": [
      "                 Generalized Linear Model Regression Results                  \n",
      "==============================================================================\n",
      "Dep. Variable:                      Y   No. Observations:                10000\n",
      "Model:                            GLM   Df Residuals:                     9998\n",
      "Model Family:                Gaussian   Df Model:                            1\n",
      "Link Function:               Identity   Scale:                          16.851\n",
      "Method:                          IRLS   Log-Likelihood:                -28310.\n",
      "Date:                Mon, 09 Sep 2024   Deviance:                   1.6847e+05\n",
      "Time:                        10:44:06   Pearson chi2:                 1.68e+05\n",
      "No. Iterations:                     3   Pseudo R-squ. (CS):             0.7057\n",
      "Covariance Type:            nonrobust                                         \n",
      "==============================================================================\n",
      "                 coef    std err          z      P>|z|      [0.025      0.975]\n",
      "------------------------------------------------------------------------------\n",
      "Intercept     -0.0331      0.058     -0.571      0.568      -0.147       0.081\n",
      "T              9.0805      0.082    110.602      0.000       8.920       9.241\n",
      "==============================================================================\n"
     ]
    }
   ],
   "source": [
    "#Estimate effect by regressing on outcome only using treatment variable\n",
    "\n",
    "formula1 = 'Y ~ T'\n",
    "glm_model = smf.glm(formula=formula1, data=df, family=Gaussian())\n",
    "glm_results = glm_model.fit()\n",
    "print(glm_results.summary())\n"
   ]
  },
  {
   "cell_type": "code",
   "execution_count": 17,
   "id": "0cd09c2c-f36b-4910-88da-13ed3059cec2",
   "metadata": {
    "tags": []
   },
   "outputs": [
    {
     "name": "stdout",
     "output_type": "stream",
     "text": [
      "                 Generalized Linear Model Regression Results                  \n",
      "==============================================================================\n",
      "Dep. Variable:                      Y   No. Observations:                10000\n",
      "Model:                            GLM   Df Residuals:                     9997\n",
      "Model Family:                Gaussian   Df Model:                            2\n",
      "Link Function:               Identity   Scale:                          1.0181\n",
      "Method:                          IRLS   Log-Likelihood:                -14277.\n",
      "Date:                Mon, 09 Sep 2024   Deviance:                       10178.\n",
      "Time:                        10:44:06   Pearson chi2:                 1.02e+04\n",
      "No. Iterations:                     3   Pseudo R-squ. (CS):              1.000\n",
      "Covariance Type:            nonrobust                                         \n",
      "==============================================================================\n",
      "                 coef    std err          z      P>|z|      [0.025      0.975]\n",
      "------------------------------------------------------------------------------\n",
      "Intercept      0.0068      0.014      0.480      0.631      -0.021       0.035\n",
      "T              1.0621      0.029     37.073      0.000       1.006       1.118\n",
      "M              3.9688      0.010    394.320      0.000       3.949       3.989\n",
      "==============================================================================\n"
     ]
    }
   ],
   "source": [
    "#Estimate effect by regressing on outcome using both treatment and mediator variable\n",
    "\n",
    "formula1 = 'Y ~ T + M'\n",
    "glm_model = smf.glm(formula=formula1, data=df, family=Gaussian())\n",
    "glm_results = glm_model.fit()\n",
    "print(glm_results.summary())\n"
   ]
  },
  {
   "cell_type": "markdown",
   "id": "96c21234-5e5d-4bc7-979a-1c4c8b2d7bf1",
   "metadata": {},
   "source": [
    "### Two mediators example\n",
    "__Example scenarios:__\n",
    "   * __Economics: Financial Literacy Training__\n",
    "     * __Treatment (T):__ Participation in a financial literacy training program.\n",
    "     * __Mediator 1 (M1):__ Improvement in budgeting skills.\n",
    "     * __Mediator 2 (M2):__ Increase in savings behavior.\n",
    "     * __Outcome (Y):__ Increase in financial stability.\n",
    "   * __Public Health: Weight Loss Program__\n",
    "      * __Treatment (T):__ Enrollment in a weight loss program.\n",
    "      * __Mediator 1 (M1):__ Increase in physical activity.\n",
    "      * __Mediator 2 (M2):__ Improvement in dietary habits.\n",
    "      * __Outcome (Y):__ Reduction in body mass index (BMI).\n",
    "   * __Marketing: Multi-Channel Advertising Campaign__\n",
    "      * __Treatment (T):__ Exposure to a multi-channel advertising campaign.\n",
    "      * __Mediator 1 (M1):__ Increase in brand awareness.\n",
    "      * __Mediator 2 (M2):__ Improvement in brand perception.\n",
    "      * __Outcome (Y):__ Increase in product sales"
   ]
  },
  {
   "cell_type": "code",
   "execution_count": 19,
   "id": "8b5c69aa-4f07-447e-a8ac-6ffa6ace826a",
   "metadata": {
    "tags": []
   },
   "outputs": [],
   "source": [
    "# Create causal matrix and create graph + synthetic data based on the matrix\n",
    "\n",
    "\n",
    "#Define the directional relationship of the nodes as a matrix. 0.0 indicates there's no relationship\n",
    "causal_matrix = pd.DataFrame([\n",
    "    {\"node_from\": \"T\", \"T\": 0.0, \"Y\": 0.0, \"M1\": 2.0, \"M2\": 1.0},\n",
    "    {\"node_from\": \"Y\", \"T\": 0.0, \"Y\": 0.0, \"M1\": 0.0, \"M2\": 0.0},\n",
    "    {\"node_from\": \"M1\", \"T\": 0.0, \"Y\": 4.0, \"M1\": 0.0, \"M2\": 0.0},\n",
    "    {\"node_from\": \"M2\", \"T\": 0.0, \"Y\": 3.0, \"M1\": 0.0, \"M2\": 0.0},\n",
    "\n",
    "])\n",
    "causal_matrix.set_index('node_from',inplace=True)\n",
    "\n",
    "#Populate graph based on causal_matrix info\n",
    "G = create_graph(causal_matrix)\n",
    "\n",
    "#Define which variables have binary outcome\n",
    "binaries = ['T']\n",
    "\n",
    "#Create synthetic data based on graph and causal_matrix\n",
    "df = create_synth_data(G, causal_matrix, n, binaries)"
   ]
  },
  {
   "cell_type": "code",
   "execution_count": 20,
   "id": "501c5193-fc4f-4967-ae67-4ab30eae2fde",
   "metadata": {
    "tags": []
   },
   "outputs": [
    {
     "data": {
      "image/png": "[encoded data removed]",
      "text/plain": [
       "<Figure size 400x300 with 1 Axes>"
      ]
     },
     "metadata": {},
     "output_type": "display_data"
    }
   ],
   "source": [
    "# Create graph visualization\n",
    "\n",
    "fixed_positions = {'T':(0,0), 'Y':(1,0), 'M1':(0.5,-0.3), 'M2': (0.5, 0)}\n",
    "pos = nx.spring_layout(G, k=0.1, scale=2, pos=fixed_positions, fixed=fixed_positions.keys())\n",
    "\n",
    "node_colors = []\n",
    "for node in G.nodes: \n",
    "    if node == 'Y':\n",
    "        node_colors.append('lightgreen')\n",
    "    elif node == 'T':\n",
    "        node_colors.append('lightblue')\n",
    "    elif \"M\" in node:\n",
    "        node_colors.append('lightcoral')\n",
    "    else:\n",
    "        node_colors.append('lightyellow')\n",
    "    \n",
    "plt.figure(figsize=(4, 3))\n",
    "nx.draw(G, pos, with_labels=True, node_size=1000, node_color=node_colors, font_size=14, font_weight='bold')\n",
    "labels = nx.get_edge_attributes(G, 'weight')\n",
    "nx.draw_networkx_edge_labels(G, pos, edge_labels=labels)\n",
    "\n",
    "\n",
    "plt.xlim(-0.2, 1.2)  # Add padding around the x-axis\n",
    "plt.ylim(-1, 0.2)  # Add padding around the y-axis\n",
    "plt.show()"
   ]
  },
  {
   "cell_type": "code",
   "execution_count": 21,
   "id": "006a0d82-4303-42c5-983f-1c3678eecce9",
   "metadata": {
    "tags": []
   },
   "outputs": [
    {
     "name": "stdout",
     "output_type": "stream",
     "text": [
      "                 Generalized Linear Model Regression Results                  \n",
      "==============================================================================\n",
      "Dep. Variable:                      Y   No. Observations:                10000\n",
      "Model:                            GLM   Df Residuals:                     9998\n",
      "Model Family:                Gaussian   Df Model:                            1\n",
      "Link Function:               Identity   Scale:                          25.817\n",
      "Method:                          IRLS   Log-Likelihood:                -30444.\n",
      "Date:                Mon, 09 Sep 2024   Deviance:                   2.5812e+05\n",
      "Time:                        10:44:06   Pearson chi2:                 2.58e+05\n",
      "No. Iterations:                     3   Pseudo R-squ. (CS):             0.6957\n",
      "Covariance Type:            nonrobust                                         \n",
      "==============================================================================\n",
      "                 coef    std err          z      P>|z|      [0.025      0.975]\n",
      "------------------------------------------------------------------------------\n",
      "Intercept     -0.0337      0.072     -0.467      0.640      -0.175       0.108\n",
      "T             11.0849      0.102    109.076      0.000      10.886      11.284\n",
      "==============================================================================\n"
     ]
    }
   ],
   "source": [
    "#Estimate effect by regressing on outcome only using treatment variable\n",
    "\n",
    "formula1 = 'Y ~ T'\n",
    "glm_model = smf.glm(formula=formula1, data=df, family=Gaussian())\n",
    "glm_results = glm_model.fit()\n",
    "print(glm_results.summary())\n"
   ]
  },
  {
   "cell_type": "code",
   "execution_count": 22,
   "id": "b387abc0-b07e-40d4-a4ea-55745853488e",
   "metadata": {
    "tags": []
   },
   "outputs": [
    {
     "name": "stdout",
     "output_type": "stream",
     "text": [
      "                 Generalized Linear Model Regression Results                  \n",
      "==============================================================================\n",
      "Dep. Variable:                      Y   No. Observations:                10000\n",
      "Model:                            GLM   Df Residuals:                     9996\n",
      "Model Family:                Gaussian   Df Model:                            3\n",
      "Link Function:               Identity   Scale:                          1.0100\n",
      "Method:                          IRLS   Log-Likelihood:                -14237.\n",
      "Date:                Mon, 09 Sep 2024   Deviance:                       10096.\n",
      "Time:                        10:44:06   Pearson chi2:                 1.01e+04\n",
      "No. Iterations:                     3   Pseudo R-squ. (CS):              1.000\n",
      "Covariance Type:            nonrobust                                         \n",
      "==============================================================================\n",
      "                 coef    std err          z      P>|z|      [0.025      0.975]\n",
      "------------------------------------------------------------------------------\n",
      "Intercept      0.0130      0.014      0.912      0.362      -0.015       0.041\n",
      "T             -0.0112      0.030     -0.370      0.711      -0.071       0.048\n",
      "M1             3.9924      0.010    397.192      0.000       3.973       4.012\n",
      "M2             3.0184      0.010    296.334      0.000       2.998       3.038\n",
      "==============================================================================\n"
     ]
    }
   ],
   "source": [
    "#Estimate effect by regressing on outcome using both treatment and mediator variables\n",
    "\n",
    "formula1 = 'Y ~ T + M1 + M2'\n",
    "glm_model = smf.glm(formula=formula1, data=df, family=Gaussian())\n",
    "glm_results = glm_model.fit()\n",
    "print(glm_results.summary())\n"
   ]
  },
  {
   "cell_type": "markdown",
   "id": "67829235-8eb5-401b-b6a7-5cb99e87880e",
   "metadata": {},
   "source": [
    "### Complex example"
   ]
  },
  {
   "cell_type": "code",
   "execution_count": 24,
   "id": "b3681867-2fe7-42ba-846a-7f49a29b1787",
   "metadata": {
    "tags": []
   },
   "outputs": [],
   "source": [
    "# Import causal matrix and create graph + synthetic data based on the matrix\n",
    "\n",
    "\n",
    "causal_matrix = pd.read_csv(\"Dont add all features - Mediator.csv\", index_col=0)\n",
    "causal_matrix.fillna(0.0,inplace=True)\n",
    "#Define the directional relationship of the nodes as a matrix. 0.0 indicates there's no relationship\n",
    "\n",
    "#Populate graph based on causal_matrix info\n",
    "G = create_graph(causal_matrix)\n",
    "\n",
    "#Define which variables have binary outcome\n",
    "binaries = ['T']\n",
    "\n",
    "#Create synthetic data based on graph and causal_matrix\n",
    "df = create_synth_data(G, causal_matrix, n, binaries)"
   ]
  },
  {
   "cell_type": "code",
   "execution_count": 25,
   "id": "cf969c8a-01c1-4fee-9e63-d2d0f7c84f76",
   "metadata": {
    "tags": []
   },
   "outputs": [
    {
     "data": {
      "image/png": "[encoded data removed]",
      "text/plain": [
       "<Figure size 1000x600 with 1 Axes>"
      ]
     },
     "metadata": {},
     "output_type": "display_data"
    }
   ],
   "source": [
    "# Create graph visualization\n",
    "\n",
    "fixed_positions = {'T':(0,0), 'Y':(1,0), 'M1':(0.5,-0.3), 'M2': (0.5, 0)}\n",
    "pos = nx.spring_layout(G, k=0.2, scale=2, pos=fixed_positions, fixed=fixed_positions.keys())\n",
    "\n",
    "node_colors = []\n",
    "for node in G.nodes: \n",
    "    if node == 'Y':\n",
    "        node_colors.append('lightgreen')\n",
    "    elif node == 'T':\n",
    "        node_colors.append('lightblue')\n",
    "    elif \"M\" in node:\n",
    "        node_colors.append('lightcoral')\n",
    "    else:\n",
    "        node_colors.append('lightyellow')\n",
    "    \n",
    "plt.figure(figsize=(10,6))\n",
    "nx.draw(G, pos, with_labels=True, node_size=500, node_color=node_colors, font_size=10, font_weight='bold')\n",
    "labels = nx.get_edge_attributes(G, 'weight')\n",
    "nx.draw_networkx_edge_labels(G, pos, edge_labels=labels)\n",
    "\n",
    "\n",
    "#plt.xlim(-0.2, 1.2)  # Add padding around the x-axis\n",
    "#plt.ylim(-1, 0.2)  # Add padding around the y-axis\n",
    "plt.show()"
   ]
  },
  {
   "cell_type": "code",
   "execution_count": 26,
   "id": "9b039e3a-e7ce-4a46-a4f9-2b7aafdb32e0",
   "metadata": {
    "tags": []
   },
   "outputs": [
    {
     "name": "stdout",
     "output_type": "stream",
     "text": [
      "                 Generalized Linear Model Regression Results                  \n",
      "==============================================================================\n",
      "Dep. Variable:                      Y   No. Observations:                10000\n",
      "Model:                            GLM   Df Residuals:                     9998\n",
      "Model Family:                Gaussian   Df Model:                            1\n",
      "Link Function:               Identity   Scale:                          425.69\n",
      "Method:                          IRLS   Log-Likelihood:                -44457.\n",
      "Date:                Mon, 09 Sep 2024   Deviance:                   4.2560e+06\n",
      "Time:                        10:44:07   Pearson chi2:                 4.26e+06\n",
      "No. Iterations:                     3   Pseudo R-squ. (CS):            0.06255\n",
      "Covariance Type:            nonrobust                                         \n",
      "==============================================================================\n",
      "                 coef    std err          z      P>|z|      [0.025      0.975]\n",
      "------------------------------------------------------------------------------\n",
      "Intercept      0.1371      0.294      0.467      0.641      -0.438       0.712\n",
      "T             10.4881      0.413     25.415      0.000       9.679      11.297\n",
      "==============================================================================\n"
     ]
    }
   ],
   "source": [
    "#Estimate effect by regressing on outcome only using treatment variable\n",
    "\n",
    "formula1 = 'Y ~ T'\n",
    "glm_model = smf.glm(formula=formula1, data=df, family=Gaussian())\n",
    "glm_results = glm_model.fit()\n",
    "print(glm_results.summary())\n"
   ]
  },
  {
   "cell_type": "code",
   "execution_count": 27,
   "id": "32764fe1-f29c-49ba-baf0-3ac8e2f28b87",
   "metadata": {
    "tags": []
   },
   "outputs": [
    {
     "name": "stdout",
     "output_type": "stream",
     "text": [
      "                 Generalized Linear Model Regression Results                  \n",
      "==============================================================================\n",
      "Dep. Variable:                      Y   No. Observations:                10000\n",
      "Model:                            GLM   Df Residuals:                     9984\n",
      "Model Family:                Gaussian   Df Model:                           15\n",
      "Link Function:               Identity   Scale:                          1.0027\n",
      "Method:                          IRLS   Log-Likelihood:                -14195.\n",
      "Date:                Mon, 09 Sep 2024   Deviance:                       10011.\n",
      "Time:                        10:44:07   Pearson chi2:                 1.00e+04\n",
      "No. Iterations:                     3   Pseudo R-squ. (CS):              1.000\n",
      "Covariance Type:            nonrobust                                         \n",
      "==============================================================================\n",
      "                 coef    std err          z      P>|z|      [0.025      0.975]\n",
      "------------------------------------------------------------------------------\n",
      "Intercept      0.0278      0.016      1.702      0.089      -0.004       0.060\n",
      "T             -0.0575      0.034     -1.708      0.088      -0.124       0.008\n",
      "M1             4.0102      0.010    399.276      0.000       3.991       4.030\n",
      "M2             3.0145      0.010    301.161      0.000       2.995       3.034\n",
      "X1             2.0014      0.010    200.133      0.000       1.982       2.021\n",
      "X2             0.9991      0.010     99.647      0.000       0.979       1.019\n",
      "X3             0.9995      0.010     99.290      0.000       0.980       1.019\n",
      "X4            -0.0302      0.042     -0.728      0.467      -0.112       0.051\n",
      "X5            -0.0054      0.014     -0.379      0.705      -0.033       0.022\n",
      "X6            -0.0015      0.022     -0.067      0.946      -0.045       0.042\n",
      "X7             0.0088      0.013      0.695      0.487      -0.016       0.034\n",
      "X8             0.0195      0.032      0.618      0.537      -0.042       0.081\n",
      "X9            -0.0172      0.032     -0.544      0.587      -0.079       0.045\n",
      "X10            0.0014      0.022      0.064      0.949      -0.042       0.045\n",
      "X11            0.0197      0.041      0.478      0.633      -0.061       0.101\n",
      "X12           -0.0058      0.022     -0.260      0.795      -0.049       0.038\n",
      "==============================================================================\n"
     ]
    }
   ],
   "source": [
    "#Estimate effect by regressing on outcome using all variables\n",
    "\n",
    "formula1 = 'Y ~ T + M1 + M2 + X1 + X2 + X3 + X4 + X5 + X6 + X7 + X8 + X9 + X10 + X11 + X12'\n",
    "glm_model = smf.glm(formula=formula1, data=df, family=Gaussian())\n",
    "glm_results = glm_model.fit()\n",
    "print(glm_results.summary())\n"
   ]
  },
  {
   "cell_type": "code",
   "execution_count": null,
   "id": "b30e4890-fb53-4963-b816-dbe2fe5fc5cf",
   "metadata": {},
   "outputs": [],
   "source": [
    "#Create train & test data\n",
    "X_train, X_test, T_train, T_test, Y_train, Y_test = train_test_split(df.drop(columns=['T','Y']), df['T'],df['Y'], test_size=0.2, random_state=random_state)"
   ]
  },
  {
   "cell_type": "code",
   "execution_count": 28,
   "id": "20dd8f37-0081-4dfb-bff0-6d0299e0b2f8",
   "metadata": {},
   "outputs": [
    {
     "name": "stdout",
     "output_type": "stream",
     "text": [
      "[LightGBM] [Info] Auto-choosing row-wise multi-threading, the overhead of testing was 0.000419 seconds.\n",
      "You can set `force_row_wise=true` to remove the overhead.\n",
      "And if memory is not enough, you can set `force_col_wise=true`.\n",
      "[LightGBM] [Info] Total Bins 3570\n",
      "[LightGBM] [Info] Number of data points in the train set: 3950, number of used features: 14\n",
      "[LightGBM] [Info] Start training from score 0.151574\n",
      "[LightGBM] [Info] Auto-choosing col-wise multi-threading, the overhead of testing was 0.000692 seconds.\n",
      "You can set `force_col_wise=true` to remove the overhead.\n",
      "[LightGBM] [Info] Total Bins 3570\n",
      "[LightGBM] [Info] Number of data points in the train set: 4050, number of used features: 14\n",
      "[LightGBM] [Info] Start training from score 10.718136\n",
      "fit complete\n",
      "Estimated CATE for the first few samples:\n",
      "[-0.27738731  1.0797598   2.40444492  2.62900697  3.18592453  0.79694245\n",
      "  5.20879451 -3.28280817  1.04216377  2.56480237]\n",
      "\n",
      "Estimated Average Treatment Effect (ATE): 0.5741855630017246\n"
     ]
    }
   ],
   "source": [
    "#Estimate using T-learner and using Random Forest as the underlying model\n",
    "\n",
    "#Define and train model(s). \n",
    "t_learner = TLearner(models = LGBMRegressor(n_estimators=100, random_state=random_state))\n",
    "t_learner.fit(Y_train, T_train, X=X_train)\n",
    "\n",
    "#Calculate ITE (Individual Treatment Effect) for the test set\n",
    "ite = t_learner.effect(X_test)\n",
    "\n",
    "#Calculate ATE (Average Treatment Effect) by taking the average of the ITEs\n",
    "ate = np.mean(ite)\n",
    "print(f\"\\nEstimated Average Treatment Effect (ATE): {ate}\")"
   ]
  },
  {
   "cell_type": "code",
   "execution_count": 29,
   "id": "7c62e59d-a8f0-4b76-819a-02cad7a9ae15",
   "metadata": {
    "tags": []
   },
   "outputs": [
    {
     "name": "stdout",
     "output_type": "stream",
     "text": [
      "Estimated CATE for the first few samples:\n",
      "[ 0.41734866  0.54574989  0.30709583  0.54017103  0.22677871  0.6207967\n",
      "  0.08715282 -0.2471757   0.01737686  0.26454937]\n",
      "\n",
      "Estimated Average Treatment Effect (ATE): 0.29065107183058064\n"
     ]
    },
    {
     "name": "stderr",
     "output_type": "stream",
     "text": [
      "The final model has a nonzero intercept for at least one outcome; it will be subtracted, but consider fitting a model without an intercept if possible.\n"
     ]
    }
   ],
   "source": [
    "#Estimate using DML and using Random Forest as the underlying model\n",
    "\n",
    "#Define DML (Double Machine Learning) setup\n",
    "dml = DML(\n",
    "    model_y=RandomForestRegressor(n_estimators=100, random_state=random_state),\n",
    "    model_t=RandomForestRegressor(n_estimators=100, random_state=random_state),\n",
    "    model_final=StatsModelsLinearRegression(),\n",
    "    cv=3,\n",
    "    random_state=random_state\n",
    ")\n",
    "\n",
    "# Fit the DML model\n",
    "dml.fit(Y_train, T_train, X=X_train)\n",
    "\n",
    "#Calculate ITE (Individual Treatment Effect) for the test set\n",
    "ite = dml.effect(X_test)\n",
    "\n",
    "#Calculate ATE (Average Treatment Effect) by taking the average of the ITEs\n",
    "ate = np.mean(ite)\n",
    "print(f\"\\nEstimated Average Treatment Effect (ATE): {ate}\")"
   ]
  }
 ],
 "metadata": {
  "kernelspec": {
   "display_name": "Python 3 (ipykernel)",
   "language": "python",
   "name": "python3"
  },
  "language_info": {
   "codemirror_mode": {
    "name": "ipython",
    "version": 3
   },
   "file_extension": ".py",
   "mimetype": "text/x-python",
   "name": "python",
   "nbconvert_exporter": "python",
   "pygments_lexer": "ipython3",
   "version": "3.11.7"
  }
 },
 "nbformat": 4,
 "nbformat_minor": 5
}
