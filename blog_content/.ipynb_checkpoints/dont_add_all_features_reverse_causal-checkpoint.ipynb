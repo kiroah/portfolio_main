{
 "cells": [
  {
   "cell_type": "markdown",
   "id": "c6c3074d-c501-460c-9263-d35a18901389",
   "metadata": {
    "tags": []
   },
   "source": [
    "# Why You Can't Add All Features Into Causal Inference Even With ML\n",
    "# Part 2 - Reverse causal\n",
    "Hiro Naito"
   ]
  },
  {
   "cell_type": "markdown",
   "id": "6ac4e606-4098-412c-95df-63a0c24de9c3",
   "metadata": {},
   "source": [
    "## Preps"
   ]
  },
  {
   "cell_type": "code",
   "execution_count": 3,
   "id": "7438faea-b9f1-4088-9903-69b44b03557a",
   "metadata": {
    "tags": []
   },
   "outputs": [],
   "source": [
    "# Libraries \n",
    "\n",
    "import pandas as pd\n",
    "import pickle\n",
    "import math\n",
    "import numpy as np\n",
    "import matplotlib.pyplot as plt\n",
    "\n",
    "from sklearn.model_selection import train_test_split\n",
    "from sklearn.linear_model import LinearRegression, LogisticRegression\n",
    "from sklearn.tree import DecisionTreeRegressor\n",
    "from sklearn.metrics import mean_squared_error, r2_score\n",
    "import statsmodels.api as sm\n",
    "import statsmodels.formula.api as smf\n",
    "from statsmodels.genmod.families import Gaussian\n",
    "\n",
    "from econml.metalearners import SLearner\n",
    "from sklearn.ensemble import RandomForestRegressor, RandomForestClassifier\n",
    "from econml.sklearn_extensions.linear_model import StatsModelsLinearRegression\n",
    "\n",
    "from lightgbm import LGBMClassifier, LGBMRegressor\n",
    "import dowhy\n",
    "from dowhy import CausalModel\n",
    "from dowhy import gcm\n",
    "import networkx as nx\n",
    "\n",
    "from econml.dml import DML\n",
    "from sklearn.ensemble import RandomForestRegressor\n",
    "from sklearn.linear_model import LassoCV\n",
    "from sklearn.model_selection import train_test_split\n",
    "from econml.metalearners import TLearner"
   ]
  },
  {
   "cell_type": "code",
   "execution_count": 4,
   "id": "8df78103-e2f2-4207-b884-e88f686a0274",
   "metadata": {
    "tags": []
   },
   "outputs": [],
   "source": [
    "def create_graph(causal_matrix: pd.DataFrame): \n",
    "    G = nx.DiGraph()\n",
    "    G.add_nodes_from(causal_matrix.columns.to_list())\n",
    "    for i, row in enumerate(causal_matrix.index):\n",
    "        for j, col in enumerate(causal_matrix.columns):\n",
    "            weight = causal_matrix.iloc[i, j]\n",
    "            if weight != 0.0:  # Add an edge only if the weight is non-zero\n",
    "                G.add_edge(row, col, weight=weight)\n",
    "\n",
    "    return G\n",
    "\n",
    "def create_synth_data(G : nx.DiGraph, causal_matrix: pd.DataFrame, n: int, binaries: list[str] = []):\n",
    "    #Get list of nodes in topolocial order\n",
    "    topological_sorted = list(nx.topological_sort(G))\n",
    "\n",
    "    df = pd.DataFrame()\n",
    "    for node in topological_sorted:\n",
    "        if node in binaries:\n",
    "            values = np.zeros(n)\n",
    "            for predecessor in G.predecessors(node):\n",
    "                values += df[predecessor] * causal_matrix.at[predecessor,node]\n",
    "            p = 1 / (1 + np.exp(-1.0 * values))\n",
    "            values = np.random.binomial(1,p,n)\n",
    "        else:\n",
    "            values = np.random.normal(0,1,n)\n",
    "            for predecessor in G.predecessors(node):\n",
    "                values += df[predecessor] * causal_matrix.at[predecessor,node]\n",
    "        df[node] = values\n",
    "    return df"
   ]
  },
  {
   "cell_type": "code",
   "execution_count": 5,
   "id": "6c881ae2-ee10-4582-a4eb-d23a693ece9b",
   "metadata": {
    "tags": []
   },
   "outputs": [],
   "source": [
    "#Synthetic data size\n",
    "n = 100000\n",
    "\n",
    "#Fixing seed\n",
    "random_state=123"
   ]
  },
  {
   "cell_type": "markdown",
   "id": "b54b15b6-5f2f-4703-ba78-399542741eb5",
   "metadata": {},
   "source": [
    "### Simple example with a reverse causal\n",
    "__Example scenarios:__\n",
    "   * __Employment: New job manual__\n",
    "      * __Treatment (T):__ New job manual for better productivity\n",
    "      * __Outcome (Y):__ Productivity\n",
    "      * __Reverse causal (R):__ Job satisfaction score\n",
    "      *  __Why is may be reverse:__ You may assume the job satisfaction leads to productivity, but a lot of study finds productivity leads to higher job satisfaction due to better feel of accomplishments and more recognition for work.\n",
    "   * __Mental Health:__\n",
    "      * __Treatment (T):__ Joining social support group\n",
    "      * __Outcome (Y):__ Depression score\n",
    "      * __Reverse causal (R):__ (Prior) Social isolation level\n",
    "      *  __Why is may be reverse:__ You may assume a patients social isolation leads to higher depresession score from a survey, but some study finds getting depressed (and therefore, higher depresession score) is the reason people decides or gets isolated from friends and society. \n"
   ]
  },
  {
   "cell_type": "code",
   "execution_count": 7,
   "id": "2925e5ac-d576-400e-9c4a-9a2953ec572e",
   "metadata": {
    "tags": []
   },
   "outputs": [
    {
     "name": "stdout",
     "output_type": "stream",
     "text": [
      "       T          R         Y\n",
      "0      1  12.926581  3.179396\n",
      "1      0   3.236063  0.726156\n",
      "2      0   1.139499  0.225181\n",
      "3      0   2.553514  0.617145\n",
      "4      1   1.462814  0.219733\n",
      "...   ..        ...       ...\n",
      "99995  1   6.412075  1.571687\n",
      "99996  0   0.263780 -0.057410\n",
      "99997  0   4.792365  1.243485\n",
      "99998  0  -6.151998 -1.314123\n",
      "99999  0   1.823798  0.545317\n",
      "\n",
      "[100000 rows x 3 columns]\n"
     ]
    }
   ],
   "source": [
    "# Create causal matrix and create graph + synthetic data based on the matrix\n",
    "\n",
    "#Define the directional relationship of the nodes as a matrix. 0.0 indicates there's no relationship\n",
    "causal_matrix = pd.DataFrame([\n",
    "    {\"node_from\": \"T\", \"T\": 0.0, \"Y\": 2.0, \"R\": 0.0},\n",
    "    {\"node_from\": \"Y\", \"T\": 0.0, \"Y\": 0.0, \"R\": 4.0},\n",
    "    {\"node_from\": \"R\", \"T\": 0.0, \"Y\": 0.0, \"R\": 0.0}\n",
    "])\n",
    "\n",
    "causal_matrix.set_index('node_from',inplace=True)\n",
    "\n",
    "#Populate graph based on causal_matrix info\n",
    "G = create_graph(causal_matrix)\n",
    "\n",
    "#Create synthetic data with the relationship specified\n",
    "\n",
    "T = np.random.binomial(1,0.5,n)\n",
    "Y = 2.0 * T + np.random.normal(0,1,n)\n",
    "R = 4.0 * Y + np.random.normal(0,1,n)\n",
    "\n",
    "df = pd.DataFrame({'T':T,'R':R,'Y':Y})\n",
    "print(df)"
   ]
  },
  {
   "cell_type": "code",
   "execution_count": 8,
   "id": "9ec324f6-0329-4efd-b33b-8a0c6cb1c0e4",
   "metadata": {
    "tags": []
   },
   "outputs": [
    {
     "data": {
      "image/png": "[encoded data removed]",
      "text/plain": [
       "<Figure size 400x300 with 1 Axes>"
      ]
     },
     "metadata": {},
     "output_type": "display_data"
    }
   ],
   "source": [
    "# Create graph visualization\n",
    "\n",
    "fixed_positions = {'T':(0,0), 'R':(1,0), 'Y':(0.5,-0.3)}\n",
    "pos = nx.spring_layout(G, k=0.1, scale=2, pos=fixed_positions, fixed=fixed_positions.keys())\n",
    "\n",
    "node_colors = []\n",
    "for node in G.nodes: \n",
    "    if node == 'Y':\n",
    "        node_colors.append('lightgreen')\n",
    "    elif node == 'T':\n",
    "        node_colors.append('lightblue')\n",
    "    elif \"R\" in node:\n",
    "        node_colors.append('lightcoral')\n",
    "    else:\n",
    "        node_colors.append('lightyellow')\n",
    "    \n",
    "plt.figure(figsize=(4, 3))\n",
    "nx.draw(G, pos, with_labels=True, node_size=1000, node_color=node_colors, font_size=14, font_weight='bold')\n",
    "labels = nx.get_edge_attributes(G, 'weight')\n",
    "nx.draw_networkx_edge_labels(G, pos, edge_labels=labels)\n",
    "\n",
    "\n",
    "plt.xlim(-0.2, 1.2)  # Add padding around the x-axis\n",
    "plt.ylim(-1, 0.2)  # Add padding around the y-axis\n",
    "plt.show()"
   ]
  },
  {
   "cell_type": "code",
   "execution_count": 9,
   "id": "cab14016-3c64-4f1d-9911-1cde781a8136",
   "metadata": {
    "tags": []
   },
   "outputs": [
    {
     "name": "stdout",
     "output_type": "stream",
     "text": [
      "                 Generalized Linear Model Regression Results                  \n",
      "==============================================================================\n",
      "Dep. Variable:                      Y   No. Observations:               100000\n",
      "Model:                            GLM   Df Residuals:                    99998\n",
      "Model Family:                Gaussian   Df Model:                            1\n",
      "Link Function:               Identity   Scale:                          1.0020\n",
      "Method:                          IRLS   Log-Likelihood:            -1.4199e+05\n",
      "Date:                Mon, 23 Sep 2024   Deviance:                   1.0020e+05\n",
      "Time:                        13:44:11   Pearson chi2:                 1.00e+05\n",
      "No. Iterations:                     3   Pseudo R-squ. (CS):             0.6345\n",
      "Covariance Type:            nonrobust                                         \n",
      "==============================================================================\n",
      "                 coef    std err          z      P>|z|      [0.025      0.975]\n",
      "------------------------------------------------------------------------------\n",
      "Intercept     -0.0008      0.004     -0.179      0.858      -0.010       0.008\n",
      "T              2.0084      0.006    317.232      0.000       1.996       2.021\n",
      "==============================================================================\n"
     ]
    }
   ],
   "source": [
    "#Estimate effect by regressing on outcome only using treatment variable\n",
    "\n",
    "formula1 = 'Y ~ T'\n",
    "glm_model = smf.glm(formula=formula1, data=df, family=Gaussian())\n",
    "glm_results = glm_model.fit()\n",
    "print(glm_results.summary())\n"
   ]
  },
  {
   "cell_type": "code",
   "execution_count": 10,
   "id": "42b3ccd6-3001-4d96-b8c6-bbab5fabfc1d",
   "metadata": {
    "tags": []
   },
   "outputs": [
    {
     "name": "stdout",
     "output_type": "stream",
     "text": [
      "                 Generalized Linear Model Regression Results                  \n",
      "==============================================================================\n",
      "Dep. Variable:                      Y   No. Observations:               100000\n",
      "Model:                            GLM   Df Residuals:                    99997\n",
      "Model Family:                Gaussian   Df Model:                            2\n",
      "Link Function:               Identity   Scale:                        0.059125\n",
      "Method:                          IRLS   Log-Likelihood:                -487.20\n",
      "Date:                Mon, 23 Sep 2024   Deviance:                       5912.3\n",
      "Time:                        13:44:11   Pearson chi2:                 5.91e+03\n",
      "No. Iterations:                     3   Pseudo R-squ. (CS):              1.000\n",
      "Covariance Type:            nonrobust                                         \n",
      "==============================================================================\n",
      "                 coef    std err          z      P>|z|      [0.025      0.975]\n",
      "------------------------------------------------------------------------------\n",
      "Intercept     -0.0003      0.001     -0.261      0.794      -0.002       0.002\n",
      "T              0.1195      0.002     55.698      0.000       0.115       0.124\n",
      "R              0.2353      0.000   1262.831      0.000       0.235       0.236\n",
      "==============================================================================\n"
     ]
    }
   ],
   "source": [
    "#Estimate effect by regressing on outcome using both treatment and mediator variable\n",
    "\n",
    "formula = 'Y ~ T + R'\n",
    "glm_model = smf.glm(formula=formula, data=df, family=Gaussian())\n",
    "glm_results = glm_model.fit()\n",
    "print(glm_results.summary())\n"
   ]
  },
  {
   "cell_type": "markdown",
   "id": "96c21234-5e5d-4bc7-979a-1c4c8b2d7bf1",
   "metadata": {},
   "source": [
    "### Two reverse causal example\n",
    "__Example scenarios:__\n",
    "   * __Marketing: Retail campaign effectiveness__\n",
    "      * __Treatment (T):__ New marketing campaign for store visit\n",
    "      * __Outcome (Y):__ Sales\n",
    "      * __Reverse causal 1 (R1):__ Customer engagement on social media\n",
    "      * __Reverse causal 2 (R2):__ Website traffic amount\n",
    "      * __Why is may be reverse:__ You may assume higher social media and website engagement leads to higher sales, but for new marketing campaign because its focus is for store visit, new store visits and therefore increase in sales leads to more social media posts and going to website\n",
    "   * __Education: Scholarship program__\n",
    "      * __Treatment (T):__ New student mentoring program\n",
    "      * __Outcome (Y):__ Academic performance\n",
    "      * __Reverse causal 1 (R1):__ Parental encouragement\n",
    "      * __Reverse causal 2 (R2):__ Student particiation in extracurricular activities\n",
    "      * __Why is may be reverse:__ You may assume that parent's encouragement and extracurricular activities leads to higher academic performance, but parental encouragement is much easily done with higher academic performance, and higher academic performance may leads to more confidence joining extracurricular activities\n",
    "\n"
   ]
  },
  {
   "cell_type": "code",
   "execution_count": 60,
   "id": "8b5c69aa-4f07-447e-a8ac-6ffa6ace826a",
   "metadata": {
    "tags": []
   },
   "outputs": [],
   "source": [
    "# Create causal matrix and create graph + synthetic data based on the matrix\n",
    "\n",
    "\n",
    "#Define the directional relationship of the nodes as a matrix. 0.0 indicates there's no relationship\n",
    "causal_matrix = pd.DataFrame([\n",
    "    {\"node_from\": \"T\", \"T\": 0.0, \"Y\": 2.0, \"R1\": 0.0, \"R2\": 0.0},\n",
    "    {\"node_from\": \"Y\", \"T\": 0.0, \"Y\": 0.0, \"R1\": 4.0, \"R2\": 3.0},\n",
    "    {\"node_from\": \"R1\", \"T\": 0.0, \"Y\": 0.0, \"R1\": 0.0, \"R2\": 0.0},\n",
    "    {\"node_from\": \"R2\", \"T\": 0.0, \"Y\": 0.0, \"R1\": 0.0, \"R2\": 0.0},\n",
    "\n",
    "])\n",
    "causal_matrix.set_index('node_from',inplace=True)\n",
    "\n",
    "#Populate graph based on causal_matrix info\n",
    "G = create_graph(causal_matrix)\n",
    "\n",
    "#Define which variables have binary outcome\n",
    "binaries = ['T']\n",
    "\n",
    "#Create synthetic data based on graph and causal_matrix\n",
    "df = create_synth_data(G, causal_matrix, n, binaries)"
   ]
  },
  {
   "cell_type": "code",
   "execution_count": 72,
   "id": "501c5193-fc4f-4967-ae67-4ab30eae2fde",
   "metadata": {
    "tags": []
   },
   "outputs": [
    {
     "data": {
      "image/png": "[encoded data removed]",
      "text/plain": [
       "<Figure size 400x300 with 1 Axes>"
      ]
     },
     "metadata": {},
     "output_type": "display_data"
    }
   ],
   "source": [
    "# Create graph visualization\n",
    "\n",
    "fixed_positions = {'T':(0,0), 'R1':(1,0), 'R2':(1,-0.2), 'Y': (0.5, 0)}\n",
    "pos = nx.spring_layout(G, k=0.1, scale=2, pos=fixed_positions, fixed=fixed_positions.keys())\n",
    "\n",
    "node_colors = []\n",
    "for node in G.nodes: \n",
    "    if node == 'Y':\n",
    "        node_colors.append('lightgreen')\n",
    "    elif node == 'T':\n",
    "        node_colors.append('lightblue')\n",
    "    elif \"R\" in node:\n",
    "        node_colors.append('lightcoral')\n",
    "    else:\n",
    "        node_colors.append('lightyellow')\n",
    "    \n",
    "plt.figure(figsize=(4, 3))\n",
    "nx.draw(G, pos, with_labels=True, node_size=1000, node_color=node_colors, font_size=14, font_weight='bold')\n",
    "labels = nx.get_edge_attributes(G, 'weight')\n",
    "nx.draw_networkx_edge_labels(G, pos, edge_labels=labels)\n",
    "\n",
    "\n",
    "plt.xlim(-0.2, 1.8)  # Add padding around the x-axis\n",
    "plt.ylim(-1, 0.2)  # Add padding around the y-axis\n",
    "plt.show()"
   ]
  },
  {
   "cell_type": "code",
   "execution_count": 64,
   "id": "006a0d82-4303-42c5-983f-1c3678eecce9",
   "metadata": {
    "tags": []
   },
   "outputs": [
    {
     "name": "stdout",
     "output_type": "stream",
     "text": [
      "                 Generalized Linear Model Regression Results                  \n",
      "==============================================================================\n",
      "Dep. Variable:                      Y   No. Observations:               100000\n",
      "Model:                            GLM   Df Residuals:                    99998\n",
      "Model Family:                Gaussian   Df Model:                            1\n",
      "Link Function:               Identity   Scale:                          1.0009\n",
      "Method:                          IRLS   Log-Likelihood:            -1.4194e+05\n",
      "Date:                Tue, 24 Sep 2024   Deviance:                   1.0009e+05\n",
      "Time:                        11:03:28   Pearson chi2:                 1.00e+05\n",
      "No. Iterations:                     3   Pseudo R-squ. (CS):             0.6372\n",
      "Covariance Type:            nonrobust                                         \n",
      "==============================================================================\n",
      "                 coef    std err          z      P>|z|      [0.025      0.975]\n",
      "------------------------------------------------------------------------------\n",
      "Intercept     -0.0039      0.004     -0.864      0.388      -0.013       0.005\n",
      "T              2.0148      0.006    318.419      0.000       2.002       2.027\n",
      "==============================================================================\n"
     ]
    }
   ],
   "source": [
    "#Estimate effect by regressing on outcome only using treatment variable\n",
    "\n",
    "formula1 = 'Y ~ T'\n",
    "glm_model = smf.glm(formula=formula1, data=df, family=Gaussian())\n",
    "glm_results = glm_model.fit()\n",
    "print(glm_results.summary())\n"
   ]
  },
  {
   "cell_type": "code",
   "execution_count": 66,
   "id": "b387abc0-b07e-40d4-a4ea-55745853488e",
   "metadata": {
    "tags": []
   },
   "outputs": [
    {
     "name": "stdout",
     "output_type": "stream",
     "text": [
      "                 Generalized Linear Model Regression Results                  \n",
      "==============================================================================\n",
      "Dep. Variable:                      Y   No. Observations:               100000\n",
      "Model:                            GLM   Df Residuals:                    99996\n",
      "Model Family:                Gaussian   Df Model:                            3\n",
      "Link Function:               Identity   Scale:                        0.038363\n",
      "Method:                          IRLS   Log-Likelihood:                 21142.\n",
      "Date:                Tue, 24 Sep 2024   Deviance:                       3836.1\n",
      "Time:                        11:03:30   Pearson chi2:                 3.84e+03\n",
      "No. Iterations:                     3   Pseudo R-squ. (CS):              1.000\n",
      "Covariance Type:            nonrobust                                         \n",
      "==============================================================================\n",
      "                 coef    std err          z      P>|z|      [0.025      0.975]\n",
      "------------------------------------------------------------------------------\n",
      "Intercept     -0.0005      0.001     -0.561      0.575      -0.002       0.001\n",
      "T              0.0801      0.002     46.071      0.000       0.077       0.084\n",
      "R1             0.1540      0.000    401.343      0.000       0.153       0.155\n",
      "R2             0.1150      0.001    229.767      0.000       0.114       0.116\n",
      "==============================================================================\n"
     ]
    }
   ],
   "source": [
    "#Estimate effect by regressing on outcome using both treatment and mediator variables\n",
    "\n",
    "formula1 = 'Y ~ T + R1 + R2'\n",
    "glm_model = smf.glm(formula=formula1, data=df, family=Gaussian())\n",
    "glm_results = glm_model.fit()\n",
    "print(glm_results.summary())\n"
   ]
  },
  {
   "cell_type": "code",
   "execution_count": 68,
   "id": "ead6991b-2231-435a-88ad-00bb8ac1ee5c",
   "metadata": {
    "tags": []
   },
   "outputs": [
    {
     "name": "stdout",
     "output_type": "stream",
     "text": [
      "                 Generalized Linear Model Regression Results                  \n",
      "==============================================================================\n",
      "Dep. Variable:                      Y   No. Observations:               100000\n",
      "Model:                            GLM   Df Residuals:                    99997\n",
      "Model Family:                Gaussian   Df Model:                            2\n",
      "Link Function:               Identity   Scale:                         0.10016\n",
      "Method:                          IRLS   Log-Likelihood:                -26842.\n",
      "Date:                Tue, 24 Sep 2024   Deviance:                       10015.\n",
      "Time:                        11:03:33   Pearson chi2:                 1.00e+04\n",
      "No. Iterations:                     3   Pseudo R-squ. (CS):              1.000\n",
      "Covariance Type:            nonrobust                                         \n",
      "==============================================================================\n",
      "                 coef    std err          z      P>|z|      [0.025      0.975]\n",
      "------------------------------------------------------------------------------\n",
      "Intercept      0.0010      0.001      0.673      0.501      -0.002       0.004\n",
      "T              0.2025      0.003     73.164      0.000       0.197       0.208\n",
      "R2             0.2998      0.000    948.329      0.000       0.299       0.300\n",
      "==============================================================================\n"
     ]
    }
   ],
   "source": [
    "#Estimate effect by regressing on outcome using both treatment and mediator variables\n",
    "\n",
    "formula1 = 'Y ~ T + R2'\n",
    "glm_model = smf.glm(formula=formula1, data=df, family=Gaussian())\n",
    "glm_results = glm_model.fit()\n",
    "print(glm_results.summary())\n"
   ]
  },
  {
   "cell_type": "markdown",
   "id": "67829235-8eb5-401b-b6a7-5cb99e87880e",
   "metadata": {},
   "source": [
    "### Complex example"
   ]
  },
  {
   "cell_type": "code",
   "execution_count": 22,
   "id": "b3681867-2fe7-42ba-846a-7f49a29b1787",
   "metadata": {
    "tags": []
   },
   "outputs": [],
   "source": [
    "# Import causal matrix and create graph + synthetic data based on the matrix\n",
    "\n",
    "\n",
    "causal_matrix = pd.read_csv(\"Dont add all features - Reverse causal.csv\", index_col=0)\n",
    "causal_matrix.fillna(0.0,inplace=True)\n",
    "#Define the directional relationship of the nodes as a matrix. 0.0 indicates there's no relationship\n",
    "\n",
    "#Populate graph based on causal_matrix info\n",
    "G = create_graph(causal_matrix)\n",
    "\n",
    "#Define which variables have binary outcome\n",
    "binaries = ['T']\n",
    "\n",
    "#Create synthetic data based on graph and causal_matrix\n",
    "df = create_synth_data(G, causal_matrix, n, binaries)"
   ]
  },
  {
   "cell_type": "code",
   "execution_count": 23,
   "id": "cf969c8a-01c1-4fee-9e63-d2d0f7c84f76",
   "metadata": {
    "tags": []
   },
   "outputs": [
    {
     "data": {
      "image/png": "[encoded data removed]",
      "text/plain": [
       "<Figure size 1000x600 with 1 Axes>"
      ]
     },
     "metadata": {},
     "output_type": "display_data"
    }
   ],
   "source": [
    "# Create graph visualization\n",
    "\n",
    "fixed_positions = {'T':(0,0), 'R1':(1,0), 'R2':(1.5,0), 'Y': (0.5, 0)}\n",
    "pos = nx.spring_layout(G, k=0.2, scale=2, pos=fixed_positions, fixed=fixed_positions.keys())\n",
    "\n",
    "node_colors = []\n",
    "for node in G.nodes: \n",
    "    if node == 'Y':\n",
    "        node_colors.append('lightgreen')\n",
    "    elif node == 'T':\n",
    "        node_colors.append('lightblue')\n",
    "    elif \"R\" in node:\n",
    "        node_colors.append('lightcoral')\n",
    "    else:\n",
    "        node_colors.append('lightyellow')\n",
    "    \n",
    "plt.figure(figsize=(10,6))\n",
    "nx.draw(G, pos, with_labels=True, node_size=500, node_color=node_colors, font_size=10, font_weight='bold')\n",
    "labels = nx.get_edge_attributes(G, 'weight')\n",
    "nx.draw_networkx_edge_labels(G, pos, edge_labels=labels)\n",
    "\n",
    "\n",
    "#plt.xlim(-0.2, 1.2)  # Add padding around the x-axis\n",
    "#plt.ylim(-1, 0.2)  # Add padding around the y-axis\n",
    "plt.show()"
   ]
  },
  {
   "cell_type": "code",
   "execution_count": 24,
   "id": "9b039e3a-e7ce-4a46-a4f9-2b7aafdb32e0",
   "metadata": {
    "tags": []
   },
   "outputs": [
    {
     "name": "stdout",
     "output_type": "stream",
     "text": [
      "                 Generalized Linear Model Regression Results                  \n",
      "==============================================================================\n",
      "Dep. Variable:                      Y   No. Observations:               100000\n",
      "Model:                            GLM   Df Residuals:                    99998\n",
      "Model Family:                Gaussian   Df Model:                            1\n",
      "Link Function:               Identity   Scale:                          856.91\n",
      "Method:                          IRLS   Log-Likelihood:            -4.7956e+05\n",
      "Date:                Mon, 23 Sep 2024   Deviance:                   8.5689e+07\n",
      "Time:                        13:44:12   Pearson chi2:                 8.57e+07\n",
      "No. Iterations:                     3   Pseudo R-squ. (CS):           0.001276\n",
      "Covariance Type:            nonrobust                                         \n",
      "==============================================================================\n",
      "                 coef    std err          z      P>|z|      [0.025      0.975]\n",
      "------------------------------------------------------------------------------\n",
      "Intercept      0.1711      0.131      1.308      0.191      -0.085       0.427\n",
      "T              2.0920      0.185     11.300      0.000       1.729       2.455\n",
      "==============================================================================\n"
     ]
    }
   ],
   "source": [
    "#Estimate effect by regressing on outcome only using treatment variable\n",
    "\n",
    "formula1 = 'Y ~ T'\n",
    "glm_model = smf.glm(formula=formula1, data=df, family=Gaussian())\n",
    "glm_results = glm_model.fit()\n",
    "print(glm_results.summary())\n"
   ]
  },
  {
   "cell_type": "code",
   "execution_count": 25,
   "id": "32764fe1-f29c-49ba-baf0-3ac8e2f28b87",
   "metadata": {
    "tags": []
   },
   "outputs": [
    {
     "name": "stdout",
     "output_type": "stream",
     "text": [
      "                 Generalized Linear Model Regression Results                  \n",
      "==============================================================================\n",
      "Dep. Variable:                      Y   No. Observations:               100000\n",
      "Model:                            GLM   Df Residuals:                    99984\n",
      "Model Family:                Gaussian   Df Model:                           15\n",
      "Link Function:               Identity   Scale:                        0.058706\n",
      "Method:                          IRLS   Log-Likelihood:                -124.79\n",
      "Date:                Mon, 23 Sep 2024   Deviance:                       5869.6\n",
      "Time:                        13:44:12   Pearson chi2:                 5.87e+03\n",
      "No. Iterations:                     3   Pseudo R-squ. (CS):              1.000\n",
      "Covariance Type:            nonrobust                                         \n",
      "==============================================================================\n",
      "                 coef    std err          z      P>|z|      [0.025      0.975]\n",
      "------------------------------------------------------------------------------\n",
      "Intercept      0.0010      0.001      0.707      0.479      -0.002       0.004\n",
      "T              0.1160      0.003     41.099      0.000       0.111       0.122\n",
      "R1             0.2337      0.002    101.627      0.000       0.229       0.238\n",
      "R2             0.0007      0.001      0.876      0.381      -0.001       0.002\n",
      "X1             0.2868      0.004     75.395      0.000       0.279       0.294\n",
      "X2             0.1423      0.002     70.369      0.000       0.138       0.146\n",
      "X3             0.0022      0.002      1.083      0.279      -0.002       0.006\n",
      "X4             0.0043      0.004      1.091      0.275      -0.003       0.012\n",
      "X5            -0.7084      0.001   -746.155      0.000      -0.710      -0.707\n",
      "X6             0.0008      0.001      0.620      0.535      -0.002       0.003\n",
      "X7            -0.2371      0.001   -301.001      0.000      -0.239      -0.236\n",
      "X8             0.0008      0.001      0.897      0.370      -0.001       0.002\n",
      "X9             0.0027      0.002      1.562      0.118      -0.001       0.006\n",
      "X10           -0.0021      0.002     -1.116      0.264      -0.006       0.002\n",
      "X11           -0.0017      0.001     -1.241      0.215      -0.004       0.001\n",
      "X12            0.1147      0.002     68.393      0.000       0.111       0.118\n",
      "==============================================================================\n"
     ]
    }
   ],
   "source": [
    "#Estimate effect by regressing on outcome using all variables\n",
    "\n",
    "formula1 = 'Y ~ T + R1 + R2 + X1 + X2 + X3 + X4 + X5 + X6 + X7 + X8 + X9 + X10 + X11 + X12'\n",
    "glm_model = smf.glm(formula=formula1, data=df, family=Gaussian())\n",
    "glm_results = glm_model.fit()\n",
    "print(glm_results.summary())\n"
   ]
  },
  {
   "cell_type": "code",
   "execution_count": 26,
   "id": "b30e4890-fb53-4963-b816-dbe2fe5fc5cf",
   "metadata": {},
   "outputs": [],
   "source": [
    "#Create train & test data\n",
    "X_train, X_test, T_train, T_test, Y_train, Y_test = train_test_split(df.drop(columns=['T','Y']), df['T'],df['Y'], test_size=0.2, random_state=random_state)"
   ]
  },
  {
   "cell_type": "code",
   "execution_count": 27,
   "id": "20dd8f37-0081-4dfb-bff0-6d0299e0b2f8",
   "metadata": {},
   "outputs": [
    {
     "name": "stdout",
     "output_type": "stream",
     "text": [
      "[LightGBM] [Info] Auto-choosing col-wise multi-threading, the overhead of testing was 0.002021 seconds.\n",
      "You can set `force_col_wise=true` to remove the overhead.\n",
      "[LightGBM] [Info] Total Bins 3570\n",
      "[LightGBM] [Info] Number of data points in the train set: 40133, number of used features: 14\n",
      "[LightGBM] [Info] Start training from score 0.158939\n",
      "[LightGBM] [Info] Auto-choosing col-wise multi-threading, the overhead of testing was 0.001765 seconds.\n",
      "You can set `force_col_wise=true` to remove the overhead.\n",
      "[LightGBM] [Info] Total Bins 3570\n",
      "[LightGBM] [Info] Number of data points in the train set: 39867, number of used features: 14\n",
      "[LightGBM] [Info] Start training from score 2.323433\n",
      "\n",
      "Estimated Conditional Average Treatment Effect (ATE): 0.02095223713821671\n"
     ]
    }
   ],
   "source": [
    "#Estimate using T-learner and using Random Forest as the underlying model\n",
    "\n",
    "#Define and train model(s). \n",
    "t_learner = TLearner(models = LGBMRegressor(n_estimators=100, random_state=random_state))\n",
    "t_learner.fit(Y_train, T_train, X=X_train)\n",
    "\n",
    "#Calculate ITE (Individual Treatment Effect) for the test set\n",
    "ite = t_learner.effect(X_test)\n",
    "\n",
    "#Calculate ATE (Average Treatment Effect) by taking the average of the ITEs\n",
    "cate = np.mean(ite)\n",
    "print(f\"\\nEstimated Conditional Average Treatment Effect (ATE): {cate}\")"
   ]
  },
  {
   "cell_type": "code",
   "execution_count": 28,
   "id": "7c62e59d-a8f0-4b76-819a-02cad7a9ae15",
   "metadata": {
    "tags": []
   },
   "outputs": [
    {
     "name": "stdout",
     "output_type": "stream",
     "text": [
      "\n",
      "Estimated Conditional Average Treatment Effect (ATE): 0.0037685241626691664\n"
     ]
    },
    {
     "name": "stderr",
     "output_type": "stream",
     "text": [
      "The final model has a nonzero intercept for at least one outcome; it will be subtracted, but consider fitting a model without an intercept if possible.\n"
     ]
    }
   ],
   "source": [
    "#Estimate using DML and using Random Forest as the underlying model\n",
    "\n",
    "#Define DML (Double Machine Learning) setup\n",
    "dml = DML(\n",
    "    model_y=RandomForestRegressor(n_estimators=100, random_state=random_state),\n",
    "    model_t=RandomForestRegressor(n_estimators=100, random_state=random_state),\n",
    "    model_final=StatsModelsLinearRegression(),\n",
    "    cv=3,\n",
    "    random_state=random_state\n",
    ")\n",
    "\n",
    "# Fit the DML model\n",
    "dml.fit(Y_train, T_train, X=X_train)\n",
    "\n",
    "#Calculate ITE (Individual Treatment Effect) for the test set\n",
    "ite = dml.effect(X_test)\n",
    "\n",
    "#Calculate ATE (Average Treatment Effect) by taking the average of the ITEs\n",
    "cate = np.mean(ite)\n",
    "print(f\"\\nEstimated Conditional Average Treatment Effect (ATE): {cate}\")"
   ]
  },
  {
   "cell_type": "code",
   "execution_count": null,
   "id": "4ec4b8c4-2cf9-4d09-b694-fa3b32138e2d",
   "metadata": {},
   "outputs": [],
   "source": []
  }
 ],
 "metadata": {
  "kernelspec": {
   "display_name": "Python 3 (ipykernel)",
   "language": "python",
   "name": "python3"
  },
  "language_info": {
   "codemirror_mode": {
    "name": "ipython",
    "version": 3
   },
   "file_extension": ".py",
   "mimetype": "text/x-python",
   "name": "python",
   "nbconvert_exporter": "python",
   "pygments_lexer": "ipython3",
   "version": "3.11.7"
  }
 },
 "nbformat": 4,
 "nbformat_minor": 5
}
